{
  "cells": [
    {
      "cell_type": "code",
      "execution_count": 1,
      "metadata": {
        "colab": {
          "base_uri": "https://localhost:8080/"
        },
        "id": "sMbOArlaTzGu",
        "outputId": "7adc19ff-ad14-47aa-d641-5144ec60f011"
      },
      "outputs": [
        {
          "output_type": "stream",
          "name": "stdout",
          "text": [
            "Collecting polara\n",
            "  Cloning https://github.com/evfro/polara.git (to revision develop) to /tmp/pip-install-aig_we64/polara_30e62832cc74418fb20361fc4d13a9cc\n",
            "  Running command git clone -q https://github.com/evfro/polara.git /tmp/pip-install-aig_we64/polara_30e62832cc74418fb20361fc4d13a9cc\n",
            "  Running command git checkout -b develop --track origin/develop\n",
            "  Switched to a new branch 'develop'\n",
            "  Branch 'develop' set up to track remote branch 'develop' from 'origin'.\n",
            "Building wheels for collected packages: polara\n",
            "  Building wheel for polara (setup.py) ... \u001b[?25l\u001b[?25hdone\n",
            "  Created wheel for polara: filename=polara-0.7.2.dev0-py3-none-any.whl size=87177 sha256=7e42a730b78f7301327b5f753f78a9c15c0d129e1821efa8c992edb21710ca4d\n",
            "  Stored in directory: /tmp/pip-ephem-wheel-cache-gx_vb8wx/wheels/19/88/81/920c4189a6b0b92f19b02f18fcb44ded22ae852f7b09ab2e28\n",
            "Successfully built polara\n",
            "Installing collected packages: polara\n",
            "Successfully installed polara-0.7.2.dev0\n"
          ]
        }
      ],
      "source": [
        "! pip install --no-cache-dir --upgrade git+https://github.com/evfro/polara.git@develop#egg=polara"
      ]
    },
    {
      "cell_type": "code",
      "execution_count": 2,
      "metadata": {
        "id": "AbAXigwITdNq"
      },
      "outputs": [],
      "source": [
        "from polara import SVDModel\n",
        "from polara.recommender.data import RecommenderData\n",
        "import numpy as np\n",
        "import pandas as pd\n",
        "from tqdm import tqdm"
      ]
    },
    {
      "cell_type": "markdown",
      "source": [
        "## Data preprocessing and analysis "
      ],
      "metadata": {
        "id": "Ub_FTm6xxerj"
      }
    },
    {
      "cell_type": "code",
      "source": [
        "memes = pd.read_csv('memes.csv', names=['meme_id', 'file_id', 'author_id', 'timestamp', \n",
        "                                        'filetype', 'unique_id', 'caption' ], header=None)\n",
        "users_memes = pd.read_csv('users_memes.csv', names=['id__', 'chat_id', 'meme_id', 'reaction',\n",
        "                                        'timestamp', 'message_id', 'timestamp_reaction'], header=None)\n",
        "users = pd.read_csv('users.csv', names=['chat_id', 'name', '?', 'username',\n",
        "                                        'date_add', 'is_fresh', '??'], header=None)\n",
        "\n",
        "memes_with_clip = pd.read_csv('memes_wclip_feats.csv')"
      ],
      "metadata": {
        "id": "90Ymc8DfxVHS"
      },
      "execution_count": 27,
      "outputs": []
    },
    {
      "cell_type": "code",
      "source": [
        "users.head()"
      ],
      "metadata": {
        "colab": {
          "base_uri": "https://localhost:8080/",
          "height": 206
        },
        "id": "km3kXN9XOKpe",
        "outputId": "5da6e01f-3fc4-46e9-ca76-6db9bd18a8cb"
      },
      "execution_count": 28,
      "outputs": [
        {
          "output_type": "execute_result",
          "data": {
            "text/plain": [
              "     chat_id               name          ?          username  \\\n",
              "0  259156066  Аринка-карантинка  259156066  chameleon_lizard   \n",
              "1  577915728           Спиридон  577915728       Blackaddder   \n",
              "2  439924549               oleg  439924549            ol3gka   \n",
              "3  411123163                 MX  411123163             mx_bz   \n",
              "4  401426372                Аня  401426372          anvanche   \n",
              "\n",
              "                     date_add  is_fresh  ??  \n",
              "0  2021-12-10 22:22:39.000000      True NaN  \n",
              "1  2021-12-11 05:57:23.000000      True NaN  \n",
              "2  2021-12-11 06:21:47.000000      True NaN  \n",
              "3  2022-01-19 07:31:46.000000     False NaN  \n",
              "4  2021-12-11 07:50:22.000000      True NaN  "
            ],
            "text/html": [
              "\n",
              "  <div id=\"df-88b54250-8e0c-4665-869b-40439565e279\">\n",
              "    <div class=\"colab-df-container\">\n",
              "      <div>\n",
              "<style scoped>\n",
              "    .dataframe tbody tr th:only-of-type {\n",
              "        vertical-align: middle;\n",
              "    }\n",
              "\n",
              "    .dataframe tbody tr th {\n",
              "        vertical-align: top;\n",
              "    }\n",
              "\n",
              "    .dataframe thead th {\n",
              "        text-align: right;\n",
              "    }\n",
              "</style>\n",
              "<table border=\"1\" class=\"dataframe\">\n",
              "  <thead>\n",
              "    <tr style=\"text-align: right;\">\n",
              "      <th></th>\n",
              "      <th>chat_id</th>\n",
              "      <th>name</th>\n",
              "      <th>?</th>\n",
              "      <th>username</th>\n",
              "      <th>date_add</th>\n",
              "      <th>is_fresh</th>\n",
              "      <th>??</th>\n",
              "    </tr>\n",
              "  </thead>\n",
              "  <tbody>\n",
              "    <tr>\n",
              "      <th>0</th>\n",
              "      <td>259156066</td>\n",
              "      <td>Аринка-карантинка</td>\n",
              "      <td>259156066</td>\n",
              "      <td>chameleon_lizard</td>\n",
              "      <td>2021-12-10 22:22:39.000000</td>\n",
              "      <td>True</td>\n",
              "      <td>NaN</td>\n",
              "    </tr>\n",
              "    <tr>\n",
              "      <th>1</th>\n",
              "      <td>577915728</td>\n",
              "      <td>Спиридон</td>\n",
              "      <td>577915728</td>\n",
              "      <td>Blackaddder</td>\n",
              "      <td>2021-12-11 05:57:23.000000</td>\n",
              "      <td>True</td>\n",
              "      <td>NaN</td>\n",
              "    </tr>\n",
              "    <tr>\n",
              "      <th>2</th>\n",
              "      <td>439924549</td>\n",
              "      <td>oleg</td>\n",
              "      <td>439924549</td>\n",
              "      <td>ol3gka</td>\n",
              "      <td>2021-12-11 06:21:47.000000</td>\n",
              "      <td>True</td>\n",
              "      <td>NaN</td>\n",
              "    </tr>\n",
              "    <tr>\n",
              "      <th>3</th>\n",
              "      <td>411123163</td>\n",
              "      <td>MX</td>\n",
              "      <td>411123163</td>\n",
              "      <td>mx_bz</td>\n",
              "      <td>2022-01-19 07:31:46.000000</td>\n",
              "      <td>False</td>\n",
              "      <td>NaN</td>\n",
              "    </tr>\n",
              "    <tr>\n",
              "      <th>4</th>\n",
              "      <td>401426372</td>\n",
              "      <td>Аня</td>\n",
              "      <td>401426372</td>\n",
              "      <td>anvanche</td>\n",
              "      <td>2021-12-11 07:50:22.000000</td>\n",
              "      <td>True</td>\n",
              "      <td>NaN</td>\n",
              "    </tr>\n",
              "  </tbody>\n",
              "</table>\n",
              "</div>\n",
              "      <button class=\"colab-df-convert\" onclick=\"convertToInteractive('df-88b54250-8e0c-4665-869b-40439565e279')\"\n",
              "              title=\"Convert this dataframe to an interactive table.\"\n",
              "              style=\"display:none;\">\n",
              "        \n",
              "  <svg xmlns=\"http://www.w3.org/2000/svg\" height=\"24px\"viewBox=\"0 0 24 24\"\n",
              "       width=\"24px\">\n",
              "    <path d=\"M0 0h24v24H0V0z\" fill=\"none\"/>\n",
              "    <path d=\"M18.56 5.44l.94 2.06.94-2.06 2.06-.94-2.06-.94-.94-2.06-.94 2.06-2.06.94zm-11 1L8.5 8.5l.94-2.06 2.06-.94-2.06-.94L8.5 2.5l-.94 2.06-2.06.94zm10 10l.94 2.06.94-2.06 2.06-.94-2.06-.94-.94-2.06-.94 2.06-2.06.94z\"/><path d=\"M17.41 7.96l-1.37-1.37c-.4-.4-.92-.59-1.43-.59-.52 0-1.04.2-1.43.59L10.3 9.45l-7.72 7.72c-.78.78-.78 2.05 0 2.83L4 21.41c.39.39.9.59 1.41.59.51 0 1.02-.2 1.41-.59l7.78-7.78 2.81-2.81c.8-.78.8-2.07 0-2.86zM5.41 20L4 18.59l7.72-7.72 1.47 1.35L5.41 20z\"/>\n",
              "  </svg>\n",
              "      </button>\n",
              "      \n",
              "  <style>\n",
              "    .colab-df-container {\n",
              "      display:flex;\n",
              "      flex-wrap:wrap;\n",
              "      gap: 12px;\n",
              "    }\n",
              "\n",
              "    .colab-df-convert {\n",
              "      background-color: #E8F0FE;\n",
              "      border: none;\n",
              "      border-radius: 50%;\n",
              "      cursor: pointer;\n",
              "      display: none;\n",
              "      fill: #1967D2;\n",
              "      height: 32px;\n",
              "      padding: 0 0 0 0;\n",
              "      width: 32px;\n",
              "    }\n",
              "\n",
              "    .colab-df-convert:hover {\n",
              "      background-color: #E2EBFA;\n",
              "      box-shadow: 0px 1px 2px rgba(60, 64, 67, 0.3), 0px 1px 3px 1px rgba(60, 64, 67, 0.15);\n",
              "      fill: #174EA6;\n",
              "    }\n",
              "\n",
              "    [theme=dark] .colab-df-convert {\n",
              "      background-color: #3B4455;\n",
              "      fill: #D2E3FC;\n",
              "    }\n",
              "\n",
              "    [theme=dark] .colab-df-convert:hover {\n",
              "      background-color: #434B5C;\n",
              "      box-shadow: 0px 1px 3px 1px rgba(0, 0, 0, 0.15);\n",
              "      filter: drop-shadow(0px 1px 2px rgba(0, 0, 0, 0.3));\n",
              "      fill: #FFFFFF;\n",
              "    }\n",
              "  </style>\n",
              "\n",
              "      <script>\n",
              "        const buttonEl =\n",
              "          document.querySelector('#df-88b54250-8e0c-4665-869b-40439565e279 button.colab-df-convert');\n",
              "        buttonEl.style.display =\n",
              "          google.colab.kernel.accessAllowed ? 'block' : 'none';\n",
              "\n",
              "        async function convertToInteractive(key) {\n",
              "          const element = document.querySelector('#df-88b54250-8e0c-4665-869b-40439565e279');\n",
              "          const dataTable =\n",
              "            await google.colab.kernel.invokeFunction('convertToInteractive',\n",
              "                                                     [key], {});\n",
              "          if (!dataTable) return;\n",
              "\n",
              "          const docLinkHtml = 'Like what you see? Visit the ' +\n",
              "            '<a target=\"_blank\" href=https://colab.research.google.com/notebooks/data_table.ipynb>data table notebook</a>'\n",
              "            + ' to learn more about interactive tables.';\n",
              "          element.innerHTML = '';\n",
              "          dataTable['output_type'] = 'display_data';\n",
              "          await google.colab.output.renderOutput(dataTable, element);\n",
              "          const docLink = document.createElement('div');\n",
              "          docLink.innerHTML = docLinkHtml;\n",
              "          element.appendChild(docLink);\n",
              "        }\n",
              "      </script>\n",
              "    </div>\n",
              "  </div>\n",
              "  "
            ]
          },
          "metadata": {},
          "execution_count": 28
        }
      ]
    },
    {
      "cell_type": "code",
      "source": [
        "users_memes.head()"
      ],
      "metadata": {
        "colab": {
          "base_uri": "https://localhost:8080/",
          "height": 206
        },
        "id": "VXu_qLoL5r7D",
        "outputId": "ede2e847-df94-4358-9795-45af60949f17"
      },
      "execution_count": 29,
      "outputs": [
        {
          "output_type": "execute_result",
          "data": {
            "text/plain": [
              "   id__    chat_id  meme_id  reaction                   timestamp  message_id  \\\n",
              "0  1008  354637850      570      1002  2022-01-18 21:53:30.000000        7669   \n",
              "1  1018  354637850      597      1002  2022-01-18 23:36:17.000000        7689   \n",
              "2  1028  354637850      130      1002  2022-01-18 23:56:20.000000        7715   \n",
              "3  1038  354637850     2619      1002  2022-01-19 00:46:39.000000        7745   \n",
              "4  1048  354637850      576      1002  2022-01-19 01:10:00.000000        7769   \n",
              "\n",
              "  timestamp_reaction  \n",
              "0                NaN  \n",
              "1                NaN  \n",
              "2                NaN  \n",
              "3                NaN  \n",
              "4                NaN  "
            ],
            "text/html": [
              "\n",
              "  <div id=\"df-238f8ac3-a2e5-4323-870e-3f696057e03f\">\n",
              "    <div class=\"colab-df-container\">\n",
              "      <div>\n",
              "<style scoped>\n",
              "    .dataframe tbody tr th:only-of-type {\n",
              "        vertical-align: middle;\n",
              "    }\n",
              "\n",
              "    .dataframe tbody tr th {\n",
              "        vertical-align: top;\n",
              "    }\n",
              "\n",
              "    .dataframe thead th {\n",
              "        text-align: right;\n",
              "    }\n",
              "</style>\n",
              "<table border=\"1\" class=\"dataframe\">\n",
              "  <thead>\n",
              "    <tr style=\"text-align: right;\">\n",
              "      <th></th>\n",
              "      <th>id__</th>\n",
              "      <th>chat_id</th>\n",
              "      <th>meme_id</th>\n",
              "      <th>reaction</th>\n",
              "      <th>timestamp</th>\n",
              "      <th>message_id</th>\n",
              "      <th>timestamp_reaction</th>\n",
              "    </tr>\n",
              "  </thead>\n",
              "  <tbody>\n",
              "    <tr>\n",
              "      <th>0</th>\n",
              "      <td>1008</td>\n",
              "      <td>354637850</td>\n",
              "      <td>570</td>\n",
              "      <td>1002</td>\n",
              "      <td>2022-01-18 21:53:30.000000</td>\n",
              "      <td>7669</td>\n",
              "      <td>NaN</td>\n",
              "    </tr>\n",
              "    <tr>\n",
              "      <th>1</th>\n",
              "      <td>1018</td>\n",
              "      <td>354637850</td>\n",
              "      <td>597</td>\n",
              "      <td>1002</td>\n",
              "      <td>2022-01-18 23:36:17.000000</td>\n",
              "      <td>7689</td>\n",
              "      <td>NaN</td>\n",
              "    </tr>\n",
              "    <tr>\n",
              "      <th>2</th>\n",
              "      <td>1028</td>\n",
              "      <td>354637850</td>\n",
              "      <td>130</td>\n",
              "      <td>1002</td>\n",
              "      <td>2022-01-18 23:56:20.000000</td>\n",
              "      <td>7715</td>\n",
              "      <td>NaN</td>\n",
              "    </tr>\n",
              "    <tr>\n",
              "      <th>3</th>\n",
              "      <td>1038</td>\n",
              "      <td>354637850</td>\n",
              "      <td>2619</td>\n",
              "      <td>1002</td>\n",
              "      <td>2022-01-19 00:46:39.000000</td>\n",
              "      <td>7745</td>\n",
              "      <td>NaN</td>\n",
              "    </tr>\n",
              "    <tr>\n",
              "      <th>4</th>\n",
              "      <td>1048</td>\n",
              "      <td>354637850</td>\n",
              "      <td>576</td>\n",
              "      <td>1002</td>\n",
              "      <td>2022-01-19 01:10:00.000000</td>\n",
              "      <td>7769</td>\n",
              "      <td>NaN</td>\n",
              "    </tr>\n",
              "  </tbody>\n",
              "</table>\n",
              "</div>\n",
              "      <button class=\"colab-df-convert\" onclick=\"convertToInteractive('df-238f8ac3-a2e5-4323-870e-3f696057e03f')\"\n",
              "              title=\"Convert this dataframe to an interactive table.\"\n",
              "              style=\"display:none;\">\n",
              "        \n",
              "  <svg xmlns=\"http://www.w3.org/2000/svg\" height=\"24px\"viewBox=\"0 0 24 24\"\n",
              "       width=\"24px\">\n",
              "    <path d=\"M0 0h24v24H0V0z\" fill=\"none\"/>\n",
              "    <path d=\"M18.56 5.44l.94 2.06.94-2.06 2.06-.94-2.06-.94-.94-2.06-.94 2.06-2.06.94zm-11 1L8.5 8.5l.94-2.06 2.06-.94-2.06-.94L8.5 2.5l-.94 2.06-2.06.94zm10 10l.94 2.06.94-2.06 2.06-.94-2.06-.94-.94-2.06-.94 2.06-2.06.94z\"/><path d=\"M17.41 7.96l-1.37-1.37c-.4-.4-.92-.59-1.43-.59-.52 0-1.04.2-1.43.59L10.3 9.45l-7.72 7.72c-.78.78-.78 2.05 0 2.83L4 21.41c.39.39.9.59 1.41.59.51 0 1.02-.2 1.41-.59l7.78-7.78 2.81-2.81c.8-.78.8-2.07 0-2.86zM5.41 20L4 18.59l7.72-7.72 1.47 1.35L5.41 20z\"/>\n",
              "  </svg>\n",
              "      </button>\n",
              "      \n",
              "  <style>\n",
              "    .colab-df-container {\n",
              "      display:flex;\n",
              "      flex-wrap:wrap;\n",
              "      gap: 12px;\n",
              "    }\n",
              "\n",
              "    .colab-df-convert {\n",
              "      background-color: #E8F0FE;\n",
              "      border: none;\n",
              "      border-radius: 50%;\n",
              "      cursor: pointer;\n",
              "      display: none;\n",
              "      fill: #1967D2;\n",
              "      height: 32px;\n",
              "      padding: 0 0 0 0;\n",
              "      width: 32px;\n",
              "    }\n",
              "\n",
              "    .colab-df-convert:hover {\n",
              "      background-color: #E2EBFA;\n",
              "      box-shadow: 0px 1px 2px rgba(60, 64, 67, 0.3), 0px 1px 3px 1px rgba(60, 64, 67, 0.15);\n",
              "      fill: #174EA6;\n",
              "    }\n",
              "\n",
              "    [theme=dark] .colab-df-convert {\n",
              "      background-color: #3B4455;\n",
              "      fill: #D2E3FC;\n",
              "    }\n",
              "\n",
              "    [theme=dark] .colab-df-convert:hover {\n",
              "      background-color: #434B5C;\n",
              "      box-shadow: 0px 1px 3px 1px rgba(0, 0, 0, 0.15);\n",
              "      filter: drop-shadow(0px 1px 2px rgba(0, 0, 0, 0.3));\n",
              "      fill: #FFFFFF;\n",
              "    }\n",
              "  </style>\n",
              "\n",
              "      <script>\n",
              "        const buttonEl =\n",
              "          document.querySelector('#df-238f8ac3-a2e5-4323-870e-3f696057e03f button.colab-df-convert');\n",
              "        buttonEl.style.display =\n",
              "          google.colab.kernel.accessAllowed ? 'block' : 'none';\n",
              "\n",
              "        async function convertToInteractive(key) {\n",
              "          const element = document.querySelector('#df-238f8ac3-a2e5-4323-870e-3f696057e03f');\n",
              "          const dataTable =\n",
              "            await google.colab.kernel.invokeFunction('convertToInteractive',\n",
              "                                                     [key], {});\n",
              "          if (!dataTable) return;\n",
              "\n",
              "          const docLinkHtml = 'Like what you see? Visit the ' +\n",
              "            '<a target=\"_blank\" href=https://colab.research.google.com/notebooks/data_table.ipynb>data table notebook</a>'\n",
              "            + ' to learn more about interactive tables.';\n",
              "          element.innerHTML = '';\n",
              "          dataTable['output_type'] = 'display_data';\n",
              "          await google.colab.output.renderOutput(dataTable, element);\n",
              "          const docLink = document.createElement('div');\n",
              "          docLink.innerHTML = docLinkHtml;\n",
              "          element.appendChild(docLink);\n",
              "        }\n",
              "      </script>\n",
              "    </div>\n",
              "  </div>\n",
              "  "
            ]
          },
          "metadata": {},
          "execution_count": 29
        }
      ]
    },
    {
      "cell_type": "code",
      "source": [
        "memes_with_clip.head()"
      ],
      "metadata": {
        "colab": {
          "base_uri": "https://localhost:8080/",
          "height": 455
        },
        "id": "RnjCDdH3zVUT",
        "outputId": "d41948de-933e-4ecc-f3e3-61669847c711"
      },
      "execution_count": 30,
      "outputs": [
        {
          "output_type": "execute_result",
          "data": {
            "text/plain": [
              "   meme_id                                            file_id   author_id  \\\n",
              "0     2811  AgACAgQAAxkBAAJJWGHqZIz4f3WSyvH0XIFxhvPjwqWxAA...  2106431824   \n",
              "1     2826  AgACAgIAAxkBAAKIG2H3n_djkRg9MMUShOzCMHRcIm6mAA...   354637850   \n",
              "2     2827  AgACAgQAAxkBAAL2pGIEAAH2wjbF8DWHGiNewBn_UnrE6A...   354637850   \n",
              "3     2876  AgACAgQAAxkBAAL-aWIEBLnt94wyXCXhygRdYajavWbvAA...  2106431824   \n",
              "4     2925  AgACAgQAAxkBAAEBAiBiBAetqQPwhJcXSKpCGXgI4lgbIw...  2106431824   \n",
              "\n",
              "                    timestamp filetype         unique_id  \\\n",
              "0  2022-01-21 07:45:16.000000    photo               NaN   \n",
              "1  2022-01-31 08:38:15.000000    photo  AQADfL0xG4l3uUt9   \n",
              "2  2022-02-09 17:59:18.000000    photo  AQADyqoxGw8rrVF-   \n",
              "3  2022-02-09 18:15:21.000000    photo  AQADBqsxG3SVDFB-   \n",
              "4  2022-02-09 18:27:57.000000    photo  AQADUa0xGzmh5VJ9   \n",
              "\n",
              "                        caption  funny_score  person_score  cat_score  ...  \\\n",
              "0                           NaN     0.250981      0.237676   0.217957  ...   \n",
              "1                           NaN     0.264385      0.252193   0.220355  ...   \n",
              "2                           NaN     0.245900      0.212461   0.197702  ...   \n",
              "3    kvin, where is your corona     0.238833      0.237176   0.200625  ...   \n",
              "4  Why do you keep coming back?     0.242307      0.206670   0.173449  ...   \n",
              "\n",
              "   meme_score  offensive_score  witty_score  cringe_score  people_score  \\\n",
              "0    0.251079         0.213471     0.224981      0.229358      0.248814   \n",
              "1    0.264848         0.243699     0.242989      0.242963      0.261154   \n",
              "2    0.239926         0.232262     0.242150      0.253753      0.212315   \n",
              "3    0.240958         0.237480     0.239432      0.234064      0.240731   \n",
              "4    0.245140         0.239347     0.234380      0.240613      0.207647   \n",
              "\n",
              "   anime_score  animated_score  emotional_score  cute_score  auto_score  \n",
              "0     0.223537        0.231514         0.252318    0.233501    0.249587  \n",
              "1     0.244021        0.254006         0.247862    0.243598    0.252435  \n",
              "2     0.221327        0.222178         0.244417    0.230103    0.235808  \n",
              "3     0.216932        0.225121         0.210288    0.224446    0.238979  \n",
              "4     0.213957        0.219453         0.223919    0.223322    0.228427  \n",
              "\n",
              "[5 rows x 22 columns]"
            ],
            "text/html": [
              "\n",
              "  <div id=\"df-c3486a0c-142a-4dea-9b96-1dd7f7dc82f9\">\n",
              "    <div class=\"colab-df-container\">\n",
              "      <div>\n",
              "<style scoped>\n",
              "    .dataframe tbody tr th:only-of-type {\n",
              "        vertical-align: middle;\n",
              "    }\n",
              "\n",
              "    .dataframe tbody tr th {\n",
              "        vertical-align: top;\n",
              "    }\n",
              "\n",
              "    .dataframe thead th {\n",
              "        text-align: right;\n",
              "    }\n",
              "</style>\n",
              "<table border=\"1\" class=\"dataframe\">\n",
              "  <thead>\n",
              "    <tr style=\"text-align: right;\">\n",
              "      <th></th>\n",
              "      <th>meme_id</th>\n",
              "      <th>file_id</th>\n",
              "      <th>author_id</th>\n",
              "      <th>timestamp</th>\n",
              "      <th>filetype</th>\n",
              "      <th>unique_id</th>\n",
              "      <th>caption</th>\n",
              "      <th>funny_score</th>\n",
              "      <th>person_score</th>\n",
              "      <th>cat_score</th>\n",
              "      <th>...</th>\n",
              "      <th>meme_score</th>\n",
              "      <th>offensive_score</th>\n",
              "      <th>witty_score</th>\n",
              "      <th>cringe_score</th>\n",
              "      <th>people_score</th>\n",
              "      <th>anime_score</th>\n",
              "      <th>animated_score</th>\n",
              "      <th>emotional_score</th>\n",
              "      <th>cute_score</th>\n",
              "      <th>auto_score</th>\n",
              "    </tr>\n",
              "  </thead>\n",
              "  <tbody>\n",
              "    <tr>\n",
              "      <th>0</th>\n",
              "      <td>2811</td>\n",
              "      <td>AgACAgQAAxkBAAJJWGHqZIz4f3WSyvH0XIFxhvPjwqWxAA...</td>\n",
              "      <td>2106431824</td>\n",
              "      <td>2022-01-21 07:45:16.000000</td>\n",
              "      <td>photo</td>\n",
              "      <td>NaN</td>\n",
              "      <td>NaN</td>\n",
              "      <td>0.250981</td>\n",
              "      <td>0.237676</td>\n",
              "      <td>0.217957</td>\n",
              "      <td>...</td>\n",
              "      <td>0.251079</td>\n",
              "      <td>0.213471</td>\n",
              "      <td>0.224981</td>\n",
              "      <td>0.229358</td>\n",
              "      <td>0.248814</td>\n",
              "      <td>0.223537</td>\n",
              "      <td>0.231514</td>\n",
              "      <td>0.252318</td>\n",
              "      <td>0.233501</td>\n",
              "      <td>0.249587</td>\n",
              "    </tr>\n",
              "    <tr>\n",
              "      <th>1</th>\n",
              "      <td>2826</td>\n",
              "      <td>AgACAgIAAxkBAAKIG2H3n_djkRg9MMUShOzCMHRcIm6mAA...</td>\n",
              "      <td>354637850</td>\n",
              "      <td>2022-01-31 08:38:15.000000</td>\n",
              "      <td>photo</td>\n",
              "      <td>AQADfL0xG4l3uUt9</td>\n",
              "      <td>NaN</td>\n",
              "      <td>0.264385</td>\n",
              "      <td>0.252193</td>\n",
              "      <td>0.220355</td>\n",
              "      <td>...</td>\n",
              "      <td>0.264848</td>\n",
              "      <td>0.243699</td>\n",
              "      <td>0.242989</td>\n",
              "      <td>0.242963</td>\n",
              "      <td>0.261154</td>\n",
              "      <td>0.244021</td>\n",
              "      <td>0.254006</td>\n",
              "      <td>0.247862</td>\n",
              "      <td>0.243598</td>\n",
              "      <td>0.252435</td>\n",
              "    </tr>\n",
              "    <tr>\n",
              "      <th>2</th>\n",
              "      <td>2827</td>\n",
              "      <td>AgACAgQAAxkBAAL2pGIEAAH2wjbF8DWHGiNewBn_UnrE6A...</td>\n",
              "      <td>354637850</td>\n",
              "      <td>2022-02-09 17:59:18.000000</td>\n",
              "      <td>photo</td>\n",
              "      <td>AQADyqoxGw8rrVF-</td>\n",
              "      <td>NaN</td>\n",
              "      <td>0.245900</td>\n",
              "      <td>0.212461</td>\n",
              "      <td>0.197702</td>\n",
              "      <td>...</td>\n",
              "      <td>0.239926</td>\n",
              "      <td>0.232262</td>\n",
              "      <td>0.242150</td>\n",
              "      <td>0.253753</td>\n",
              "      <td>0.212315</td>\n",
              "      <td>0.221327</td>\n",
              "      <td>0.222178</td>\n",
              "      <td>0.244417</td>\n",
              "      <td>0.230103</td>\n",
              "      <td>0.235808</td>\n",
              "    </tr>\n",
              "    <tr>\n",
              "      <th>3</th>\n",
              "      <td>2876</td>\n",
              "      <td>AgACAgQAAxkBAAL-aWIEBLnt94wyXCXhygRdYajavWbvAA...</td>\n",
              "      <td>2106431824</td>\n",
              "      <td>2022-02-09 18:15:21.000000</td>\n",
              "      <td>photo</td>\n",
              "      <td>AQADBqsxG3SVDFB-</td>\n",
              "      <td>kvin, where is your corona</td>\n",
              "      <td>0.238833</td>\n",
              "      <td>0.237176</td>\n",
              "      <td>0.200625</td>\n",
              "      <td>...</td>\n",
              "      <td>0.240958</td>\n",
              "      <td>0.237480</td>\n",
              "      <td>0.239432</td>\n",
              "      <td>0.234064</td>\n",
              "      <td>0.240731</td>\n",
              "      <td>0.216932</td>\n",
              "      <td>0.225121</td>\n",
              "      <td>0.210288</td>\n",
              "      <td>0.224446</td>\n",
              "      <td>0.238979</td>\n",
              "    </tr>\n",
              "    <tr>\n",
              "      <th>4</th>\n",
              "      <td>2925</td>\n",
              "      <td>AgACAgQAAxkBAAEBAiBiBAetqQPwhJcXSKpCGXgI4lgbIw...</td>\n",
              "      <td>2106431824</td>\n",
              "      <td>2022-02-09 18:27:57.000000</td>\n",
              "      <td>photo</td>\n",
              "      <td>AQADUa0xGzmh5VJ9</td>\n",
              "      <td>Why do you keep coming back?</td>\n",
              "      <td>0.242307</td>\n",
              "      <td>0.206670</td>\n",
              "      <td>0.173449</td>\n",
              "      <td>...</td>\n",
              "      <td>0.245140</td>\n",
              "      <td>0.239347</td>\n",
              "      <td>0.234380</td>\n",
              "      <td>0.240613</td>\n",
              "      <td>0.207647</td>\n",
              "      <td>0.213957</td>\n",
              "      <td>0.219453</td>\n",
              "      <td>0.223919</td>\n",
              "      <td>0.223322</td>\n",
              "      <td>0.228427</td>\n",
              "    </tr>\n",
              "  </tbody>\n",
              "</table>\n",
              "<p>5 rows × 22 columns</p>\n",
              "</div>\n",
              "      <button class=\"colab-df-convert\" onclick=\"convertToInteractive('df-c3486a0c-142a-4dea-9b96-1dd7f7dc82f9')\"\n",
              "              title=\"Convert this dataframe to an interactive table.\"\n",
              "              style=\"display:none;\">\n",
              "        \n",
              "  <svg xmlns=\"http://www.w3.org/2000/svg\" height=\"24px\"viewBox=\"0 0 24 24\"\n",
              "       width=\"24px\">\n",
              "    <path d=\"M0 0h24v24H0V0z\" fill=\"none\"/>\n",
              "    <path d=\"M18.56 5.44l.94 2.06.94-2.06 2.06-.94-2.06-.94-.94-2.06-.94 2.06-2.06.94zm-11 1L8.5 8.5l.94-2.06 2.06-.94-2.06-.94L8.5 2.5l-.94 2.06-2.06.94zm10 10l.94 2.06.94-2.06 2.06-.94-2.06-.94-.94-2.06-.94 2.06-2.06.94z\"/><path d=\"M17.41 7.96l-1.37-1.37c-.4-.4-.92-.59-1.43-.59-.52 0-1.04.2-1.43.59L10.3 9.45l-7.72 7.72c-.78.78-.78 2.05 0 2.83L4 21.41c.39.39.9.59 1.41.59.51 0 1.02-.2 1.41-.59l7.78-7.78 2.81-2.81c.8-.78.8-2.07 0-2.86zM5.41 20L4 18.59l7.72-7.72 1.47 1.35L5.41 20z\"/>\n",
              "  </svg>\n",
              "      </button>\n",
              "      \n",
              "  <style>\n",
              "    .colab-df-container {\n",
              "      display:flex;\n",
              "      flex-wrap:wrap;\n",
              "      gap: 12px;\n",
              "    }\n",
              "\n",
              "    .colab-df-convert {\n",
              "      background-color: #E8F0FE;\n",
              "      border: none;\n",
              "      border-radius: 50%;\n",
              "      cursor: pointer;\n",
              "      display: none;\n",
              "      fill: #1967D2;\n",
              "      height: 32px;\n",
              "      padding: 0 0 0 0;\n",
              "      width: 32px;\n",
              "    }\n",
              "\n",
              "    .colab-df-convert:hover {\n",
              "      background-color: #E2EBFA;\n",
              "      box-shadow: 0px 1px 2px rgba(60, 64, 67, 0.3), 0px 1px 3px 1px rgba(60, 64, 67, 0.15);\n",
              "      fill: #174EA6;\n",
              "    }\n",
              "\n",
              "    [theme=dark] .colab-df-convert {\n",
              "      background-color: #3B4455;\n",
              "      fill: #D2E3FC;\n",
              "    }\n",
              "\n",
              "    [theme=dark] .colab-df-convert:hover {\n",
              "      background-color: #434B5C;\n",
              "      box-shadow: 0px 1px 3px 1px rgba(0, 0, 0, 0.15);\n",
              "      filter: drop-shadow(0px 1px 2px rgba(0, 0, 0, 0.3));\n",
              "      fill: #FFFFFF;\n",
              "    }\n",
              "  </style>\n",
              "\n",
              "      <script>\n",
              "        const buttonEl =\n",
              "          document.querySelector('#df-c3486a0c-142a-4dea-9b96-1dd7f7dc82f9 button.colab-df-convert');\n",
              "        buttonEl.style.display =\n",
              "          google.colab.kernel.accessAllowed ? 'block' : 'none';\n",
              "\n",
              "        async function convertToInteractive(key) {\n",
              "          const element = document.querySelector('#df-c3486a0c-142a-4dea-9b96-1dd7f7dc82f9');\n",
              "          const dataTable =\n",
              "            await google.colab.kernel.invokeFunction('convertToInteractive',\n",
              "                                                     [key], {});\n",
              "          if (!dataTable) return;\n",
              "\n",
              "          const docLinkHtml = 'Like what you see? Visit the ' +\n",
              "            '<a target=\"_blank\" href=https://colab.research.google.com/notebooks/data_table.ipynb>data table notebook</a>'\n",
              "            + ' to learn more about interactive tables.';\n",
              "          element.innerHTML = '';\n",
              "          dataTable['output_type'] = 'display_data';\n",
              "          await google.colab.output.renderOutput(dataTable, element);\n",
              "          const docLink = document.createElement('div');\n",
              "          docLink.innerHTML = docLinkHtml;\n",
              "          element.appendChild(docLink);\n",
              "        }\n",
              "      </script>\n",
              "    </div>\n",
              "  </div>\n",
              "  "
            ]
          },
          "metadata": {},
          "execution_count": 30
        }
      ]
    },
    {
      "cell_type": "code",
      "source": [
        "clip_features = ['funny_score', 'person_score', 'cat_score', 'dog_score',\n",
        "       'text_score', 'meme_score', 'offensive_score', 'witty_score',\n",
        "       'cringe_score', 'people_score', 'anime_score', 'animated_score',\n",
        "       'emotional_score', 'cute_score', 'auto_score']"
      ],
      "metadata": {
        "id": "FB1yoXuNzicG"
      },
      "execution_count": 65,
      "outputs": []
    },
    {
      "cell_type": "code",
      "source": [
        "memes_ids = memes_with_clip['meme_id'].unique()"
      ],
      "metadata": {
        "id": "mJoM75oI1VXa"
      },
      "execution_count": 66,
      "outputs": []
    },
    {
      "cell_type": "code",
      "source": [
        "np.sum(~memes.caption.isna())"
      ],
      "metadata": {
        "colab": {
          "base_uri": "https://localhost:8080/"
        },
        "id": "p9Vwv0Fc2CGP",
        "outputId": "2f8b388c-33b5-48d4-d42e-4e9f049484bf"
      },
      "execution_count": 67,
      "outputs": [
        {
          "output_type": "execute_result",
          "data": {
            "text/plain": [
              "2907"
            ]
          },
          "metadata": {},
          "execution_count": 67
        }
      ]
    },
    {
      "cell_type": "code",
      "source": [
        "memes.head()"
      ],
      "metadata": {
        "colab": {
          "base_uri": "https://localhost:8080/",
          "height": 250
        },
        "id": "Yvota3hy3KaZ",
        "outputId": "55c84078-3e6a-4d64-d06a-13b90e9a0ce2"
      },
      "execution_count": 68,
      "outputs": [
        {
          "output_type": "execute_result",
          "data": {
            "text/plain": [
              "   meme_id                                            file_id   author_id  \\\n",
              "0     2811  AgACAgQAAxkBAAJJWGHqZIz4f3WSyvH0XIFxhvPjwqWxAA...  2106431824   \n",
              "1     2826  AgACAgIAAxkBAAKIG2H3n_djkRg9MMUShOzCMHRcIm6mAA...   354637850   \n",
              "2     2827  AgACAgQAAxkBAAL2pGIEAAH2wjbF8DWHGiNewBn_UnrE6A...   354637850   \n",
              "3     2876  AgACAgQAAxkBAAL-aWIEBLnt94wyXCXhygRdYajavWbvAA...  2106431824   \n",
              "4     2925  AgACAgQAAxkBAAEBAiBiBAetqQPwhJcXSKpCGXgI4lgbIw...  2106431824   \n",
              "\n",
              "                    timestamp filetype         unique_id  \\\n",
              "0  2022-01-21 07:45:16.000000    photo               NaN   \n",
              "1  2022-01-31 08:38:15.000000    photo  AQADfL0xG4l3uUt9   \n",
              "2  2022-02-09 17:59:18.000000    photo  AQADyqoxGw8rrVF-   \n",
              "3  2022-02-09 18:15:21.000000    photo  AQADBqsxG3SVDFB-   \n",
              "4  2022-02-09 18:27:57.000000    photo  AQADUa0xGzmh5VJ9   \n",
              "\n",
              "                        caption  \n",
              "0                           NaN  \n",
              "1                           NaN  \n",
              "2                           NaN  \n",
              "3    kvin, where is your corona  \n",
              "4  Why do you keep coming back?  "
            ],
            "text/html": [
              "\n",
              "  <div id=\"df-ed28652d-610d-427b-9ea7-140f2b4079fc\">\n",
              "    <div class=\"colab-df-container\">\n",
              "      <div>\n",
              "<style scoped>\n",
              "    .dataframe tbody tr th:only-of-type {\n",
              "        vertical-align: middle;\n",
              "    }\n",
              "\n",
              "    .dataframe tbody tr th {\n",
              "        vertical-align: top;\n",
              "    }\n",
              "\n",
              "    .dataframe thead th {\n",
              "        text-align: right;\n",
              "    }\n",
              "</style>\n",
              "<table border=\"1\" class=\"dataframe\">\n",
              "  <thead>\n",
              "    <tr style=\"text-align: right;\">\n",
              "      <th></th>\n",
              "      <th>meme_id</th>\n",
              "      <th>file_id</th>\n",
              "      <th>author_id</th>\n",
              "      <th>timestamp</th>\n",
              "      <th>filetype</th>\n",
              "      <th>unique_id</th>\n",
              "      <th>caption</th>\n",
              "    </tr>\n",
              "  </thead>\n",
              "  <tbody>\n",
              "    <tr>\n",
              "      <th>0</th>\n",
              "      <td>2811</td>\n",
              "      <td>AgACAgQAAxkBAAJJWGHqZIz4f3WSyvH0XIFxhvPjwqWxAA...</td>\n",
              "      <td>2106431824</td>\n",
              "      <td>2022-01-21 07:45:16.000000</td>\n",
              "      <td>photo</td>\n",
              "      <td>NaN</td>\n",
              "      <td>NaN</td>\n",
              "    </tr>\n",
              "    <tr>\n",
              "      <th>1</th>\n",
              "      <td>2826</td>\n",
              "      <td>AgACAgIAAxkBAAKIG2H3n_djkRg9MMUShOzCMHRcIm6mAA...</td>\n",
              "      <td>354637850</td>\n",
              "      <td>2022-01-31 08:38:15.000000</td>\n",
              "      <td>photo</td>\n",
              "      <td>AQADfL0xG4l3uUt9</td>\n",
              "      <td>NaN</td>\n",
              "    </tr>\n",
              "    <tr>\n",
              "      <th>2</th>\n",
              "      <td>2827</td>\n",
              "      <td>AgACAgQAAxkBAAL2pGIEAAH2wjbF8DWHGiNewBn_UnrE6A...</td>\n",
              "      <td>354637850</td>\n",
              "      <td>2022-02-09 17:59:18.000000</td>\n",
              "      <td>photo</td>\n",
              "      <td>AQADyqoxGw8rrVF-</td>\n",
              "      <td>NaN</td>\n",
              "    </tr>\n",
              "    <tr>\n",
              "      <th>3</th>\n",
              "      <td>2876</td>\n",
              "      <td>AgACAgQAAxkBAAL-aWIEBLnt94wyXCXhygRdYajavWbvAA...</td>\n",
              "      <td>2106431824</td>\n",
              "      <td>2022-02-09 18:15:21.000000</td>\n",
              "      <td>photo</td>\n",
              "      <td>AQADBqsxG3SVDFB-</td>\n",
              "      <td>kvin, where is your corona</td>\n",
              "    </tr>\n",
              "    <tr>\n",
              "      <th>4</th>\n",
              "      <td>2925</td>\n",
              "      <td>AgACAgQAAxkBAAEBAiBiBAetqQPwhJcXSKpCGXgI4lgbIw...</td>\n",
              "      <td>2106431824</td>\n",
              "      <td>2022-02-09 18:27:57.000000</td>\n",
              "      <td>photo</td>\n",
              "      <td>AQADUa0xGzmh5VJ9</td>\n",
              "      <td>Why do you keep coming back?</td>\n",
              "    </tr>\n",
              "  </tbody>\n",
              "</table>\n",
              "</div>\n",
              "      <button class=\"colab-df-convert\" onclick=\"convertToInteractive('df-ed28652d-610d-427b-9ea7-140f2b4079fc')\"\n",
              "              title=\"Convert this dataframe to an interactive table.\"\n",
              "              style=\"display:none;\">\n",
              "        \n",
              "  <svg xmlns=\"http://www.w3.org/2000/svg\" height=\"24px\"viewBox=\"0 0 24 24\"\n",
              "       width=\"24px\">\n",
              "    <path d=\"M0 0h24v24H0V0z\" fill=\"none\"/>\n",
              "    <path d=\"M18.56 5.44l.94 2.06.94-2.06 2.06-.94-2.06-.94-.94-2.06-.94 2.06-2.06.94zm-11 1L8.5 8.5l.94-2.06 2.06-.94-2.06-.94L8.5 2.5l-.94 2.06-2.06.94zm10 10l.94 2.06.94-2.06 2.06-.94-2.06-.94-.94-2.06-.94 2.06-2.06.94z\"/><path d=\"M17.41 7.96l-1.37-1.37c-.4-.4-.92-.59-1.43-.59-.52 0-1.04.2-1.43.59L10.3 9.45l-7.72 7.72c-.78.78-.78 2.05 0 2.83L4 21.41c.39.39.9.59 1.41.59.51 0 1.02-.2 1.41-.59l7.78-7.78 2.81-2.81c.8-.78.8-2.07 0-2.86zM5.41 20L4 18.59l7.72-7.72 1.47 1.35L5.41 20z\"/>\n",
              "  </svg>\n",
              "      </button>\n",
              "      \n",
              "  <style>\n",
              "    .colab-df-container {\n",
              "      display:flex;\n",
              "      flex-wrap:wrap;\n",
              "      gap: 12px;\n",
              "    }\n",
              "\n",
              "    .colab-df-convert {\n",
              "      background-color: #E8F0FE;\n",
              "      border: none;\n",
              "      border-radius: 50%;\n",
              "      cursor: pointer;\n",
              "      display: none;\n",
              "      fill: #1967D2;\n",
              "      height: 32px;\n",
              "      padding: 0 0 0 0;\n",
              "      width: 32px;\n",
              "    }\n",
              "\n",
              "    .colab-df-convert:hover {\n",
              "      background-color: #E2EBFA;\n",
              "      box-shadow: 0px 1px 2px rgba(60, 64, 67, 0.3), 0px 1px 3px 1px rgba(60, 64, 67, 0.15);\n",
              "      fill: #174EA6;\n",
              "    }\n",
              "\n",
              "    [theme=dark] .colab-df-convert {\n",
              "      background-color: #3B4455;\n",
              "      fill: #D2E3FC;\n",
              "    }\n",
              "\n",
              "    [theme=dark] .colab-df-convert:hover {\n",
              "      background-color: #434B5C;\n",
              "      box-shadow: 0px 1px 3px 1px rgba(0, 0, 0, 0.15);\n",
              "      filter: drop-shadow(0px 1px 2px rgba(0, 0, 0, 0.3));\n",
              "      fill: #FFFFFF;\n",
              "    }\n",
              "  </style>\n",
              "\n",
              "      <script>\n",
              "        const buttonEl =\n",
              "          document.querySelector('#df-ed28652d-610d-427b-9ea7-140f2b4079fc button.colab-df-convert');\n",
              "        buttonEl.style.display =\n",
              "          google.colab.kernel.accessAllowed ? 'block' : 'none';\n",
              "\n",
              "        async function convertToInteractive(key) {\n",
              "          const element = document.querySelector('#df-ed28652d-610d-427b-9ea7-140f2b4079fc');\n",
              "          const dataTable =\n",
              "            await google.colab.kernel.invokeFunction('convertToInteractive',\n",
              "                                                     [key], {});\n",
              "          if (!dataTable) return;\n",
              "\n",
              "          const docLinkHtml = 'Like what you see? Visit the ' +\n",
              "            '<a target=\"_blank\" href=https://colab.research.google.com/notebooks/data_table.ipynb>data table notebook</a>'\n",
              "            + ' to learn more about interactive tables.';\n",
              "          element.innerHTML = '';\n",
              "          dataTable['output_type'] = 'display_data';\n",
              "          await google.colab.output.renderOutput(dataTable, element);\n",
              "          const docLink = document.createElement('div');\n",
              "          docLink.innerHTML = docLinkHtml;\n",
              "          element.appendChild(docLink);\n",
              "        }\n",
              "      </script>\n",
              "    </div>\n",
              "  </div>\n",
              "  "
            ]
          },
          "metadata": {},
          "execution_count": 68
        }
      ]
    },
    {
      "cell_type": "code",
      "source": [
        "data = users_memes[['chat_id', 'meme_id', 'reaction', 'timestamp']].copy()\n",
        "data = data[data['meme_id'].isin(memes_ids)]\n",
        "data.sort_values(by='timestamp', inplace=True) # sort data by time\n",
        "\n",
        "REACTION2VALUE = {1001: -1, 107: -1, 106: -1, 105: -1, 104: -1,\n",
        "                  103: 1, 102: 1, 101: 1, 100: 1, 1000: 1, 1002 : None} # 1002 means empty\n",
        "\n",
        "data.reaction = users_memes.reaction.map(REACTION2VALUE)\n",
        "data = data.dropna(axis='index', how='any', subset=['reaction'])\n",
        "\n",
        "data.head()"
      ],
      "metadata": {
        "colab": {
          "base_uri": "https://localhost:8080/",
          "height": 206
        },
        "id": "ddVIPznKG95i",
        "outputId": "86143c08-5f74-4dec-d129-51a57fcd217b"
      },
      "execution_count": 69,
      "outputs": [
        {
          "output_type": "execute_result",
          "data": {
            "text/plain": [
              "       chat_id  meme_id  reaction                   timestamp\n",
              "882  354637850      398      -1.0  2021-12-08 20:35:19.000000\n",
              "883  354637850      222      -1.0  2021-12-08 20:35:35.000000\n",
              "884  481807223      387       1.0  2021-12-08 20:37:15.000000\n",
              "885  354886383       61      -1.0  2021-12-08 20:39:05.000000\n",
              "886  354886383      182      -1.0  2021-12-08 20:39:11.000000"
            ],
            "text/html": [
              "\n",
              "  <div id=\"df-5b543779-cf97-4049-8713-34eabfec43e1\">\n",
              "    <div class=\"colab-df-container\">\n",
              "      <div>\n",
              "<style scoped>\n",
              "    .dataframe tbody tr th:only-of-type {\n",
              "        vertical-align: middle;\n",
              "    }\n",
              "\n",
              "    .dataframe tbody tr th {\n",
              "        vertical-align: top;\n",
              "    }\n",
              "\n",
              "    .dataframe thead th {\n",
              "        text-align: right;\n",
              "    }\n",
              "</style>\n",
              "<table border=\"1\" class=\"dataframe\">\n",
              "  <thead>\n",
              "    <tr style=\"text-align: right;\">\n",
              "      <th></th>\n",
              "      <th>chat_id</th>\n",
              "      <th>meme_id</th>\n",
              "      <th>reaction</th>\n",
              "      <th>timestamp</th>\n",
              "    </tr>\n",
              "  </thead>\n",
              "  <tbody>\n",
              "    <tr>\n",
              "      <th>882</th>\n",
              "      <td>354637850</td>\n",
              "      <td>398</td>\n",
              "      <td>-1.0</td>\n",
              "      <td>2021-12-08 20:35:19.000000</td>\n",
              "    </tr>\n",
              "    <tr>\n",
              "      <th>883</th>\n",
              "      <td>354637850</td>\n",
              "      <td>222</td>\n",
              "      <td>-1.0</td>\n",
              "      <td>2021-12-08 20:35:35.000000</td>\n",
              "    </tr>\n",
              "    <tr>\n",
              "      <th>884</th>\n",
              "      <td>481807223</td>\n",
              "      <td>387</td>\n",
              "      <td>1.0</td>\n",
              "      <td>2021-12-08 20:37:15.000000</td>\n",
              "    </tr>\n",
              "    <tr>\n",
              "      <th>885</th>\n",
              "      <td>354886383</td>\n",
              "      <td>61</td>\n",
              "      <td>-1.0</td>\n",
              "      <td>2021-12-08 20:39:05.000000</td>\n",
              "    </tr>\n",
              "    <tr>\n",
              "      <th>886</th>\n",
              "      <td>354886383</td>\n",
              "      <td>182</td>\n",
              "      <td>-1.0</td>\n",
              "      <td>2021-12-08 20:39:11.000000</td>\n",
              "    </tr>\n",
              "  </tbody>\n",
              "</table>\n",
              "</div>\n",
              "      <button class=\"colab-df-convert\" onclick=\"convertToInteractive('df-5b543779-cf97-4049-8713-34eabfec43e1')\"\n",
              "              title=\"Convert this dataframe to an interactive table.\"\n",
              "              style=\"display:none;\">\n",
              "        \n",
              "  <svg xmlns=\"http://www.w3.org/2000/svg\" height=\"24px\"viewBox=\"0 0 24 24\"\n",
              "       width=\"24px\">\n",
              "    <path d=\"M0 0h24v24H0V0z\" fill=\"none\"/>\n",
              "    <path d=\"M18.56 5.44l.94 2.06.94-2.06 2.06-.94-2.06-.94-.94-2.06-.94 2.06-2.06.94zm-11 1L8.5 8.5l.94-2.06 2.06-.94-2.06-.94L8.5 2.5l-.94 2.06-2.06.94zm10 10l.94 2.06.94-2.06 2.06-.94-2.06-.94-.94-2.06-.94 2.06-2.06.94z\"/><path d=\"M17.41 7.96l-1.37-1.37c-.4-.4-.92-.59-1.43-.59-.52 0-1.04.2-1.43.59L10.3 9.45l-7.72 7.72c-.78.78-.78 2.05 0 2.83L4 21.41c.39.39.9.59 1.41.59.51 0 1.02-.2 1.41-.59l7.78-7.78 2.81-2.81c.8-.78.8-2.07 0-2.86zM5.41 20L4 18.59l7.72-7.72 1.47 1.35L5.41 20z\"/>\n",
              "  </svg>\n",
              "      </button>\n",
              "      \n",
              "  <style>\n",
              "    .colab-df-container {\n",
              "      display:flex;\n",
              "      flex-wrap:wrap;\n",
              "      gap: 12px;\n",
              "    }\n",
              "\n",
              "    .colab-df-convert {\n",
              "      background-color: #E8F0FE;\n",
              "      border: none;\n",
              "      border-radius: 50%;\n",
              "      cursor: pointer;\n",
              "      display: none;\n",
              "      fill: #1967D2;\n",
              "      height: 32px;\n",
              "      padding: 0 0 0 0;\n",
              "      width: 32px;\n",
              "    }\n",
              "\n",
              "    .colab-df-convert:hover {\n",
              "      background-color: #E2EBFA;\n",
              "      box-shadow: 0px 1px 2px rgba(60, 64, 67, 0.3), 0px 1px 3px 1px rgba(60, 64, 67, 0.15);\n",
              "      fill: #174EA6;\n",
              "    }\n",
              "\n",
              "    [theme=dark] .colab-df-convert {\n",
              "      background-color: #3B4455;\n",
              "      fill: #D2E3FC;\n",
              "    }\n",
              "\n",
              "    [theme=dark] .colab-df-convert:hover {\n",
              "      background-color: #434B5C;\n",
              "      box-shadow: 0px 1px 3px 1px rgba(0, 0, 0, 0.15);\n",
              "      filter: drop-shadow(0px 1px 2px rgba(0, 0, 0, 0.3));\n",
              "      fill: #FFFFFF;\n",
              "    }\n",
              "  </style>\n",
              "\n",
              "      <script>\n",
              "        const buttonEl =\n",
              "          document.querySelector('#df-5b543779-cf97-4049-8713-34eabfec43e1 button.colab-df-convert');\n",
              "        buttonEl.style.display =\n",
              "          google.colab.kernel.accessAllowed ? 'block' : 'none';\n",
              "\n",
              "        async function convertToInteractive(key) {\n",
              "          const element = document.querySelector('#df-5b543779-cf97-4049-8713-34eabfec43e1');\n",
              "          const dataTable =\n",
              "            await google.colab.kernel.invokeFunction('convertToInteractive',\n",
              "                                                     [key], {});\n",
              "          if (!dataTable) return;\n",
              "\n",
              "          const docLinkHtml = 'Like what you see? Visit the ' +\n",
              "            '<a target=\"_blank\" href=https://colab.research.google.com/notebooks/data_table.ipynb>data table notebook</a>'\n",
              "            + ' to learn more about interactive tables.';\n",
              "          element.innerHTML = '';\n",
              "          dataTable['output_type'] = 'display_data';\n",
              "          await google.colab.output.renderOutput(dataTable, element);\n",
              "          const docLink = document.createElement('div');\n",
              "          docLink.innerHTML = docLinkHtml;\n",
              "          element.appendChild(docLink);\n",
              "        }\n",
              "      </script>\n",
              "    </div>\n",
              "  </div>\n",
              "  "
            ]
          },
          "metadata": {},
          "execution_count": 69
        }
      ]
    },
    {
      "cell_type": "code",
      "source": [
        "train_data = data.copy()\n",
        "train_data.drop_duplicates(subset=['chat_id', 'meme_id'], inplace=True)"
      ],
      "metadata": {
        "id": "6O3XbYJdXwDn"
      },
      "execution_count": 70,
      "outputs": []
    },
    {
      "cell_type": "code",
      "source": [
        "train_data.reaction.value_counts()"
      ],
      "metadata": {
        "colab": {
          "base_uri": "https://localhost:8080/"
        },
        "id": "ba2kJFF2KTUR",
        "outputId": "1f05fa73-96c3-4bb8-b374-fb847b61e75c"
      },
      "execution_count": 71,
      "outputs": [
        {
          "output_type": "execute_result",
          "data": {
            "text/plain": [
              "-1.0    35854\n",
              " 1.0    31493\n",
              "Name: reaction, dtype: int64"
            ]
          },
          "metadata": {},
          "execution_count": 71
        }
      ]
    },
    {
      "cell_type": "code",
      "source": [
        "print(\"num of unique users: \", len(train_data.chat_id.unique()))\n",
        "print(\"num of unique memes: \", len(train_data.meme_id.unique()))\n",
        "print(\"num of users that have at least 10 reactions: \", np.sum(train_data.chat_id.value_counts().values >= 10))\n",
        "\n",
        "# let's leave only those users that have at least 10 reactions on memes\n",
        "n_reactions = 10\n",
        "train_data = train_data.loc[\n",
        "    train_data\n",
        "    .groupby('chat_id')['chat_id']\n",
        "    .transform('count') >= n_reactions\n",
        "]"
      ],
      "metadata": {
        "colab": {
          "base_uri": "https://localhost:8080/"
        },
        "id": "Mu9-N5VlVn-p",
        "outputId": "93e86584-7d32-44f4-dcaf-9bddec67ddb5"
      },
      "execution_count": 72,
      "outputs": [
        {
          "output_type": "stream",
          "name": "stdout",
          "text": [
            "num of unique users:  1057\n",
            "num of unique memes:  5815\n",
            "num of users that have at least 10 reactions:  865\n"
          ]
        }
      ]
    },
    {
      "cell_type": "code",
      "source": [
        "data_model_1 = RecommenderData(train_data, 'chat_id', 'meme_id', 'reaction')\n",
        "data_model_1.warm_start = False\n",
        "data_model_1.holdout_size = 1\n",
        "data_model_1.test_ratio = 0.2\n",
        "\n",
        "train_val = data_model_1.training\n",
        "holdout_test = data_model_1.test[1] #holdout\n",
        "data_indexing_tvt = data_model_1.index\n",
        "\n",
        "\n",
        "data_model_2 = RecommenderData(train_val, 'chat_id', 'meme_id', 'reaction')\n",
        "data_model_2.warm_start = False\n",
        "data_model_2.holdout_size = 1\n",
        "data_model_2.test_ratio = 0.2\n",
        "\n",
        "train = data_model_2.training\n",
        "holdout_val = data_model_2.test[1] #holdout\n",
        "data_indexing_tv = data_model_2.index\n",
        "\n"
      ],
      "metadata": {
        "colab": {
          "base_uri": "https://localhost:8080/"
        },
        "id": "RlUga8YOYjgT",
        "outputId": "d5cc036f-c0cf-457d-c885-b6c2744d8570"
      },
      "execution_count": 73,
      "outputs": [
        {
          "output_type": "stream",
          "name": "stdout",
          "text": [
            "Preparing data...\n",
            "5 unique meme_id entities within 5 holdout interactions were filtered. Reason: not in the training data.\n",
            "Done.\n",
            "There are 66353 events in the training and 168 events in the holdout.\n",
            "Preparing data...\n",
            "Users are not uniformly ordered! Unable to split test set reliably.\n",
            "4 unique meme_id entities within 4 holdout interactions were filtered. Reason: not in the training data.\n",
            "Done.\n",
            "There are 66180 events in the training and 169 events in the holdout.\n"
          ]
        }
      ]
    },
    {
      "cell_type": "code",
      "source": [
        "print(data_model_1._random_holdout, data_model_1._negative_prediction)"
      ],
      "metadata": {
        "colab": {
          "base_uri": "https://localhost:8080/"
        },
        "id": "qCcp9thD6CmZ",
        "outputId": "7c7e98ee-807a-4e21-b9f4-220c55032b65"
      },
      "execution_count": 74,
      "outputs": [
        {
          "output_type": "stream",
          "name": "stdout",
          "text": [
            "False False\n"
          ]
        }
      ]
    },
    {
      "cell_type": "code",
      "source": [
        "print(f'train size = {train.shape[0]}, val size = {holdout_val.shape[0]}, test size = {holdout_test.shape[0]}')"
      ],
      "metadata": {
        "colab": {
          "base_uri": "https://localhost:8080/"
        },
        "id": "eJDRVlzSfVLk",
        "outputId": "b6054f1d-2d74-47e2-8c53-1b174cb6d056"
      },
      "execution_count": 75,
      "outputs": [
        {
          "output_type": "stream",
          "name": "stdout",
          "text": [
            "train size = 66180, val size = 169, test size = 168\n"
          ]
        }
      ]
    },
    {
      "cell_type": "markdown",
      "source": [
        "## Gradient Boosting with Clip fetures"
      ],
      "metadata": {
        "id": "KMdKmeZcBPGP"
      }
    },
    {
      "cell_type": "code",
      "source": [
        "from sklearn.metrics import accuracy_score, classification_report, roc_auc_score, roc_curve\n",
        "from lightgbm import LGBMClassifier,plot_importance\n",
        "from matplotlib import pyplot as plt\n",
        "from itertools import product\n",
        "\n",
        "from evaluation import topn_recommendations, model_evaluate, downvote_seen_items"
      ],
      "metadata": {
        "id": "t7pRvhz6QYJN"
      },
      "execution_count": 98,
      "outputs": []
    },
    {
      "cell_type": "code",
      "source": [
        "data_description = dict(\n",
        "    users = train['chat_id'].name,\n",
        "    items = train['meme_id'].name,\n",
        "    feedback = 'reaction',\n",
        "    n_users = len(train['chat_id']),\n",
        "    n_items = len(train['meme_id']),\n",
        "    test_users = holdout_val[train['chat_id'].name].values\n",
        ")\n",
        "\n",
        "testset = data_description['test_users']\n",
        "seen_data = train[train.chat_id.isin(testset)]"
      ],
      "metadata": {
        "id": "jRNuZvqlcsYq"
      },
      "execution_count": 99,
      "outputs": []
    },
    {
      "cell_type": "code",
      "source": [
        "svd = SVDModel(data_model_2)\n",
        "svd.rank = 10\n",
        "svd.build()\n",
        "\n",
        "item_factors = svd.factors['meme_id']\n",
        "user_factors = svd.factors['chat_id']\n"
      ],
      "metadata": {
        "colab": {
          "base_uri": "https://localhost:8080/"
        },
        "id": "0zQZF0jcFKnR",
        "outputId": "7c881434-20d1-4878-deae-ca9b7f6554fa"
      },
      "execution_count": 100,
      "outputs": [
        {
          "output_type": "stream",
          "name": "stdout",
          "text": [
            "PureSVD training time: 0.041s\n"
          ]
        }
      ]
    },
    {
      "cell_type": "code",
      "source": [
        "item_reindexing_1 = data_model_1.index[1]\n",
        "item_reindexing_1.sort_values(by='new', inplace=True)\n",
        "\n",
        "item_reindexing_2 = data_model_2.index[1]\n",
        "item_reindexing_2.sort_values(by='old', inplace=True)\n",
        "\n",
        "full_reindexing = pd.DataFrame()\n",
        "full_reindexing['old'] = item_reindexing_1['old']\n",
        "full_reindexing['new'] = item_reindexing_2['new']\n"
      ],
      "metadata": {
        "id": "CqrSM2Py4T9a"
      },
      "execution_count": 101,
      "outputs": []
    },
    {
      "cell_type": "code",
      "source": [
        "def change_item_factors(item_factors, meme_df, item_reindexing):\n",
        "  add_factors = []\n",
        "  for i in tqdm(range(len(item_factors))):\n",
        "    old_id = item_reindexing[item_reindexing['new'] == i]['old'].values[0]\n",
        "    addition = meme_df[meme_df['meme_id'] == old_id][clip_features].values[0]\n",
        "    add_factors.append(addition)\n",
        "\n",
        "  add_factors = np.array(add_factors)\n",
        "  return np.concatenate((item_factors,add_factors), axis=1)\n",
        "\n"
      ],
      "metadata": {
        "id": "w-7h7HBv37VY"
      },
      "execution_count": 102,
      "outputs": []
    },
    {
      "cell_type": "code",
      "source": [
        "new_item_factors = change_item_factors(item_factors, memes_with_clip , full_reindexing)"
      ],
      "metadata": {
        "colab": {
          "base_uri": "https://localhost:8080/"
        },
        "id": "al3pP6jm629c",
        "outputId": "43448d6c-e523-4979-ac46-77c69954ca82"
      },
      "execution_count": 103,
      "outputs": [
        {
          "output_type": "stream",
          "name": "stderr",
          "text": [
            "100%|██████████| 5806/5806 [00:08<00:00, 681.09it/s]\n"
          ]
        }
      ]
    },
    {
      "cell_type": "code",
      "source": [
        "def get_vectorized_data(df, user_factors, item_factors):\n",
        "  X = []\n",
        "  y_true = []\n",
        "  for i in tqdm(range(df.shape[0])):\n",
        "    user_features = user_factors[int(df.iloc[i]['chat_id']), :]\n",
        "    item_features = item_factors[int(df.iloc[i]['meme_id']), :]\n",
        "    features = np.concatenate((user_features,item_features), axis=0)\n",
        "    y = (int(df.iloc[i]['reaction']) + 1) / 2 # here 1 stand for like and 0 for dislike\n",
        "    y_true.append(y)\n",
        "    X.append(features)\n",
        "  X = np.array(X)\n",
        "\n",
        "  return X, y_true\n",
        "\n",
        "\n",
        "def boosting_scoring(model, holdout, user_factors, item_factors):\n",
        "  scores = []\n",
        "  for id_ in tqdm(holdout['chat_id'].values):\n",
        "    user_features = user_factors[id_, :]\n",
        "    user_matrix = item_factors.shape[0] * [user_features]\n",
        "    user_matrix = np.array(user_matrix)\n",
        "    features = np.concatenate((user_matrix, item_factors), axis=1)\n",
        "    score = model.predict_proba(features)[:, 1]\n",
        "    scores.append(score)\n",
        "  return scores"
      ],
      "metadata": {
        "id": "JNWZtYBZPmid"
      },
      "execution_count": 104,
      "outputs": []
    },
    {
      "cell_type": "code",
      "source": [
        "X_train, y_train = get_vectorized_data(train, user_factors, new_item_factors)\n",
        "X_val, y_val = get_vectorized_data(holdout_val, user_factors, new_item_factors)"
      ],
      "metadata": {
        "colab": {
          "base_uri": "https://localhost:8080/"
        },
        "id": "MfOrM7qfQAW7",
        "outputId": "53038e03-a0cb-4911-cf1c-409f13ca7fc3"
      },
      "execution_count": 105,
      "outputs": [
        {
          "output_type": "stream",
          "name": "stderr",
          "text": [
            "100%|██████████| 66180/66180 [00:35<00:00, 1868.57it/s]\n",
            "100%|██████████| 169/169 [00:00<00:00, 1104.60it/s]\n"
          ]
        }
      ]
    },
    {
      "cell_type": "code",
      "source": [
        "light = LGBMClassifier(n_estimators=200, learning_rate=0.01, max_depth=3)\n",
        "light.fit(X_train, y_train)\n",
        "scores = boosting_scoring(light, holdout_val, user_factors, new_item_factors)"
      ],
      "metadata": {
        "colab": {
          "base_uri": "https://localhost:8080/"
        },
        "id": "8r17RrKnQxaG",
        "outputId": "93de7b02-f886-490d-eb54-59b28d23ac85"
      },
      "execution_count": 106,
      "outputs": [
        {
          "output_type": "stream",
          "name": "stderr",
          "text": [
            "100%|██████████| 169/169 [00:04<00:00, 37.29it/s]\n"
          ]
        }
      ]
    },
    {
      "cell_type": "code",
      "source": [
        "downvote_seen_items(np.array(scores), seen_data, data_description)\n",
        "recs = topn_recommendations(np.array(scores), topn=20)\n",
        "print('HR={:.3}, MRR={:.3}, COV={:.3}'.format(*model_evaluate(recs, holdout_val, data_description,  topn=10)))"
      ],
      "metadata": {
        "colab": {
          "base_uri": "https://localhost:8080/"
        },
        "id": "HqMCL1L8bCsd",
        "outputId": "e4a63839-5b60-4bfc-8b43-81cbc4bb84b7"
      },
      "execution_count": 107,
      "outputs": [
        {
          "output_type": "stream",
          "name": "stdout",
          "text": [
            "HR=0.0592, MRR=0.0159, COV=0.00178\n"
          ]
        }
      ]
    },
    {
      "cell_type": "markdown",
      "source": [
        "## Search for best parameters for LightGBM+Clip pipline"
      ],
      "metadata": {
        "id": "-oAJhqQceY6F"
      }
    },
    {
      "cell_type": "code",
      "source": [
        "ranks = [10, 50, 100, 300, 500]\n",
        "nestims = [100, 200, 300, 400]\n",
        "learning_rates = [0.01, 0.1]\n",
        "max_depths = [3, 5, 7, 9]\n",
        "\n",
        "params = product(ranks, nestims, learning_rates, max_depths)"
      ],
      "metadata": {
        "id": "vOQWl3ykffza"
      },
      "execution_count": 108,
      "outputs": []
    },
    {
      "cell_type": "code",
      "source": [
        "results = []\n",
        "for param in params:\n",
        "  svd = SVDModel(data_model_2)\n",
        "  svd.rank = param[0]\n",
        "  svd.build()\n",
        "\n",
        "  item_factors = svd.factors['meme_id']\n",
        "  user_factors = svd.factors['chat_id']\n",
        "\n",
        "  item_reindexing_1 = data_model_1.index[1]\n",
        "  item_reindexing_1.sort_values(by='new', inplace=True)\n",
        "\n",
        "  item_reindexing_2 = data_model_2.index[1]\n",
        "  item_reindexing_2.sort_values(by='old', inplace=True)\n",
        "\n",
        "  full_reindexing = pd.DataFrame()\n",
        "  full_reindexing['old'] = item_reindexing_1['old']\n",
        "  full_reindexing['new'] = item_reindexing_2['new']\n",
        "  new_item_factors = change_item_factors(item_factors, memes_with_clip , full_reindexing)\n",
        "\n",
        "  X_train, y_train = get_vectorized_data(train, user_factors, new_item_factors)\n",
        "\n",
        "  light = LGBMClassifier(n_estimators=param[1], learning_rate=param[2], max_depth=param[3])\n",
        "  light.fit(X_train, y_train)\n",
        "\n",
        "  scores = boosting_scoring(light, holdout_val, user_factors, new_item_factors)\n",
        "\n",
        "  downvote_seen_items(np.array(scores), seen_data, data_description)\n",
        "  recs = topn_recommendations(np.array(scores), topn=10)\n",
        "  print(param)\n",
        "  hr, mrr, cov = model_evaluate(recs, holdout_val, data_description,  topn=10)\n",
        "  print('HR={:.3}, MRR={:.3}, COV={:.3}'.format(*model_evaluate(recs, holdout_val, data_description,  topn=10)))\n",
        "\n",
        "  results.append([*param, hr, mrr])\n",
        "\n"
      ],
      "metadata": {
        "colab": {
          "base_uri": "https://localhost:8080/",
          "height": 1000
        },
        "id": "ysyoApL8gj17",
        "outputId": "9b7fdf5d-ed3d-44ee-cb84-d73422fc05f2"
      },
      "execution_count": 109,
      "outputs": [
        {
          "output_type": "stream",
          "name": "stdout",
          "text": [
            "PureSVD training time: 0.044s\n"
          ]
        },
        {
          "output_type": "stream",
          "name": "stderr",
          "text": [
            "100%|██████████| 5806/5806 [00:08<00:00, 678.87it/s]\n",
            "100%|██████████| 66180/66180 [00:26<00:00, 2463.35it/s]\n",
            "100%|██████████| 169/169 [00:02<00:00, 61.28it/s]\n"
          ]
        },
        {
          "output_type": "stream",
          "name": "stdout",
          "text": [
            "(10, 100, 0.01, 3)\n",
            "HR=0.0237, MRR=0.00323, COV=0.0018\n",
            "PureSVD training time: 0.057s\n"
          ]
        },
        {
          "output_type": "stream",
          "name": "stderr",
          "text": [
            "100%|██████████| 5806/5806 [00:08<00:00, 648.48it/s]\n",
            "100%|██████████| 66180/66180 [00:26<00:00, 2484.37it/s]\n",
            "100%|██████████| 169/169 [00:03<00:00, 47.45it/s]\n"
          ]
        },
        {
          "output_type": "stream",
          "name": "stdout",
          "text": [
            "(10, 100, 0.01, 5)\n",
            "HR=0.0828, MRR=0.0252, COV=0.00186\n",
            "PureSVD training time: 0.041s\n"
          ]
        },
        {
          "output_type": "stream",
          "name": "stderr",
          "text": [
            "100%|██████████| 5806/5806 [00:08<00:00, 677.95it/s]\n",
            "100%|██████████| 66180/66180 [00:26<00:00, 2459.66it/s]\n",
            "100%|██████████| 169/169 [00:03<00:00, 45.54it/s]\n"
          ]
        },
        {
          "output_type": "stream",
          "name": "stdout",
          "text": [
            "(10, 100, 0.01, 7)\n",
            "HR=0.0828, MRR=0.0256, COV=0.00234\n",
            "PureSVD training time: 0.036s\n"
          ]
        },
        {
          "output_type": "stream",
          "name": "stderr",
          "text": [
            "100%|██████████| 5806/5806 [00:08<00:00, 686.37it/s]\n",
            "100%|██████████| 66180/66180 [00:27<00:00, 2448.91it/s]\n",
            "100%|██████████| 169/169 [00:03<00:00, 46.80it/s]\n"
          ]
        },
        {
          "output_type": "stream",
          "name": "stdout",
          "text": [
            "(10, 100, 0.01, 9)\n",
            "HR=0.0533, MRR=0.0142, COV=0.0021\n",
            "PureSVD training time: 0.040s\n"
          ]
        },
        {
          "output_type": "stream",
          "name": "stderr",
          "text": [
            "100%|██████████| 5806/5806 [00:08<00:00, 673.69it/s]\n",
            "100%|██████████| 66180/66180 [00:26<00:00, 2506.61it/s]\n",
            "100%|██████████| 169/169 [00:03<00:00, 54.51it/s]\n"
          ]
        },
        {
          "output_type": "stream",
          "name": "stdout",
          "text": [
            "(10, 100, 0.1, 3)\n",
            "HR=0.0592, MRR=0.0194, COV=0.0032\n",
            "PureSVD training time: 0.040s\n"
          ]
        },
        {
          "output_type": "stream",
          "name": "stderr",
          "text": [
            "100%|██████████| 5806/5806 [00:08<00:00, 687.82it/s]\n",
            "100%|██████████| 66180/66180 [00:26<00:00, 2454.81it/s]\n",
            "100%|██████████| 169/169 [00:04<00:00, 41.00it/s]\n"
          ]
        },
        {
          "output_type": "stream",
          "name": "stdout",
          "text": [
            "(10, 100, 0.1, 5)\n",
            "HR=0.0414, MRR=0.0116, COV=0.004\n",
            "PureSVD training time: 0.045s\n"
          ]
        },
        {
          "output_type": "stream",
          "name": "stderr",
          "text": [
            "100%|██████████| 5806/5806 [00:08<00:00, 677.65it/s]\n",
            "100%|██████████| 66180/66180 [00:26<00:00, 2456.66it/s]\n",
            "100%|██████████| 169/169 [00:04<00:00, 39.10it/s]\n"
          ]
        },
        {
          "output_type": "stream",
          "name": "stdout",
          "text": [
            "(10, 100, 0.1, 7)\n",
            "HR=0.0414, MRR=0.00934, COV=0.00473\n",
            "PureSVD training time: 0.040s\n"
          ]
        },
        {
          "output_type": "stream",
          "name": "stderr",
          "text": [
            "100%|██████████| 5806/5806 [00:08<00:00, 671.16it/s]\n",
            "100%|██████████| 66180/66180 [00:26<00:00, 2452.90it/s]\n",
            "100%|██████████| 169/169 [00:03<00:00, 44.15it/s]\n"
          ]
        },
        {
          "output_type": "stream",
          "name": "stdout",
          "text": [
            "(10, 100, 0.1, 9)\n",
            "HR=0.0533, MRR=0.0105, COV=0.00497\n",
            "PureSVD training time: 0.039s\n"
          ]
        },
        {
          "output_type": "stream",
          "name": "stderr",
          "text": [
            "100%|██████████| 5806/5806 [00:08<00:00, 687.08it/s]\n",
            "100%|██████████| 66180/66180 [00:27<00:00, 2404.55it/s]\n",
            "100%|██████████| 169/169 [00:04<00:00, 37.06it/s]\n"
          ]
        },
        {
          "output_type": "stream",
          "name": "stdout",
          "text": [
            "(10, 200, 0.01, 3)\n",
            "HR=0.0828, MRR=0.0257, COV=0.00153\n",
            "PureSVD training time: 0.049s\n"
          ]
        },
        {
          "output_type": "stream",
          "name": "stderr",
          "text": [
            "100%|██████████| 5806/5806 [00:08<00:00, 670.06it/s]\n",
            "100%|██████████| 66180/66180 [00:26<00:00, 2472.14it/s]\n",
            "100%|██████████| 169/169 [00:06<00:00, 25.01it/s]\n"
          ]
        },
        {
          "output_type": "stream",
          "name": "stdout",
          "text": [
            "(10, 200, 0.01, 5)\n",
            "HR=0.0769, MRR=0.0208, COV=0.00228\n",
            "PureSVD training time: 0.046s\n"
          ]
        },
        {
          "output_type": "stream",
          "name": "stderr",
          "text": [
            "100%|██████████| 5806/5806 [00:08<00:00, 657.69it/s]\n",
            "100%|██████████| 66180/66180 [00:26<00:00, 2472.19it/s]\n",
            "100%|██████████| 169/169 [00:07<00:00, 24.07it/s]\n"
          ]
        },
        {
          "output_type": "stream",
          "name": "stdout",
          "text": [
            "(10, 200, 0.01, 7)\n",
            "HR=0.0769, MRR=0.0242, COV=0.00248\n",
            "PureSVD training time: 0.049s\n"
          ]
        },
        {
          "output_type": "stream",
          "name": "stderr",
          "text": [
            "100%|██████████| 5806/5806 [00:08<00:00, 663.66it/s]\n",
            "100%|██████████| 66180/66180 [00:26<00:00, 2456.67it/s]\n",
            "100%|██████████| 169/169 [00:06<00:00, 25.41it/s]\n"
          ]
        },
        {
          "output_type": "stream",
          "name": "stdout",
          "text": [
            "(10, 200, 0.01, 9)\n",
            "HR=0.0769, MRR=0.019, COV=0.00266\n",
            "PureSVD training time: 0.063s\n"
          ]
        },
        {
          "output_type": "stream",
          "name": "stderr",
          "text": [
            "100%|██████████| 5806/5806 [00:08<00:00, 678.73it/s]\n",
            "100%|██████████| 66180/66180 [00:26<00:00, 2456.85it/s]\n",
            "100%|██████████| 169/169 [00:06<00:00, 27.85it/s]\n"
          ]
        },
        {
          "output_type": "stream",
          "name": "stdout",
          "text": [
            "(10, 200, 0.1, 3)\n",
            "HR=0.0414, MRR=0.013, COV=0.00372\n",
            "PureSVD training time: 0.064s\n"
          ]
        },
        {
          "output_type": "stream",
          "name": "stderr",
          "text": [
            "100%|██████████| 5806/5806 [00:08<00:00, 671.43it/s]\n",
            "100%|██████████| 66180/66180 [00:26<00:00, 2486.88it/s]\n",
            "100%|██████████| 169/169 [00:08<00:00, 21.11it/s]\n"
          ]
        },
        {
          "output_type": "stream",
          "name": "stdout",
          "text": [
            "(10, 200, 0.1, 5)\n",
            "HR=0.0355, MRR=0.0083, COV=0.00446\n",
            "PureSVD training time: 0.042s\n"
          ]
        },
        {
          "output_type": "stream",
          "name": "stderr",
          "text": [
            "100%|██████████| 5806/5806 [00:08<00:00, 695.73it/s]\n",
            "100%|██████████| 66180/66180 [00:26<00:00, 2488.20it/s]\n",
            "100%|██████████| 169/169 [00:06<00:00, 25.14it/s]\n"
          ]
        },
        {
          "output_type": "stream",
          "name": "stdout",
          "text": [
            "(10, 200, 0.1, 7)\n",
            "HR=0.0355, MRR=0.0112, COV=0.00484\n",
            "PureSVD training time: 0.046s\n"
          ]
        },
        {
          "output_type": "stream",
          "name": "stderr",
          "text": [
            "100%|██████████| 5806/5806 [00:08<00:00, 680.72it/s]\n",
            "100%|██████████| 66180/66180 [00:27<00:00, 2413.42it/s]\n",
            "100%|██████████| 169/169 [00:06<00:00, 26.16it/s]\n"
          ]
        },
        {
          "output_type": "stream",
          "name": "stdout",
          "text": [
            "(10, 200, 0.1, 9)\n",
            "HR=0.0533, MRR=0.0201, COV=0.00509\n",
            "PureSVD training time: 0.065s\n"
          ]
        },
        {
          "output_type": "stream",
          "name": "stderr",
          "text": [
            "100%|██████████| 5806/5806 [00:08<00:00, 688.35it/s]\n",
            "100%|██████████| 66180/66180 [00:26<00:00, 2500.65it/s]\n",
            "100%|██████████| 169/169 [00:06<00:00, 24.76it/s]\n"
          ]
        },
        {
          "output_type": "stream",
          "name": "stdout",
          "text": [
            "(10, 300, 0.01, 3)\n",
            "HR=0.0533, MRR=0.0168, COV=0.00142\n",
            "PureSVD training time: 0.041s\n"
          ]
        },
        {
          "output_type": "stream",
          "name": "stderr",
          "text": [
            "100%|██████████| 5806/5806 [00:08<00:00, 689.45it/s]\n",
            "100%|██████████| 66180/66180 [00:26<00:00, 2455.99it/s]\n",
            "100%|██████████| 169/169 [00:10<00:00, 16.77it/s]\n"
          ]
        },
        {
          "output_type": "stream",
          "name": "stdout",
          "text": [
            "(10, 300, 0.01, 5)\n",
            "HR=0.0533, MRR=0.0142, COV=0.00248\n",
            "PureSVD training time: 0.039s\n"
          ]
        },
        {
          "output_type": "stream",
          "name": "stderr",
          "text": [
            "100%|██████████| 5806/5806 [00:08<00:00, 670.16it/s]\n",
            "100%|██████████| 66180/66180 [00:26<00:00, 2493.53it/s]\n",
            "100%|██████████| 169/169 [00:10<00:00, 15.45it/s]\n"
          ]
        },
        {
          "output_type": "stream",
          "name": "stdout",
          "text": [
            "(10, 300, 0.01, 7)\n",
            "HR=0.0533, MRR=0.015, COV=0.0032\n",
            "PureSVD training time: 0.045s\n"
          ]
        },
        {
          "output_type": "stream",
          "name": "stderr",
          "text": [
            "100%|██████████| 5806/5806 [00:08<00:00, 689.28it/s]\n",
            "100%|██████████| 66180/66180 [00:26<00:00, 2486.94it/s]\n",
            "100%|██████████| 169/169 [00:10<00:00, 15.83it/s]\n"
          ]
        },
        {
          "output_type": "stream",
          "name": "stdout",
          "text": [
            "(10, 300, 0.01, 9)\n",
            "HR=0.0533, MRR=0.0148, COV=0.00283\n",
            "PureSVD training time: 0.038s\n"
          ]
        },
        {
          "output_type": "stream",
          "name": "stderr",
          "text": [
            "100%|██████████| 5806/5806 [00:08<00:00, 697.36it/s]\n",
            "100%|██████████| 66180/66180 [00:26<00:00, 2458.14it/s]\n",
            "100%|██████████| 169/169 [00:09<00:00, 18.67it/s]\n"
          ]
        },
        {
          "output_type": "stream",
          "name": "stdout",
          "text": [
            "(10, 300, 0.1, 3)\n",
            "HR=0.0414, MRR=0.0119, COV=0.00397\n",
            "PureSVD training time: 0.048s\n"
          ]
        },
        {
          "output_type": "stream",
          "name": "stderr",
          "text": [
            "100%|██████████| 5806/5806 [00:08<00:00, 667.51it/s]\n",
            "100%|██████████| 66180/66180 [00:26<00:00, 2484.77it/s]\n",
            "100%|██████████| 169/169 [00:11<00:00, 14.16it/s]\n"
          ]
        },
        {
          "output_type": "stream",
          "name": "stdout",
          "text": [
            "(10, 300, 0.1, 5)\n",
            "HR=0.0473, MRR=0.0134, COV=0.00443\n",
            "PureSVD training time: 0.039s\n"
          ]
        },
        {
          "output_type": "stream",
          "name": "stderr",
          "text": [
            "100%|██████████| 5806/5806 [00:08<00:00, 685.44it/s]\n",
            "100%|██████████| 66180/66180 [00:27<00:00, 2437.13it/s]\n",
            "100%|██████████| 169/169 [00:10<00:00, 16.12it/s]\n"
          ]
        },
        {
          "output_type": "stream",
          "name": "stdout",
          "text": [
            "(10, 300, 0.1, 7)\n",
            "HR=0.0592, MRR=0.0173, COV=0.00499\n",
            "PureSVD training time: 0.046s\n"
          ]
        },
        {
          "output_type": "stream",
          "name": "stderr",
          "text": [
            "100%|██████████| 5806/5806 [00:08<00:00, 680.20it/s]\n",
            "100%|██████████| 66180/66180 [00:26<00:00, 2488.86it/s]\n",
            "100%|██████████| 169/169 [00:09<00:00, 18.03it/s]\n"
          ]
        },
        {
          "output_type": "stream",
          "name": "stdout",
          "text": [
            "(10, 300, 0.1, 9)\n",
            "HR=0.0355, MRR=0.0101, COV=0.00545\n",
            "PureSVD training time: 0.043s\n"
          ]
        },
        {
          "output_type": "stream",
          "name": "stderr",
          "text": [
            "100%|██████████| 5806/5806 [00:08<00:00, 690.54it/s]\n",
            "100%|██████████| 66180/66180 [00:26<00:00, 2483.59it/s]\n",
            "100%|██████████| 169/169 [00:09<00:00, 17.96it/s]\n"
          ]
        },
        {
          "output_type": "stream",
          "name": "stdout",
          "text": [
            "(10, 400, 0.01, 3)\n",
            "HR=0.0533, MRR=0.022, COV=0.00171\n",
            "PureSVD training time: 0.045s\n"
          ]
        },
        {
          "output_type": "stream",
          "name": "stderr",
          "text": [
            "100%|██████████| 5806/5806 [00:08<00:00, 678.95it/s]\n",
            "100%|██████████| 66180/66180 [00:26<00:00, 2493.30it/s]\n",
            "100%|██████████| 169/169 [00:13<00:00, 12.48it/s]\n"
          ]
        },
        {
          "output_type": "stream",
          "name": "stdout",
          "text": [
            "(10, 400, 0.01, 5)\n",
            "HR=0.0414, MRR=0.0118, COV=0.00266\n",
            "PureSVD training time: 0.039s\n"
          ]
        },
        {
          "output_type": "stream",
          "name": "stderr",
          "text": [
            "100%|██████████| 5806/5806 [00:08<00:00, 687.67it/s]\n",
            "100%|██████████| 66180/66180 [00:26<00:00, 2471.50it/s]\n",
            "100%|██████████| 169/169 [00:15<00:00, 10.75it/s]\n"
          ]
        },
        {
          "output_type": "stream",
          "name": "stdout",
          "text": [
            "(10, 400, 0.01, 7)\n",
            "HR=0.0414, MRR=0.00977, COV=0.00349\n",
            "PureSVD training time: 0.044s\n"
          ]
        },
        {
          "output_type": "stream",
          "name": "stderr",
          "text": [
            "100%|██████████| 5806/5806 [00:08<00:00, 675.94it/s]\n",
            "100%|██████████| 66180/66180 [00:27<00:00, 2434.51it/s]\n",
            "100%|██████████| 169/169 [00:15<00:00, 10.94it/s]\n"
          ]
        },
        {
          "output_type": "stream",
          "name": "stdout",
          "text": [
            "(10, 400, 0.01, 9)\n",
            "HR=0.0414, MRR=0.011, COV=0.00375\n",
            "PureSVD training time: 0.041s\n"
          ]
        },
        {
          "output_type": "stream",
          "name": "stderr",
          "text": [
            "100%|██████████| 5806/5806 [00:08<00:00, 689.28it/s]\n",
            "100%|██████████| 66180/66180 [00:27<00:00, 2448.25it/s]\n",
            "100%|██████████| 169/169 [00:11<00:00, 14.45it/s]\n"
          ]
        },
        {
          "output_type": "stream",
          "name": "stdout",
          "text": [
            "(10, 400, 0.1, 3)\n",
            "HR=0.0414, MRR=0.0106, COV=0.00367\n",
            "PureSVD training time: 0.049s\n"
          ]
        },
        {
          "output_type": "stream",
          "name": "stderr",
          "text": [
            "100%|██████████| 5806/5806 [00:08<00:00, 677.95it/s]\n",
            "100%|██████████| 66180/66180 [00:27<00:00, 2446.71it/s]\n",
            "100%|██████████| 169/169 [00:16<00:00, 10.28it/s]\n"
          ]
        },
        {
          "output_type": "stream",
          "name": "stdout",
          "text": [
            "(10, 400, 0.1, 5)\n",
            "HR=0.0414, MRR=0.0148, COV=0.00455\n",
            "PureSVD training time: 0.041s\n"
          ]
        },
        {
          "output_type": "stream",
          "name": "stderr",
          "text": [
            "100%|██████████| 5806/5806 [00:08<00:00, 678.61it/s]\n",
            "100%|██████████| 66180/66180 [00:26<00:00, 2480.31it/s]\n",
            "100%|██████████| 169/169 [00:12<00:00, 13.22it/s]\n"
          ]
        },
        {
          "output_type": "stream",
          "name": "stdout",
          "text": [
            "(10, 400, 0.1, 7)\n",
            "HR=0.0355, MRR=0.0127, COV=0.00502\n",
            "PureSVD training time: 0.038s\n"
          ]
        },
        {
          "output_type": "stream",
          "name": "stderr",
          "text": [
            "100%|██████████| 5806/5806 [00:08<00:00, 700.50it/s]\n",
            "100%|██████████| 66180/66180 [00:26<00:00, 2483.08it/s]\n",
            "100%|██████████| 169/169 [00:11<00:00, 14.39it/s]\n"
          ]
        },
        {
          "output_type": "stream",
          "name": "stdout",
          "text": [
            "(10, 400, 0.1, 9)\n",
            "HR=0.0473, MRR=0.0172, COV=0.00536\n",
            "PureSVD training time: 0.120s\n"
          ]
        },
        {
          "output_type": "stream",
          "name": "stderr",
          "text": [
            "100%|██████████| 5806/5806 [00:08<00:00, 674.59it/s]\n",
            "100%|██████████| 66180/66180 [00:26<00:00, 2463.29it/s]\n",
            "100%|██████████| 169/169 [00:03<00:00, 50.39it/s]\n"
          ]
        },
        {
          "output_type": "stream",
          "name": "stdout",
          "text": [
            "(50, 100, 0.01, 3)\n",
            "HR=0.0355, MRR=0.0077, COV=0.0016\n",
            "PureSVD training time: 0.133s\n"
          ]
        },
        {
          "output_type": "stream",
          "name": "stderr",
          "text": [
            "100%|██████████| 5806/5806 [00:08<00:00, 686.01it/s]\n",
            "100%|██████████| 66180/66180 [00:27<00:00, 2442.79it/s]\n",
            "100%|██████████| 169/169 [00:04<00:00, 38.86it/s]\n"
          ]
        },
        {
          "output_type": "stream",
          "name": "stdout",
          "text": [
            "(50, 100, 0.01, 5)\n",
            "HR=0.0533, MRR=0.0183, COV=0.00311\n",
            "PureSVD training time: 0.112s\n"
          ]
        },
        {
          "output_type": "stream",
          "name": "stderr",
          "text": [
            "100%|██████████| 5806/5806 [00:08<00:00, 671.54it/s]\n",
            "100%|██████████| 66180/66180 [00:26<00:00, 2454.19it/s]\n",
            "100%|██████████| 169/169 [00:04<00:00, 40.20it/s]\n"
          ]
        },
        {
          "output_type": "stream",
          "name": "stdout",
          "text": [
            "(50, 100, 0.01, 7)\n",
            "HR=0.0473, MRR=0.00986, COV=0.00273\n",
            "PureSVD training time: 0.112s\n"
          ]
        },
        {
          "output_type": "stream",
          "name": "stderr",
          "text": [
            "100%|██████████| 5806/5806 [00:08<00:00, 673.93it/s]\n",
            "100%|██████████| 66180/66180 [00:26<00:00, 2472.86it/s]\n",
            "100%|██████████| 169/169 [00:04<00:00, 38.32it/s]\n"
          ]
        },
        {
          "output_type": "stream",
          "name": "stdout",
          "text": [
            "(50, 100, 0.01, 9)\n",
            "HR=0.0651, MRR=0.0105, COV=0.0028\n",
            "PureSVD training time: 0.118s\n"
          ]
        },
        {
          "output_type": "stream",
          "name": "stderr",
          "text": [
            "100%|██████████| 5806/5806 [00:08<00:00, 695.06it/s]\n",
            "100%|██████████| 66180/66180 [00:26<00:00, 2453.28it/s]\n",
            "100%|██████████| 169/169 [00:03<00:00, 43.32it/s]\n"
          ]
        },
        {
          "output_type": "stream",
          "name": "stdout",
          "text": [
            "(50, 100, 0.1, 3)\n",
            "HR=0.0296, MRR=0.014, COV=0.00455\n",
            "PureSVD training time: 0.140s\n"
          ]
        },
        {
          "output_type": "stream",
          "name": "stderr",
          "text": [
            "100%|██████████| 5806/5806 [00:08<00:00, 688.16it/s]\n",
            "100%|██████████| 66180/66180 [00:26<00:00, 2514.97it/s]\n",
            "100%|██████████| 169/169 [00:05<00:00, 33.10it/s]\n"
          ]
        },
        {
          "output_type": "stream",
          "name": "stdout",
          "text": [
            "(50, 100, 0.1, 5)\n",
            "HR=0.0355, MRR=0.0103, COV=0.00645\n",
            "PureSVD training time: 0.119s\n"
          ]
        },
        {
          "output_type": "stream",
          "name": "stderr",
          "text": [
            "100%|██████████| 5806/5806 [00:08<00:00, 699.34it/s]\n",
            "100%|██████████| 66180/66180 [00:26<00:00, 2499.96it/s]\n",
            "100%|██████████| 169/169 [00:05<00:00, 32.12it/s]\n"
          ]
        },
        {
          "output_type": "stream",
          "name": "stdout",
          "text": [
            "(50, 100, 0.1, 7)\n",
            "HR=0.0414, MRR=0.0121, COV=0.00618\n",
            "PureSVD training time: 0.125s\n"
          ]
        },
        {
          "output_type": "stream",
          "name": "stderr",
          "text": [
            "100%|██████████| 5806/5806 [00:08<00:00, 694.48it/s]\n",
            "100%|██████████| 66180/66180 [00:26<00:00, 2470.09it/s]\n",
            "100%|██████████| 169/169 [00:05<00:00, 32.78it/s]\n"
          ]
        },
        {
          "output_type": "stream",
          "name": "stdout",
          "text": [
            "(50, 100, 0.1, 9)\n",
            "HR=0.0592, MRR=0.0115, COV=0.00632\n",
            "PureSVD training time: 0.125s\n"
          ]
        },
        {
          "output_type": "stream",
          "name": "stderr",
          "text": [
            "100%|██████████| 5806/5806 [00:08<00:00, 653.48it/s]\n",
            "100%|██████████| 66180/66180 [00:26<00:00, 2497.55it/s]\n",
            "100%|██████████| 169/169 [00:05<00:00, 32.03it/s]\n"
          ]
        },
        {
          "output_type": "stream",
          "name": "stdout",
          "text": [
            "(50, 200, 0.01, 3)\n",
            "HR=0.0592, MRR=0.0274, COV=0.00151\n",
            "PureSVD training time: 0.111s\n"
          ]
        },
        {
          "output_type": "stream",
          "name": "stderr",
          "text": [
            "100%|██████████| 5806/5806 [00:08<00:00, 686.71it/s]\n",
            "100%|██████████| 66180/66180 [00:26<00:00, 2508.90it/s]\n",
            "100%|██████████| 169/169 [00:07<00:00, 21.75it/s]\n"
          ]
        },
        {
          "output_type": "stream",
          "name": "stdout",
          "text": [
            "(50, 200, 0.01, 5)\n",
            "HR=0.0473, MRR=0.0153, COV=0.0032\n",
            "PureSVD training time: 0.117s\n"
          ]
        },
        {
          "output_type": "stream",
          "name": "stderr",
          "text": [
            "100%|██████████| 5806/5806 [00:08<00:00, 685.91it/s]\n",
            "100%|██████████| 66180/66180 [00:26<00:00, 2457.95it/s]\n",
            "100%|██████████| 169/169 [00:08<00:00, 20.91it/s]\n"
          ]
        },
        {
          "output_type": "stream",
          "name": "stdout",
          "text": [
            "(50, 200, 0.01, 7)\n",
            "HR=0.0769, MRR=0.0154, COV=0.0031\n",
            "PureSVD training time: 0.117s\n"
          ]
        },
        {
          "output_type": "stream",
          "name": "stderr",
          "text": [
            "100%|██████████| 5806/5806 [00:08<00:00, 686.88it/s]\n",
            "100%|██████████| 66180/66180 [00:26<00:00, 2487.56it/s]\n",
            "100%|██████████| 169/169 [00:08<00:00, 20.56it/s]\n"
          ]
        },
        {
          "output_type": "stream",
          "name": "stdout",
          "text": [
            "(50, 200, 0.01, 9)\n",
            "HR=0.071, MRR=0.0111, COV=0.00314\n",
            "PureSVD training time: 0.122s\n"
          ]
        },
        {
          "output_type": "stream",
          "name": "stderr",
          "text": [
            "100%|██████████| 5806/5806 [00:08<00:00, 696.89it/s]\n",
            "100%|██████████| 66180/66180 [00:26<00:00, 2453.64it/s]\n",
            "100%|██████████| 169/169 [00:07<00:00, 24.02it/s]\n"
          ]
        },
        {
          "output_type": "stream",
          "name": "stdout",
          "text": [
            "(50, 200, 0.1, 3)\n",
            "HR=0.0355, MRR=0.0092, COV=0.00592\n",
            "PureSVD training time: 0.112s\n"
          ]
        },
        {
          "output_type": "stream",
          "name": "stderr",
          "text": [
            "100%|██████████| 5806/5806 [00:08<00:00, 683.68it/s]\n",
            "100%|██████████| 66180/66180 [00:26<00:00, 2483.15it/s]\n",
            "100%|██████████| 169/169 [00:09<00:00, 17.42it/s]\n"
          ]
        },
        {
          "output_type": "stream",
          "name": "stdout",
          "text": [
            "(50, 200, 0.1, 5)\n",
            "HR=0.0355, MRR=0.0127, COV=0.00701\n",
            "PureSVD training time: 0.130s\n"
          ]
        },
        {
          "output_type": "stream",
          "name": "stderr",
          "text": [
            "100%|██████████| 5806/5806 [00:08<00:00, 651.16it/s]\n",
            "100%|██████████| 66180/66180 [00:26<00:00, 2497.07it/s]\n",
            "100%|██████████| 169/169 [00:09<00:00, 18.10it/s]\n"
          ]
        },
        {
          "output_type": "stream",
          "name": "stdout",
          "text": [
            "(50, 200, 0.1, 7)\n",
            "HR=0.0296, MRR=0.0152, COV=0.00731\n",
            "PureSVD training time: 0.113s\n"
          ]
        },
        {
          "output_type": "stream",
          "name": "stderr",
          "text": [
            "100%|██████████| 5806/5806 [00:08<00:00, 681.90it/s]\n",
            "100%|██████████| 66180/66180 [00:26<00:00, 2492.92it/s]\n",
            "100%|██████████| 169/169 [00:09<00:00, 18.62it/s]\n"
          ]
        },
        {
          "output_type": "stream",
          "name": "stdout",
          "text": [
            "(50, 200, 0.1, 9)\n",
            "HR=0.0473, MRR=0.0133, COV=0.00703\n",
            "PureSVD training time: 0.124s\n"
          ]
        },
        {
          "output_type": "stream",
          "name": "stderr",
          "text": [
            "100%|██████████| 5806/5806 [00:08<00:00, 694.06it/s]\n",
            "100%|██████████| 66180/66180 [00:26<00:00, 2464.14it/s]\n",
            "100%|██████████| 169/169 [00:07<00:00, 21.92it/s]\n"
          ]
        },
        {
          "output_type": "stream",
          "name": "stdout",
          "text": [
            "(50, 300, 0.01, 3)\n",
            "HR=0.0533, MRR=0.0153, COV=0.00192\n",
            "PureSVD training time: 0.115s\n"
          ]
        },
        {
          "output_type": "stream",
          "name": "stderr",
          "text": [
            "100%|██████████| 5806/5806 [00:08<00:00, 685.78it/s]\n",
            "100%|██████████| 66180/66180 [00:26<00:00, 2470.22it/s]\n",
            "100%|██████████| 169/169 [00:11<00:00, 14.65it/s]\n"
          ]
        },
        {
          "output_type": "stream",
          "name": "stdout",
          "text": [
            "(50, 300, 0.01, 5)\n",
            "HR=0.0296, MRR=0.0165, COV=0.00335\n",
            "PureSVD training time: 0.120s\n"
          ]
        },
        {
          "output_type": "stream",
          "name": "stderr",
          "text": [
            "100%|██████████| 5806/5806 [00:08<00:00, 680.66it/s]\n",
            "100%|██████████| 66180/66180 [00:26<00:00, 2469.15it/s]\n",
            "100%|██████████| 169/169 [00:12<00:00, 13.80it/s]\n"
          ]
        },
        {
          "output_type": "stream",
          "name": "stdout",
          "text": [
            "(50, 300, 0.01, 7)\n",
            "HR=0.0296, MRR=0.00657, COV=0.00364\n",
            "PureSVD training time: 0.143s\n"
          ]
        },
        {
          "output_type": "stream",
          "name": "stderr",
          "text": [
            "100%|██████████| 5806/5806 [00:08<00:00, 663.44it/s]\n",
            "100%|██████████| 66180/66180 [00:26<00:00, 2520.54it/s]\n",
            "100%|██████████| 169/169 [00:11<00:00, 14.14it/s]\n"
          ]
        },
        {
          "output_type": "stream",
          "name": "stdout",
          "text": [
            "(50, 300, 0.01, 9)\n",
            "HR=0.0355, MRR=0.0105, COV=0.00372\n",
            "PureSVD training time: 0.114s\n"
          ]
        },
        {
          "output_type": "stream",
          "name": "stderr",
          "text": [
            "100%|██████████| 5806/5806 [00:08<00:00, 681.82it/s]\n",
            "100%|██████████| 66180/66180 [00:26<00:00, 2466.48it/s]\n",
            "100%|██████████| 169/169 [00:10<00:00, 16.73it/s]\n"
          ]
        },
        {
          "output_type": "stream",
          "name": "stdout",
          "text": [
            "(50, 300, 0.1, 3)\n",
            "HR=0.0473, MRR=0.00828, COV=0.00697\n",
            "PureSVD training time: 0.117s\n"
          ]
        },
        {
          "output_type": "stream",
          "name": "stderr",
          "text": [
            "100%|██████████| 5806/5806 [00:08<00:00, 683.96it/s]\n",
            "100%|██████████| 66180/66180 [00:26<00:00, 2503.34it/s]\n",
            "100%|██████████| 169/169 [00:13<00:00, 12.23it/s]\n"
          ]
        },
        {
          "output_type": "stream",
          "name": "stdout",
          "text": [
            "(50, 300, 0.1, 5)\n",
            "HR=0.0533, MRR=0.0131, COV=0.00781\n",
            "PureSVD training time: 0.117s\n"
          ]
        },
        {
          "output_type": "stream",
          "name": "stderr",
          "text": [
            "100%|██████████| 5806/5806 [00:08<00:00, 698.73it/s]\n",
            "100%|██████████| 66180/66180 [00:26<00:00, 2469.90it/s]\n",
            "100%|██████████| 169/169 [00:12<00:00, 13.30it/s]\n"
          ]
        },
        {
          "output_type": "stream",
          "name": "stdout",
          "text": [
            "(50, 300, 0.1, 7)\n",
            "HR=0.0473, MRR=0.0128, COV=0.00786\n",
            "PureSVD training time: 0.117s\n"
          ]
        },
        {
          "output_type": "stream",
          "name": "stderr",
          "text": [
            "100%|██████████| 5806/5806 [00:08<00:00, 707.13it/s]\n",
            "100%|██████████| 66180/66180 [00:26<00:00, 2460.79it/s]\n",
            "100%|██████████| 169/169 [00:12<00:00, 13.92it/s]\n"
          ]
        },
        {
          "output_type": "stream",
          "name": "stdout",
          "text": [
            "(50, 300, 0.1, 9)\n",
            "HR=0.0473, MRR=0.0134, COV=0.00725\n",
            "PureSVD training time: 0.121s\n"
          ]
        },
        {
          "output_type": "stream",
          "name": "stderr",
          "text": [
            "100%|██████████| 5806/5806 [00:08<00:00, 661.65it/s]\n",
            "100%|██████████| 66180/66180 [00:26<00:00, 2483.86it/s]\n",
            "100%|██████████| 169/169 [00:10<00:00, 15.89it/s]\n"
          ]
        },
        {
          "output_type": "stream",
          "name": "stdout",
          "text": [
            "(50, 400, 0.01, 3)\n",
            "HR=0.0533, MRR=0.0163, COV=0.00216\n",
            "PureSVD training time: 0.139s\n"
          ]
        },
        {
          "output_type": "stream",
          "name": "stderr",
          "text": [
            "100%|██████████| 5806/5806 [00:08<00:00, 691.61it/s]\n",
            "100%|██████████| 66180/66180 [00:26<00:00, 2494.84it/s]\n",
            "100%|██████████| 169/169 [00:14<00:00, 11.27it/s]\n"
          ]
        },
        {
          "output_type": "stream",
          "name": "stdout",
          "text": [
            "(50, 400, 0.01, 5)\n",
            "HR=0.0414, MRR=0.0187, COV=0.00396\n",
            "PureSVD training time: 0.118s\n"
          ]
        },
        {
          "output_type": "stream",
          "name": "stderr",
          "text": [
            "100%|██████████| 5806/5806 [00:08<00:00, 695.87it/s]\n",
            "100%|██████████| 66180/66180 [00:26<00:00, 2483.32it/s]\n",
            "100%|██████████| 169/169 [00:16<00:00,  9.99it/s]\n"
          ]
        },
        {
          "output_type": "stream",
          "name": "stdout",
          "text": [
            "(50, 400, 0.01, 7)\n",
            "HR=0.0592, MRR=0.0154, COV=0.00432\n",
            "PureSVD training time: 0.113s\n"
          ]
        },
        {
          "output_type": "stream",
          "name": "stderr",
          "text": [
            "100%|██████████| 5806/5806 [00:08<00:00, 693.49it/s]\n",
            "100%|██████████| 66180/66180 [00:26<00:00, 2484.00it/s]\n",
            "100%|██████████| 169/169 [00:17<00:00,  9.92it/s]\n"
          ]
        },
        {
          "output_type": "stream",
          "name": "stdout",
          "text": [
            "(50, 400, 0.01, 9)\n",
            "HR=0.0592, MRR=0.0186, COV=0.00406\n",
            "PureSVD training time: 0.113s\n"
          ]
        },
        {
          "output_type": "stream",
          "name": "stderr",
          "text": [
            "100%|██████████| 5806/5806 [00:08<00:00, 652.59it/s]\n",
            "100%|██████████| 66180/66180 [00:26<00:00, 2513.24it/s]\n",
            "100%|██████████| 169/169 [00:13<00:00, 12.96it/s]\n"
          ]
        },
        {
          "output_type": "stream",
          "name": "stdout",
          "text": [
            "(50, 400, 0.1, 3)\n",
            "HR=0.0237, MRR=0.00592, COV=0.00719\n",
            "PureSVD training time: 0.118s\n"
          ]
        },
        {
          "output_type": "stream",
          "name": "stderr",
          "text": [
            "100%|██████████| 5806/5806 [00:08<00:00, 680.40it/s]\n",
            "100%|██████████| 66180/66180 [00:26<00:00, 2472.95it/s]\n",
            "100%|██████████| 169/169 [00:18<00:00,  8.90it/s]\n"
          ]
        },
        {
          "output_type": "stream",
          "name": "stdout",
          "text": [
            "(50, 400, 0.1, 5)\n",
            "HR=0.0473, MRR=0.0149, COV=0.00756\n",
            "PureSVD training time: 0.125s\n"
          ]
        },
        {
          "output_type": "stream",
          "name": "stderr",
          "text": [
            "100%|██████████| 5806/5806 [00:08<00:00, 686.53it/s]\n",
            "100%|██████████| 66180/66180 [00:26<00:00, 2507.84it/s]\n",
            "100%|██████████| 169/169 [00:16<00:00, 10.38it/s]\n"
          ]
        },
        {
          "output_type": "stream",
          "name": "stdout",
          "text": [
            "(50, 400, 0.1, 7)\n",
            "HR=0.0355, MRR=0.0139, COV=0.00768\n",
            "PureSVD training time: 0.114s\n"
          ]
        },
        {
          "output_type": "stream",
          "name": "stderr",
          "text": [
            "100%|██████████| 5806/5806 [00:08<00:00, 694.94it/s]\n",
            "100%|██████████| 66180/66180 [00:26<00:00, 2475.85it/s]\n",
            "100%|██████████| 169/169 [00:16<00:00, 10.44it/s]\n"
          ]
        },
        {
          "output_type": "stream",
          "name": "stdout",
          "text": [
            "(50, 400, 0.1, 9)\n",
            "HR=0.0473, MRR=0.0178, COV=0.00775\n",
            "PureSVD training time: 0.265s\n"
          ]
        },
        {
          "output_type": "stream",
          "name": "stderr",
          "text": [
            "100%|██████████| 5806/5806 [00:08<00:00, 667.15it/s]\n",
            "100%|██████████| 66180/66180 [00:27<00:00, 2406.02it/s]\n",
            "100%|██████████| 169/169 [00:04<00:00, 36.23it/s]\n"
          ]
        },
        {
          "output_type": "stream",
          "name": "stdout",
          "text": [
            "(100, 100, 0.01, 3)\n",
            "HR=0.0414, MRR=0.00775, COV=0.00189\n",
            "PureSVD training time: 0.278s\n"
          ]
        },
        {
          "output_type": "stream",
          "name": "stderr",
          "text": [
            "100%|██████████| 5806/5806 [00:08<00:00, 681.61it/s]\n",
            "100%|██████████| 66180/66180 [00:26<00:00, 2467.14it/s]\n",
            "100%|██████████| 169/169 [00:05<00:00, 32.13it/s]\n"
          ]
        },
        {
          "output_type": "stream",
          "name": "stdout",
          "text": [
            "(100, 100, 0.01, 5)\n",
            "HR=0.0769, MRR=0.0207, COV=0.00246\n",
            "PureSVD training time: 0.254s\n"
          ]
        },
        {
          "output_type": "stream",
          "name": "stderr",
          "text": [
            "100%|██████████| 5806/5806 [00:08<00:00, 694.34it/s]\n",
            "100%|██████████| 66180/66180 [00:26<00:00, 2473.17it/s]\n",
            "100%|██████████| 169/169 [00:05<00:00, 30.94it/s]\n"
          ]
        },
        {
          "output_type": "stream",
          "name": "stdout",
          "text": [
            "(100, 100, 0.01, 7)\n",
            "HR=0.0651, MRR=0.013, COV=0.00246\n",
            "PureSVD training time: 0.269s\n"
          ]
        },
        {
          "output_type": "stream",
          "name": "stderr",
          "text": [
            "100%|██████████| 5806/5806 [00:08<00:00, 690.70it/s]\n",
            "100%|██████████| 66180/66180 [00:26<00:00, 2468.03it/s]\n",
            "100%|██████████| 169/169 [00:05<00:00, 31.60it/s]\n"
          ]
        },
        {
          "output_type": "stream",
          "name": "stdout",
          "text": [
            "(100, 100, 0.01, 9)\n",
            "HR=0.0651, MRR=0.0152, COV=0.00252\n",
            "PureSVD training time: 0.277s\n"
          ]
        },
        {
          "output_type": "stream",
          "name": "stderr",
          "text": [
            "100%|██████████| 5806/5806 [00:08<00:00, 665.21it/s]\n",
            "100%|██████████| 66180/66180 [00:26<00:00, 2458.11it/s]\n",
            "100%|██████████| 169/169 [00:05<00:00, 33.05it/s]\n"
          ]
        },
        {
          "output_type": "stream",
          "name": "stdout",
          "text": [
            "(100, 100, 0.1, 3)\n",
            "HR=0.0296, MRR=0.00814, COV=0.00476\n",
            "PureSVD training time: 0.264s\n"
          ]
        },
        {
          "output_type": "stream",
          "name": "stderr",
          "text": [
            "100%|██████████| 5806/5806 [00:08<00:00, 673.23it/s]\n",
            "100%|██████████| 66180/66180 [00:26<00:00, 2469.71it/s]\n",
            "100%|██████████| 169/169 [00:06<00:00, 26.31it/s]\n"
          ]
        },
        {
          "output_type": "stream",
          "name": "stdout",
          "text": [
            "(100, 100, 0.1, 5)\n",
            "HR=0.0355, MRR=0.0111, COV=0.00684\n",
            "PureSVD training time: 0.258s\n"
          ]
        },
        {
          "output_type": "stream",
          "name": "stderr",
          "text": [
            "100%|██████████| 5806/5806 [00:09<00:00, 641.58it/s]\n",
            "100%|██████████| 66180/66180 [00:26<00:00, 2461.35it/s]\n",
            "100%|██████████| 169/169 [00:06<00:00, 25.34it/s]\n"
          ]
        },
        {
          "output_type": "stream",
          "name": "stdout",
          "text": [
            "(100, 100, 0.1, 7)\n",
            "HR=0.0237, MRR=0.00625, COV=0.00703\n",
            "PureSVD training time: 0.265s\n"
          ]
        },
        {
          "output_type": "stream",
          "name": "stderr",
          "text": [
            "100%|██████████| 5806/5806 [00:08<00:00, 660.18it/s]\n",
            "100%|██████████| 66180/66180 [00:27<00:00, 2441.39it/s]\n",
            "100%|██████████| 169/169 [00:06<00:00, 25.51it/s]\n"
          ]
        },
        {
          "output_type": "stream",
          "name": "stdout",
          "text": [
            "(100, 100, 0.1, 9)\n",
            "HR=0.0414, MRR=0.0132, COV=0.00669\n",
            "PureSVD training time: 0.270s\n"
          ]
        },
        {
          "output_type": "stream",
          "name": "stderr",
          "text": [
            "100%|██████████| 5806/5806 [00:08<00:00, 689.18it/s]\n",
            "100%|██████████| 66180/66180 [00:26<00:00, 2487.11it/s]\n",
            "100%|██████████| 169/169 [00:06<00:00, 26.62it/s]\n"
          ]
        },
        {
          "output_type": "stream",
          "name": "stdout",
          "text": [
            "(100, 200, 0.01, 3)\n",
            "HR=0.0651, MRR=0.0184, COV=0.00153\n",
            "PureSVD training time: 0.278s\n"
          ]
        },
        {
          "output_type": "stream",
          "name": "stderr",
          "text": [
            "100%|██████████| 5806/5806 [00:08<00:00, 677.83it/s]\n",
            "100%|██████████| 66180/66180 [00:26<00:00, 2457.83it/s]\n",
            "100%|██████████| 169/169 [00:08<00:00, 19.63it/s]\n"
          ]
        },
        {
          "output_type": "stream",
          "name": "stdout",
          "text": [
            "(100, 200, 0.01, 5)\n",
            "HR=0.0769, MRR=0.0243, COV=0.00234\n",
            "PureSVD training time: 0.265s\n"
          ]
        },
        {
          "output_type": "stream",
          "name": "stderr",
          "text": [
            "100%|██████████| 5806/5806 [00:08<00:00, 688.11it/s]\n",
            "100%|██████████| 66180/66180 [00:26<00:00, 2464.26it/s]\n",
            "100%|██████████| 169/169 [00:09<00:00, 18.40it/s]\n"
          ]
        },
        {
          "output_type": "stream",
          "name": "stdout",
          "text": [
            "(100, 200, 0.01, 7)\n",
            "HR=0.0414, MRR=0.00979, COV=0.00334\n",
            "PureSVD training time: 0.295s\n"
          ]
        },
        {
          "output_type": "stream",
          "name": "stderr",
          "text": [
            "100%|██████████| 5806/5806 [00:08<00:00, 671.88it/s]\n",
            "100%|██████████| 66180/66180 [00:26<00:00, 2493.07it/s]\n",
            "100%|██████████| 169/169 [00:09<00:00, 17.83it/s]\n"
          ]
        },
        {
          "output_type": "stream",
          "name": "stdout",
          "text": [
            "(100, 200, 0.01, 9)\n",
            "HR=0.0355, MRR=0.0104, COV=0.00334\n",
            "PureSVD training time: 0.261s\n"
          ]
        },
        {
          "output_type": "stream",
          "name": "stderr",
          "text": [
            "100%|██████████| 5806/5806 [00:08<00:00, 689.22it/s]\n",
            "100%|██████████| 66180/66180 [00:26<00:00, 2489.93it/s]\n",
            "100%|██████████| 169/169 [00:08<00:00, 20.62it/s]\n"
          ]
        },
        {
          "output_type": "stream",
          "name": "stdout",
          "text": [
            "(100, 200, 0.1, 3)\n",
            "HR=0.0237, MRR=0.00386, COV=0.00707\n",
            "PureSVD training time: 0.264s\n"
          ]
        },
        {
          "output_type": "stream",
          "name": "stderr",
          "text": [
            "100%|██████████| 5806/5806 [00:08<00:00, 696.48it/s]\n",
            "100%|██████████| 66180/66180 [00:26<00:00, 2507.31it/s]\n",
            "100%|██████████| 169/169 [00:10<00:00, 15.53it/s]\n"
          ]
        },
        {
          "output_type": "stream",
          "name": "stdout",
          "text": [
            "(100, 200, 0.1, 5)\n",
            "HR=0.0178, MRR=0.00351, COV=0.00748\n",
            "PureSVD training time: 0.249s\n"
          ]
        },
        {
          "output_type": "stream",
          "name": "stderr",
          "text": [
            "100%|██████████| 5806/5806 [00:08<00:00, 696.36it/s]\n",
            "100%|██████████| 66180/66180 [00:26<00:00, 2488.02it/s]\n",
            "100%|██████████| 169/169 [00:10<00:00, 15.70it/s]\n"
          ]
        },
        {
          "output_type": "stream",
          "name": "stdout",
          "text": [
            "(100, 200, 0.1, 7)\n",
            "HR=0.0355, MRR=0.00653, COV=0.00752\n",
            "PureSVD training time: 0.259s\n"
          ]
        },
        {
          "output_type": "stream",
          "name": "stderr",
          "text": [
            "100%|██████████| 5806/5806 [00:08<00:00, 674.19it/s]\n",
            "100%|██████████| 66180/66180 [00:26<00:00, 2462.47it/s]\n",
            "100%|██████████| 169/169 [00:10<00:00, 15.43it/s]\n"
          ]
        },
        {
          "output_type": "stream",
          "name": "stdout",
          "text": [
            "(100, 200, 0.1, 9)\n",
            "HR=0.0296, MRR=0.00375, COV=0.00766\n",
            "PureSVD training time: 0.270s\n"
          ]
        },
        {
          "output_type": "stream",
          "name": "stderr",
          "text": [
            "100%|██████████| 5806/5806 [00:08<00:00, 685.25it/s]\n",
            "100%|██████████| 66180/66180 [00:26<00:00, 2459.61it/s]\n",
            "100%|██████████| 169/169 [00:08<00:00, 19.42it/s]\n"
          ]
        },
        {
          "output_type": "stream",
          "name": "stdout",
          "text": [
            "(100, 300, 0.01, 3)\n",
            "HR=0.0355, MRR=0.00567, COV=0.00198\n",
            "PureSVD training time: 0.266s\n"
          ]
        },
        {
          "output_type": "stream",
          "name": "stderr",
          "text": [
            "100%|██████████| 5806/5806 [00:08<00:00, 690.77it/s]\n",
            "100%|██████████| 66180/66180 [00:26<00:00, 2475.04it/s]\n",
            "100%|██████████| 169/169 [00:12<00:00, 13.64it/s]\n"
          ]
        },
        {
          "output_type": "stream",
          "name": "stdout",
          "text": [
            "(100, 300, 0.01, 5)\n",
            "HR=0.0533, MRR=0.0154, COV=0.00296\n",
            "PureSVD training time: 0.289s\n"
          ]
        },
        {
          "output_type": "stream",
          "name": "stderr",
          "text": [
            "100%|██████████| 5806/5806 [00:08<00:00, 691.91it/s]\n",
            "100%|██████████| 66180/66180 [00:26<00:00, 2490.45it/s]\n",
            "100%|██████████| 169/169 [00:13<00:00, 12.59it/s]\n"
          ]
        },
        {
          "output_type": "stream",
          "name": "stdout",
          "text": [
            "(100, 300, 0.01, 7)\n",
            "HR=0.0473, MRR=0.00933, COV=0.00381\n",
            "PureSVD training time: 0.267s\n"
          ]
        },
        {
          "output_type": "stream",
          "name": "stderr",
          "text": [
            "100%|██████████| 5806/5806 [00:08<00:00, 688.36it/s]\n",
            "100%|██████████| 66180/66180 [00:26<00:00, 2487.47it/s]\n",
            "100%|██████████| 169/169 [00:13<00:00, 12.43it/s]\n"
          ]
        },
        {
          "output_type": "stream",
          "name": "stdout",
          "text": [
            "(100, 300, 0.01, 9)\n",
            "HR=0.0473, MRR=0.0128, COV=0.00363\n",
            "PureSVD training time: 0.273s\n"
          ]
        },
        {
          "output_type": "stream",
          "name": "stderr",
          "text": [
            "100%|██████████| 5806/5806 [00:08<00:00, 683.51it/s]\n",
            "100%|██████████| 66180/66180 [00:26<00:00, 2475.60it/s]\n",
            "100%|██████████| 169/169 [00:10<00:00, 15.62it/s]\n"
          ]
        },
        {
          "output_type": "stream",
          "name": "stdout",
          "text": [
            "(100, 300, 0.1, 3)\n",
            "HR=0.0296, MRR=0.00825, COV=0.00748\n",
            "PureSVD training time: 0.262s\n"
          ]
        },
        {
          "output_type": "stream",
          "name": "stderr",
          "text": [
            "100%|██████████| 5806/5806 [00:08<00:00, 695.99it/s]\n",
            "100%|██████████| 66180/66180 [00:26<00:00, 2476.76it/s]\n",
            "100%|██████████| 169/169 [00:14<00:00, 11.27it/s]\n"
          ]
        },
        {
          "output_type": "stream",
          "name": "stdout",
          "text": [
            "(100, 300, 0.1, 5)\n",
            "HR=0.0237, MRR=0.00611, COV=0.00808\n",
            "PureSVD training time: 0.297s\n"
          ]
        },
        {
          "output_type": "stream",
          "name": "stderr",
          "text": [
            "100%|██████████| 5806/5806 [00:08<00:00, 685.10it/s]\n",
            "100%|██████████| 66180/66180 [00:26<00:00, 2476.36it/s]\n",
            "100%|██████████| 169/169 [00:14<00:00, 11.56it/s]\n"
          ]
        },
        {
          "output_type": "stream",
          "name": "stdout",
          "text": [
            "(100, 300, 0.1, 7)\n",
            "HR=0.0296, MRR=0.00559, COV=0.00777\n",
            "PureSVD training time: 0.256s\n"
          ]
        },
        {
          "output_type": "stream",
          "name": "stderr",
          "text": [
            "100%|██████████| 5806/5806 [00:08<00:00, 684.79it/s]\n",
            "100%|██████████| 66180/66180 [00:27<00:00, 2446.51it/s]\n",
            "100%|██████████| 169/169 [00:14<00:00, 11.34it/s]\n"
          ]
        },
        {
          "output_type": "stream",
          "name": "stdout",
          "text": [
            "(100, 300, 0.1, 9)\n",
            "HR=0.0237, MRR=0.00342, COV=0.00828\n",
            "PureSVD training time: 0.284s\n"
          ]
        },
        {
          "output_type": "stream",
          "name": "stderr",
          "text": [
            "100%|██████████| 5806/5806 [00:08<00:00, 689.22it/s]\n",
            "100%|██████████| 66180/66180 [00:26<00:00, 2455.31it/s]\n",
            "100%|██████████| 169/169 [00:11<00:00, 14.96it/s]\n"
          ]
        },
        {
          "output_type": "stream",
          "name": "stdout",
          "text": [
            "(100, 400, 0.01, 3)\n",
            "HR=0.0592, MRR=0.0127, COV=0.00209\n",
            "PureSVD training time: 0.274s\n"
          ]
        },
        {
          "output_type": "stream",
          "name": "stderr",
          "text": [
            "100%|██████████| 5806/5806 [00:08<00:00, 680.39it/s]\n",
            "100%|██████████| 66180/66180 [00:26<00:00, 2456.62it/s]\n",
            "100%|██████████| 169/169 [00:17<00:00,  9.75it/s]\n"
          ]
        },
        {
          "output_type": "stream",
          "name": "stdout",
          "text": [
            "(100, 400, 0.01, 5)\n",
            "HR=0.0533, MRR=0.0155, COV=0.00335\n",
            "PureSVD training time: 0.260s\n"
          ]
        },
        {
          "output_type": "stream",
          "name": "stderr",
          "text": [
            "100%|██████████| 5806/5806 [00:08<00:00, 690.02it/s]\n",
            "100%|██████████| 66180/66180 [00:27<00:00, 2423.06it/s]\n",
            "100%|██████████| 169/169 [00:18<00:00,  8.96it/s]\n"
          ]
        },
        {
          "output_type": "stream",
          "name": "stdout",
          "text": [
            "(100, 400, 0.01, 7)\n",
            "HR=0.0651, MRR=0.0217, COV=0.0042\n",
            "PureSVD training time: 0.263s\n"
          ]
        },
        {
          "output_type": "stream",
          "name": "stderr",
          "text": [
            "100%|██████████| 5806/5806 [00:08<00:00, 693.17it/s]\n",
            "100%|██████████| 66180/66180 [00:26<00:00, 2460.02it/s]\n",
            "100%|██████████| 169/169 [00:19<00:00,  8.72it/s]\n"
          ]
        },
        {
          "output_type": "stream",
          "name": "stdout",
          "text": [
            "(100, 400, 0.01, 9)\n",
            "HR=0.0533, MRR=0.0193, COV=0.00411\n",
            "PureSVD training time: 0.258s\n"
          ]
        },
        {
          "output_type": "stream",
          "name": "stderr",
          "text": [
            "100%|██████████| 5806/5806 [00:08<00:00, 681.78it/s]\n",
            "100%|██████████| 66180/66180 [00:26<00:00, 2466.40it/s]\n",
            "100%|██████████| 169/169 [00:13<00:00, 12.21it/s]\n"
          ]
        },
        {
          "output_type": "stream",
          "name": "stdout",
          "text": [
            "(100, 400, 0.1, 3)\n",
            "HR=0.0118, MRR=0.0014, COV=0.00836\n",
            "PureSVD training time: 0.272s\n"
          ]
        },
        {
          "output_type": "stream",
          "name": "stderr",
          "text": [
            "100%|██████████| 5806/5806 [00:08<00:00, 689.60it/s]\n",
            "100%|██████████| 66180/66180 [00:27<00:00, 2445.85it/s]\n",
            "100%|██████████| 169/169 [00:19<00:00,  8.47it/s]\n"
          ]
        },
        {
          "output_type": "stream",
          "name": "stdout",
          "text": [
            "(100, 400, 0.1, 5)\n",
            "HR=0.0118, MRR=0.00203, COV=0.00817\n",
            "PureSVD training time: 0.271s\n"
          ]
        },
        {
          "output_type": "stream",
          "name": "stderr",
          "text": [
            "100%|██████████| 5806/5806 [00:08<00:00, 684.40it/s]\n",
            "100%|██████████| 66180/66180 [00:26<00:00, 2458.06it/s]\n",
            " 25%|██▍       | 42/169 [00:05<00:15,  8.38it/s]\n"
          ]
        },
        {
          "output_type": "error",
          "ename": "KeyboardInterrupt",
          "evalue": "ignored",
          "traceback": [
            "\u001b[0;31m---------------------------------------------------------------------------\u001b[0m",
            "\u001b[0;31mKeyboardInterrupt\u001b[0m                         Traceback (most recent call last)",
            "\u001b[0;32m<ipython-input-109-7dff0efb7b45>\u001b[0m in \u001b[0;36m<module>\u001b[0;34m()\u001b[0m\n\u001b[1;32m     24\u001b[0m   \u001b[0mlight\u001b[0m\u001b[0;34m.\u001b[0m\u001b[0mfit\u001b[0m\u001b[0;34m(\u001b[0m\u001b[0mX_train\u001b[0m\u001b[0;34m,\u001b[0m \u001b[0my_train\u001b[0m\u001b[0;34m)\u001b[0m\u001b[0;34m\u001b[0m\u001b[0;34m\u001b[0m\u001b[0m\n\u001b[1;32m     25\u001b[0m \u001b[0;34m\u001b[0m\u001b[0m\n\u001b[0;32m---> 26\u001b[0;31m   \u001b[0mscores\u001b[0m \u001b[0;34m=\u001b[0m \u001b[0mboosting_scoring\u001b[0m\u001b[0;34m(\u001b[0m\u001b[0mlight\u001b[0m\u001b[0;34m,\u001b[0m \u001b[0mholdout_val\u001b[0m\u001b[0;34m,\u001b[0m \u001b[0muser_factors\u001b[0m\u001b[0;34m,\u001b[0m \u001b[0mnew_item_factors\u001b[0m\u001b[0;34m)\u001b[0m\u001b[0;34m\u001b[0m\u001b[0;34m\u001b[0m\u001b[0m\n\u001b[0m\u001b[1;32m     27\u001b[0m \u001b[0;34m\u001b[0m\u001b[0m\n\u001b[1;32m     28\u001b[0m   \u001b[0mdownvote_seen_items\u001b[0m\u001b[0;34m(\u001b[0m\u001b[0mnp\u001b[0m\u001b[0;34m.\u001b[0m\u001b[0marray\u001b[0m\u001b[0;34m(\u001b[0m\u001b[0mscores\u001b[0m\u001b[0;34m)\u001b[0m\u001b[0;34m,\u001b[0m \u001b[0mseen_data\u001b[0m\u001b[0;34m,\u001b[0m \u001b[0mdata_description\u001b[0m\u001b[0;34m)\u001b[0m\u001b[0;34m\u001b[0m\u001b[0;34m\u001b[0m\u001b[0m\n",
            "\u001b[0;32m<ipython-input-104-7d619b70a33f>\u001b[0m in \u001b[0;36mboosting_scoring\u001b[0;34m(model, holdout, user_factors, item_factors)\u001b[0m\n\u001b[1;32m     21\u001b[0m     \u001b[0muser_matrix\u001b[0m \u001b[0;34m=\u001b[0m \u001b[0mnp\u001b[0m\u001b[0;34m.\u001b[0m\u001b[0marray\u001b[0m\u001b[0;34m(\u001b[0m\u001b[0muser_matrix\u001b[0m\u001b[0;34m)\u001b[0m\u001b[0;34m\u001b[0m\u001b[0;34m\u001b[0m\u001b[0m\n\u001b[1;32m     22\u001b[0m     \u001b[0mfeatures\u001b[0m \u001b[0;34m=\u001b[0m \u001b[0mnp\u001b[0m\u001b[0;34m.\u001b[0m\u001b[0mconcatenate\u001b[0m\u001b[0;34m(\u001b[0m\u001b[0;34m(\u001b[0m\u001b[0muser_matrix\u001b[0m\u001b[0;34m,\u001b[0m \u001b[0mitem_factors\u001b[0m\u001b[0;34m)\u001b[0m\u001b[0;34m,\u001b[0m \u001b[0maxis\u001b[0m\u001b[0;34m=\u001b[0m\u001b[0;36m1\u001b[0m\u001b[0;34m)\u001b[0m\u001b[0;34m\u001b[0m\u001b[0;34m\u001b[0m\u001b[0m\n\u001b[0;32m---> 23\u001b[0;31m     \u001b[0mscore\u001b[0m \u001b[0;34m=\u001b[0m \u001b[0mmodel\u001b[0m\u001b[0;34m.\u001b[0m\u001b[0mpredict_proba\u001b[0m\u001b[0;34m(\u001b[0m\u001b[0mfeatures\u001b[0m\u001b[0;34m)\u001b[0m\u001b[0;34m[\u001b[0m\u001b[0;34m:\u001b[0m\u001b[0;34m,\u001b[0m \u001b[0;36m1\u001b[0m\u001b[0;34m]\u001b[0m\u001b[0;34m\u001b[0m\u001b[0;34m\u001b[0m\u001b[0m\n\u001b[0m\u001b[1;32m     24\u001b[0m     \u001b[0mscores\u001b[0m\u001b[0;34m.\u001b[0m\u001b[0mappend\u001b[0m\u001b[0;34m(\u001b[0m\u001b[0mscore\u001b[0m\u001b[0;34m)\u001b[0m\u001b[0;34m\u001b[0m\u001b[0;34m\u001b[0m\u001b[0m\n\u001b[1;32m     25\u001b[0m   \u001b[0;32mreturn\u001b[0m \u001b[0mscores\u001b[0m\u001b[0;34m\u001b[0m\u001b[0;34m\u001b[0m\u001b[0m\n",
            "\u001b[0;32m/usr/local/lib/python3.7/dist-packages/lightgbm/sklearn.py\u001b[0m in \u001b[0;36mpredict_proba\u001b[0;34m(self, X, raw_score, num_iteration, pred_leaf, pred_contrib, **kwargs)\u001b[0m\n\u001b[1;32m    798\u001b[0m         \"\"\"\n\u001b[1;32m    799\u001b[0m         result = super(LGBMClassifier, self).predict(X, raw_score, num_iteration,\n\u001b[0;32m--> 800\u001b[0;31m                                                      pred_leaf, pred_contrib, **kwargs)\n\u001b[0m\u001b[1;32m    801\u001b[0m         \u001b[0;32mif\u001b[0m \u001b[0mself\u001b[0m\u001b[0;34m.\u001b[0m\u001b[0m_n_classes\u001b[0m \u001b[0;34m>\u001b[0m \u001b[0;36m2\u001b[0m \u001b[0;32mor\u001b[0m \u001b[0mraw_score\u001b[0m \u001b[0;32mor\u001b[0m \u001b[0mpred_leaf\u001b[0m \u001b[0;32mor\u001b[0m \u001b[0mpred_contrib\u001b[0m\u001b[0;34m:\u001b[0m\u001b[0;34m\u001b[0m\u001b[0;34m\u001b[0m\u001b[0m\n\u001b[1;32m    802\u001b[0m             \u001b[0;32mreturn\u001b[0m \u001b[0mresult\u001b[0m\u001b[0;34m\u001b[0m\u001b[0;34m\u001b[0m\u001b[0m\n",
            "\u001b[0;32m/usr/local/lib/python3.7/dist-packages/lightgbm/sklearn.py\u001b[0m in \u001b[0;36mpredict\u001b[0;34m(self, X, raw_score, num_iteration, pred_leaf, pred_contrib, **kwargs)\u001b[0m\n\u001b[1;32m    605\u001b[0m                              % (self._n_features, n_features))\n\u001b[1;32m    606\u001b[0m         return self.booster_.predict(X, raw_score=raw_score, num_iteration=num_iteration,\n\u001b[0;32m--> 607\u001b[0;31m                                      pred_leaf=pred_leaf, pred_contrib=pred_contrib, **kwargs)\n\u001b[0m\u001b[1;32m    608\u001b[0m \u001b[0;34m\u001b[0m\u001b[0m\n\u001b[1;32m    609\u001b[0m     \u001b[0;34m@\u001b[0m\u001b[0mproperty\u001b[0m\u001b[0;34m\u001b[0m\u001b[0;34m\u001b[0m\u001b[0m\n",
            "\u001b[0;32m/usr/local/lib/python3.7/dist-packages/lightgbm/basic.py\u001b[0m in \u001b[0;36mpredict\u001b[0;34m(self, data, num_iteration, raw_score, pred_leaf, pred_contrib, data_has_header, is_reshape, **kwargs)\u001b[0m\n\u001b[1;32m   2201\u001b[0m         return predictor.predict(data, num_iteration,\n\u001b[1;32m   2202\u001b[0m                                  \u001b[0mraw_score\u001b[0m\u001b[0;34m,\u001b[0m \u001b[0mpred_leaf\u001b[0m\u001b[0;34m,\u001b[0m \u001b[0mpred_contrib\u001b[0m\u001b[0;34m,\u001b[0m\u001b[0;34m\u001b[0m\u001b[0;34m\u001b[0m\u001b[0m\n\u001b[0;32m-> 2203\u001b[0;31m                                  data_has_header, is_reshape)\n\u001b[0m\u001b[1;32m   2204\u001b[0m \u001b[0;34m\u001b[0m\u001b[0m\n\u001b[1;32m   2205\u001b[0m     \u001b[0;32mdef\u001b[0m \u001b[0mrefit\u001b[0m\u001b[0;34m(\u001b[0m\u001b[0mself\u001b[0m\u001b[0;34m,\u001b[0m \u001b[0mdata\u001b[0m\u001b[0;34m,\u001b[0m \u001b[0mlabel\u001b[0m\u001b[0;34m,\u001b[0m \u001b[0mdecay_rate\u001b[0m\u001b[0;34m=\u001b[0m\u001b[0;36m0.9\u001b[0m\u001b[0;34m,\u001b[0m \u001b[0;34m**\u001b[0m\u001b[0mkwargs\u001b[0m\u001b[0;34m)\u001b[0m\u001b[0;34m:\u001b[0m\u001b[0;34m\u001b[0m\u001b[0;34m\u001b[0m\u001b[0m\n",
            "\u001b[0;32m/usr/local/lib/python3.7/dist-packages/lightgbm/basic.py\u001b[0m in \u001b[0;36mpredict\u001b[0;34m(self, data, num_iteration, raw_score, pred_leaf, pred_contrib, data_has_header, is_reshape)\u001b[0m\n\u001b[1;32m    465\u001b[0m             \u001b[0mpreds\u001b[0m\u001b[0;34m,\u001b[0m \u001b[0mnrow\u001b[0m \u001b[0;34m=\u001b[0m \u001b[0mself\u001b[0m\u001b[0;34m.\u001b[0m\u001b[0m__pred_for_csc\u001b[0m\u001b[0;34m(\u001b[0m\u001b[0mdata\u001b[0m\u001b[0;34m,\u001b[0m \u001b[0mnum_iteration\u001b[0m\u001b[0;34m,\u001b[0m \u001b[0mpredict_type\u001b[0m\u001b[0;34m)\u001b[0m\u001b[0;34m\u001b[0m\u001b[0;34m\u001b[0m\u001b[0m\n\u001b[1;32m    466\u001b[0m         \u001b[0;32melif\u001b[0m \u001b[0misinstance\u001b[0m\u001b[0;34m(\u001b[0m\u001b[0mdata\u001b[0m\u001b[0;34m,\u001b[0m \u001b[0mnp\u001b[0m\u001b[0;34m.\u001b[0m\u001b[0mndarray\u001b[0m\u001b[0;34m)\u001b[0m\u001b[0;34m:\u001b[0m\u001b[0;34m\u001b[0m\u001b[0;34m\u001b[0m\u001b[0m\n\u001b[0;32m--> 467\u001b[0;31m             \u001b[0mpreds\u001b[0m\u001b[0;34m,\u001b[0m \u001b[0mnrow\u001b[0m \u001b[0;34m=\u001b[0m \u001b[0mself\u001b[0m\u001b[0;34m.\u001b[0m\u001b[0m__pred_for_np2d\u001b[0m\u001b[0;34m(\u001b[0m\u001b[0mdata\u001b[0m\u001b[0;34m,\u001b[0m \u001b[0mnum_iteration\u001b[0m\u001b[0;34m,\u001b[0m \u001b[0mpredict_type\u001b[0m\u001b[0;34m)\u001b[0m\u001b[0;34m\u001b[0m\u001b[0;34m\u001b[0m\u001b[0m\n\u001b[0m\u001b[1;32m    468\u001b[0m         \u001b[0;32melif\u001b[0m \u001b[0misinstance\u001b[0m\u001b[0;34m(\u001b[0m\u001b[0mdata\u001b[0m\u001b[0;34m,\u001b[0m \u001b[0mlist\u001b[0m\u001b[0;34m)\u001b[0m\u001b[0;34m:\u001b[0m\u001b[0;34m\u001b[0m\u001b[0;34m\u001b[0m\u001b[0m\n\u001b[1;32m    469\u001b[0m             \u001b[0;32mtry\u001b[0m\u001b[0;34m:\u001b[0m\u001b[0;34m\u001b[0m\u001b[0;34m\u001b[0m\u001b[0m\n",
            "\u001b[0;32m/usr/local/lib/python3.7/dist-packages/lightgbm/basic.py\u001b[0m in \u001b[0;36m__pred_for_np2d\u001b[0;34m(self, mat, num_iteration, predict_type)\u001b[0m\n\u001b[1;32m    554\u001b[0m             \u001b[0;32mreturn\u001b[0m \u001b[0mpreds\u001b[0m\u001b[0;34m,\u001b[0m \u001b[0mnrow\u001b[0m\u001b[0;34m\u001b[0m\u001b[0;34m\u001b[0m\u001b[0m\n\u001b[1;32m    555\u001b[0m         \u001b[0;32melse\u001b[0m\u001b[0;34m:\u001b[0m\u001b[0;34m\u001b[0m\u001b[0;34m\u001b[0m\u001b[0m\n\u001b[0;32m--> 556\u001b[0;31m             \u001b[0;32mreturn\u001b[0m \u001b[0minner_predict\u001b[0m\u001b[0;34m(\u001b[0m\u001b[0mmat\u001b[0m\u001b[0;34m,\u001b[0m \u001b[0mnum_iteration\u001b[0m\u001b[0;34m,\u001b[0m \u001b[0mpredict_type\u001b[0m\u001b[0;34m)\u001b[0m\u001b[0;34m\u001b[0m\u001b[0;34m\u001b[0m\u001b[0m\n\u001b[0m\u001b[1;32m    557\u001b[0m \u001b[0;34m\u001b[0m\u001b[0m\n\u001b[1;32m    558\u001b[0m     \u001b[0;32mdef\u001b[0m \u001b[0m__pred_for_csr\u001b[0m\u001b[0;34m(\u001b[0m\u001b[0mself\u001b[0m\u001b[0;34m,\u001b[0m \u001b[0mcsr\u001b[0m\u001b[0;34m,\u001b[0m \u001b[0mnum_iteration\u001b[0m\u001b[0;34m,\u001b[0m \u001b[0mpredict_type\u001b[0m\u001b[0;34m)\u001b[0m\u001b[0;34m:\u001b[0m\u001b[0;34m\u001b[0m\u001b[0;34m\u001b[0m\u001b[0m\n",
            "\u001b[0;32m/usr/local/lib/python3.7/dist-packages/lightgbm/basic.py\u001b[0m in \u001b[0;36minner_predict\u001b[0;34m(mat, num_iteration, predict_type, preds)\u001b[0m\n\u001b[1;32m    536\u001b[0m                 \u001b[0mc_str\u001b[0m\u001b[0;34m(\u001b[0m\u001b[0mself\u001b[0m\u001b[0;34m.\u001b[0m\u001b[0mpred_parameter\u001b[0m\u001b[0;34m)\u001b[0m\u001b[0;34m,\u001b[0m\u001b[0;34m\u001b[0m\u001b[0;34m\u001b[0m\u001b[0m\n\u001b[1;32m    537\u001b[0m                 \u001b[0mctypes\u001b[0m\u001b[0;34m.\u001b[0m\u001b[0mbyref\u001b[0m\u001b[0;34m(\u001b[0m\u001b[0mout_num_preds\u001b[0m\u001b[0;34m)\u001b[0m\u001b[0;34m,\u001b[0m\u001b[0;34m\u001b[0m\u001b[0;34m\u001b[0m\u001b[0m\n\u001b[0;32m--> 538\u001b[0;31m                 preds.ctypes.data_as(ctypes.POINTER(ctypes.c_double))))\n\u001b[0m\u001b[1;32m    539\u001b[0m             \u001b[0;32mif\u001b[0m \u001b[0mn_preds\u001b[0m \u001b[0;34m!=\u001b[0m \u001b[0mout_num_preds\u001b[0m\u001b[0;34m.\u001b[0m\u001b[0mvalue\u001b[0m\u001b[0;34m:\u001b[0m\u001b[0;34m\u001b[0m\u001b[0;34m\u001b[0m\u001b[0m\n\u001b[1;32m    540\u001b[0m                 \u001b[0;32mraise\u001b[0m \u001b[0mValueError\u001b[0m\u001b[0;34m(\u001b[0m\u001b[0;34m\"Wrong length for predict results\"\u001b[0m\u001b[0;34m)\u001b[0m\u001b[0;34m\u001b[0m\u001b[0;34m\u001b[0m\u001b[0m\n",
            "\u001b[0;31mKeyboardInterrupt\u001b[0m: "
          ]
        }
      ]
    },
    {
      "cell_type": "code",
      "source": [
        "best_params = {'rank' : 50,\n",
        "               'n_estimators' : 200,\n",
        "               'learning_rate' : 0.01,\n",
        "               'max_depth' : 3}\n",
        "\n",
        "data_description = dict(\n",
        "    users = train_val['chat_id'].name,\n",
        "    items = train_val['meme_id'].name,\n",
        "    feedback = 'reaction',\n",
        "    n_users = len(train_val['chat_id']),\n",
        "    n_items = len(train_val['meme_id']),\n",
        "    test_users = holdout_test[train_val['chat_id'].name].values\n",
        ")\n",
        "\n",
        "testset = data_description['test_users']\n",
        "seen_data = train_val[train_val.chat_id.isin(testset)]\n",
        "  \n",
        "svd = SVDModel(data_model_1)\n",
        "svd.rank = best_params['rank']\n",
        "svd.build()\n",
        "\n",
        "item_factors = svd.factors['meme_id']\n",
        "user_factors = svd.factors['chat_id']\n",
        "\n",
        "new_item_factors = change_item_factors(item_factors, memes_with_clip , item_reindexing_1)\n",
        "\n",
        "X_train, y_train = get_vectorized_data(train_val, user_factors, new_item_factors)\n",
        "\n",
        "light = LGBMClassifier(n_estimators=best_params['n_estimators'], learning_rate=best_params['learning_rate'], max_depth=best_params['max_depth'])\n",
        "light.fit(X_train, y_train)\n",
        "\n",
        "scores = boosting_scoring(light, holdout_test, user_factors, new_item_factors)\n",
        "\n",
        "downvote_seen_items(np.array(scores), seen_data, data_description)\n",
        "recs = topn_recommendations(np.array(scores), topn=10)\n",
        "print(param)\n",
        "hr, mrr, cov = model_evaluate(recs, holdout_test, data_description,  topn=10)\n",
        "print('HR={:.3}, MRR={:.3}, COV={:.3}'.format(*model_evaluate(recs, holdout_test, data_description,  topn=10)))"
      ],
      "metadata": {
        "colab": {
          "base_uri": "https://localhost:8080/"
        },
        "id": "6ZKM0B5QTaHR",
        "outputId": "1f21f826-bbfa-4ccd-b9d5-628f160ea0b4"
      },
      "execution_count": 123,
      "outputs": [
        {
          "output_type": "stream",
          "name": "stdout",
          "text": [
            "PureSVD training time: 0.240s\n"
          ]
        },
        {
          "output_type": "stream",
          "name": "stderr",
          "text": [
            "100%|██████████| 5810/5810 [00:09<00:00, 628.56it/s]\n",
            "100%|██████████| 66353/66353 [00:31<00:00, 2138.61it/s]\n",
            "100%|██████████| 168/168 [00:05<00:00, 30.60it/s]"
          ]
        },
        {
          "output_type": "stream",
          "name": "stdout",
          "text": [
            "(100, 400, 0.1, 7)\n",
            "HR=0.0655, MRR=0.0155, COV=0.00188\n"
          ]
        },
        {
          "output_type": "stream",
          "name": "stderr",
          "text": [
            "\n"
          ]
        }
      ]
    },
    {
      "cell_type": "code",
      "source": [
        ""
      ],
      "metadata": {
        "id": "62F2tm1hXb4D"
      },
      "execution_count": null,
      "outputs": []
    }
  ],
  "metadata": {
    "colab": {
      "name": "Boosting_with_Clip_features.ipynb",
      "provenance": [],
      "collapsed_sections": []
    },
    "kernelspec": {
      "display_name": "Python 3 (ipykernel)",
      "language": "python",
      "name": "python3"
    },
    "language_info": {
      "codemirror_mode": {
        "name": "ipython",
        "version": 3
      },
      "file_extension": ".py",
      "mimetype": "text/x-python",
      "name": "python",
      "nbconvert_exporter": "python",
      "pygments_lexer": "ipython3",
      "version": "3.7.4"
    }
  },
  "nbformat": 4,
  "nbformat_minor": 0
}