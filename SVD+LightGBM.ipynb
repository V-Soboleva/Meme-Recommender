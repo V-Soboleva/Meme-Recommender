{
  "cells": [
    {
      "cell_type": "code",
      "execution_count": 3,
      "metadata": {
        "colab": {
          "base_uri": "https://localhost:8080/"
        },
        "id": "sMbOArlaTzGu",
        "outputId": "0f9ae800-992e-4d72-f1b2-7373af0b06be"
      },
      "outputs": [
        {
          "output_type": "stream",
          "name": "stdout",
          "text": [
            "Collecting polara\n",
            "  Cloning https://github.com/evfro/polara.git (to revision develop) to /tmp/pip-install-252azr9i/polara_b0cee97c23df4d9bac9cbb836a3b6ecf\n",
            "  Running command git clone -q https://github.com/evfro/polara.git /tmp/pip-install-252azr9i/polara_b0cee97c23df4d9bac9cbb836a3b6ecf\n",
            "  Running command git checkout -b develop --track origin/develop\n",
            "  Switched to a new branch 'develop'\n",
            "  Branch 'develop' set up to track remote branch 'develop' from 'origin'.\n",
            "Building wheels for collected packages: polara\n",
            "  Building wheel for polara (setup.py) ... \u001b[?25l\u001b[?25hdone\n",
            "  Created wheel for polara: filename=polara-0.7.2.dev0-py3-none-any.whl size=87177 sha256=b2d5dbcd8117558e0fe8d9be2c78e9fe37a9d57e26aece8eb369ae14a283ae72\n",
            "  Stored in directory: /tmp/pip-ephem-wheel-cache-5mlbd3to/wheels/19/88/81/920c4189a6b0b92f19b02f18fcb44ded22ae852f7b09ab2e28\n",
            "Successfully built polara\n",
            "Installing collected packages: polara\n",
            "Successfully installed polara-0.7.2.dev0\n"
          ]
        }
      ],
      "source": [
        "! pip install --no-cache-dir --upgrade git+https://github.com/evfro/polara.git@develop#egg=polara"
      ]
    },
    {
      "cell_type": "code",
      "execution_count": 4,
      "metadata": {
        "id": "AbAXigwITdNq"
      },
      "outputs": [],
      "source": [
        "from polara import SVDModel\n",
        "from polara.recommender.data import RecommenderData\n",
        "import numpy as np\n",
        "import pandas as pd\n",
        "from tqdm import tqdm"
      ]
    },
    {
      "cell_type": "markdown",
      "source": [
        "## Data preprocessing and analysis "
      ],
      "metadata": {
        "id": "Ub_FTm6xxerj"
      }
    },
    {
      "cell_type": "code",
      "source": [
        "memes = pd.read_csv('memes.csv', names=['meme_id', 'file_id', 'author_id', 'timestamp', \n",
        "                                        'filetype', 'unique_id', 'caption' ], header=None)\n",
        "users_memes = pd.read_csv('users_memes.csv', names=['id__', 'chat_id', 'meme_id', 'reaction',\n",
        "                                        'timestamp', 'message_id', 'timestamp_reaction'], header=None)\n",
        "users = pd.read_csv('users.csv', names=['chat_id', 'name', '?', 'username',\n",
        "                                        'date_add', 'is_fresh', '??'], header=None)"
      ],
      "metadata": {
        "id": "90Ymc8DfxVHS"
      },
      "execution_count": 6,
      "outputs": []
    },
    {
      "cell_type": "code",
      "source": [
        "users.head()"
      ],
      "metadata": {
        "colab": {
          "base_uri": "https://localhost:8080/",
          "height": 206
        },
        "id": "km3kXN9XOKpe",
        "outputId": "dda67a96-cc33-4f01-8d5f-3fb6760186b1"
      },
      "execution_count": 7,
      "outputs": [
        {
          "output_type": "execute_result",
          "data": {
            "text/plain": [
              "     chat_id               name          ?          username  \\\n",
              "0  259156066  Аринка-карантинка  259156066  chameleon_lizard   \n",
              "1  577915728           Спиридон  577915728       Blackaddder   \n",
              "2  439924549               oleg  439924549            ol3gka   \n",
              "3  411123163                 MX  411123163             mx_bz   \n",
              "4  401426372                Аня  401426372          anvanche   \n",
              "\n",
              "                     date_add  is_fresh  ??  \n",
              "0  2021-12-10 22:22:39.000000      True NaN  \n",
              "1  2021-12-11 05:57:23.000000      True NaN  \n",
              "2  2021-12-11 06:21:47.000000      True NaN  \n",
              "3  2022-01-19 07:31:46.000000     False NaN  \n",
              "4  2021-12-11 07:50:22.000000      True NaN  "
            ],
            "text/html": [
              "\n",
              "  <div id=\"df-702806b5-9207-48d4-bf94-5095cd8cc568\">\n",
              "    <div class=\"colab-df-container\">\n",
              "      <div>\n",
              "<style scoped>\n",
              "    .dataframe tbody tr th:only-of-type {\n",
              "        vertical-align: middle;\n",
              "    }\n",
              "\n",
              "    .dataframe tbody tr th {\n",
              "        vertical-align: top;\n",
              "    }\n",
              "\n",
              "    .dataframe thead th {\n",
              "        text-align: right;\n",
              "    }\n",
              "</style>\n",
              "<table border=\"1\" class=\"dataframe\">\n",
              "  <thead>\n",
              "    <tr style=\"text-align: right;\">\n",
              "      <th></th>\n",
              "      <th>chat_id</th>\n",
              "      <th>name</th>\n",
              "      <th>?</th>\n",
              "      <th>username</th>\n",
              "      <th>date_add</th>\n",
              "      <th>is_fresh</th>\n",
              "      <th>??</th>\n",
              "    </tr>\n",
              "  </thead>\n",
              "  <tbody>\n",
              "    <tr>\n",
              "      <th>0</th>\n",
              "      <td>259156066</td>\n",
              "      <td>Аринка-карантинка</td>\n",
              "      <td>259156066</td>\n",
              "      <td>chameleon_lizard</td>\n",
              "      <td>2021-12-10 22:22:39.000000</td>\n",
              "      <td>True</td>\n",
              "      <td>NaN</td>\n",
              "    </tr>\n",
              "    <tr>\n",
              "      <th>1</th>\n",
              "      <td>577915728</td>\n",
              "      <td>Спиридон</td>\n",
              "      <td>577915728</td>\n",
              "      <td>Blackaddder</td>\n",
              "      <td>2021-12-11 05:57:23.000000</td>\n",
              "      <td>True</td>\n",
              "      <td>NaN</td>\n",
              "    </tr>\n",
              "    <tr>\n",
              "      <th>2</th>\n",
              "      <td>439924549</td>\n",
              "      <td>oleg</td>\n",
              "      <td>439924549</td>\n",
              "      <td>ol3gka</td>\n",
              "      <td>2021-12-11 06:21:47.000000</td>\n",
              "      <td>True</td>\n",
              "      <td>NaN</td>\n",
              "    </tr>\n",
              "    <tr>\n",
              "      <th>3</th>\n",
              "      <td>411123163</td>\n",
              "      <td>MX</td>\n",
              "      <td>411123163</td>\n",
              "      <td>mx_bz</td>\n",
              "      <td>2022-01-19 07:31:46.000000</td>\n",
              "      <td>False</td>\n",
              "      <td>NaN</td>\n",
              "    </tr>\n",
              "    <tr>\n",
              "      <th>4</th>\n",
              "      <td>401426372</td>\n",
              "      <td>Аня</td>\n",
              "      <td>401426372</td>\n",
              "      <td>anvanche</td>\n",
              "      <td>2021-12-11 07:50:22.000000</td>\n",
              "      <td>True</td>\n",
              "      <td>NaN</td>\n",
              "    </tr>\n",
              "  </tbody>\n",
              "</table>\n",
              "</div>\n",
              "      <button class=\"colab-df-convert\" onclick=\"convertToInteractive('df-702806b5-9207-48d4-bf94-5095cd8cc568')\"\n",
              "              title=\"Convert this dataframe to an interactive table.\"\n",
              "              style=\"display:none;\">\n",
              "        \n",
              "  <svg xmlns=\"http://www.w3.org/2000/svg\" height=\"24px\"viewBox=\"0 0 24 24\"\n",
              "       width=\"24px\">\n",
              "    <path d=\"M0 0h24v24H0V0z\" fill=\"none\"/>\n",
              "    <path d=\"M18.56 5.44l.94 2.06.94-2.06 2.06-.94-2.06-.94-.94-2.06-.94 2.06-2.06.94zm-11 1L8.5 8.5l.94-2.06 2.06-.94-2.06-.94L8.5 2.5l-.94 2.06-2.06.94zm10 10l.94 2.06.94-2.06 2.06-.94-2.06-.94-.94-2.06-.94 2.06-2.06.94z\"/><path d=\"M17.41 7.96l-1.37-1.37c-.4-.4-.92-.59-1.43-.59-.52 0-1.04.2-1.43.59L10.3 9.45l-7.72 7.72c-.78.78-.78 2.05 0 2.83L4 21.41c.39.39.9.59 1.41.59.51 0 1.02-.2 1.41-.59l7.78-7.78 2.81-2.81c.8-.78.8-2.07 0-2.86zM5.41 20L4 18.59l7.72-7.72 1.47 1.35L5.41 20z\"/>\n",
              "  </svg>\n",
              "      </button>\n",
              "      \n",
              "  <style>\n",
              "    .colab-df-container {\n",
              "      display:flex;\n",
              "      flex-wrap:wrap;\n",
              "      gap: 12px;\n",
              "    }\n",
              "\n",
              "    .colab-df-convert {\n",
              "      background-color: #E8F0FE;\n",
              "      border: none;\n",
              "      border-radius: 50%;\n",
              "      cursor: pointer;\n",
              "      display: none;\n",
              "      fill: #1967D2;\n",
              "      height: 32px;\n",
              "      padding: 0 0 0 0;\n",
              "      width: 32px;\n",
              "    }\n",
              "\n",
              "    .colab-df-convert:hover {\n",
              "      background-color: #E2EBFA;\n",
              "      box-shadow: 0px 1px 2px rgba(60, 64, 67, 0.3), 0px 1px 3px 1px rgba(60, 64, 67, 0.15);\n",
              "      fill: #174EA6;\n",
              "    }\n",
              "\n",
              "    [theme=dark] .colab-df-convert {\n",
              "      background-color: #3B4455;\n",
              "      fill: #D2E3FC;\n",
              "    }\n",
              "\n",
              "    [theme=dark] .colab-df-convert:hover {\n",
              "      background-color: #434B5C;\n",
              "      box-shadow: 0px 1px 3px 1px rgba(0, 0, 0, 0.15);\n",
              "      filter: drop-shadow(0px 1px 2px rgba(0, 0, 0, 0.3));\n",
              "      fill: #FFFFFF;\n",
              "    }\n",
              "  </style>\n",
              "\n",
              "      <script>\n",
              "        const buttonEl =\n",
              "          document.querySelector('#df-702806b5-9207-48d4-bf94-5095cd8cc568 button.colab-df-convert');\n",
              "        buttonEl.style.display =\n",
              "          google.colab.kernel.accessAllowed ? 'block' : 'none';\n",
              "\n",
              "        async function convertToInteractive(key) {\n",
              "          const element = document.querySelector('#df-702806b5-9207-48d4-bf94-5095cd8cc568');\n",
              "          const dataTable =\n",
              "            await google.colab.kernel.invokeFunction('convertToInteractive',\n",
              "                                                     [key], {});\n",
              "          if (!dataTable) return;\n",
              "\n",
              "          const docLinkHtml = 'Like what you see? Visit the ' +\n",
              "            '<a target=\"_blank\" href=https://colab.research.google.com/notebooks/data_table.ipynb>data table notebook</a>'\n",
              "            + ' to learn more about interactive tables.';\n",
              "          element.innerHTML = '';\n",
              "          dataTable['output_type'] = 'display_data';\n",
              "          await google.colab.output.renderOutput(dataTable, element);\n",
              "          const docLink = document.createElement('div');\n",
              "          docLink.innerHTML = docLinkHtml;\n",
              "          element.appendChild(docLink);\n",
              "        }\n",
              "      </script>\n",
              "    </div>\n",
              "  </div>\n",
              "  "
            ]
          },
          "metadata": {},
          "execution_count": 7
        }
      ]
    },
    {
      "cell_type": "code",
      "source": [
        "users_memes.head()"
      ],
      "metadata": {
        "colab": {
          "base_uri": "https://localhost:8080/",
          "height": 206
        },
        "id": "VXu_qLoL5r7D",
        "outputId": "15d87c65-1550-4773-d137-199b55173b53"
      },
      "execution_count": 8,
      "outputs": [
        {
          "output_type": "execute_result",
          "data": {
            "text/plain": [
              "   id__    chat_id  meme_id  reaction                   timestamp  message_id  \\\n",
              "0  1008  354637850      570      1002  2022-01-18 21:53:30.000000        7669   \n",
              "1  1018  354637850      597      1002  2022-01-18 23:36:17.000000        7689   \n",
              "2  1028  354637850      130      1002  2022-01-18 23:56:20.000000        7715   \n",
              "3  1038  354637850     2619      1002  2022-01-19 00:46:39.000000        7745   \n",
              "4  1048  354637850      576      1002  2022-01-19 01:10:00.000000        7769   \n",
              "\n",
              "  timestamp_reaction  \n",
              "0                NaN  \n",
              "1                NaN  \n",
              "2                NaN  \n",
              "3                NaN  \n",
              "4                NaN  "
            ],
            "text/html": [
              "\n",
              "  <div id=\"df-9bdaa227-3e68-492e-8496-c98fb53b6dca\">\n",
              "    <div class=\"colab-df-container\">\n",
              "      <div>\n",
              "<style scoped>\n",
              "    .dataframe tbody tr th:only-of-type {\n",
              "        vertical-align: middle;\n",
              "    }\n",
              "\n",
              "    .dataframe tbody tr th {\n",
              "        vertical-align: top;\n",
              "    }\n",
              "\n",
              "    .dataframe thead th {\n",
              "        text-align: right;\n",
              "    }\n",
              "</style>\n",
              "<table border=\"1\" class=\"dataframe\">\n",
              "  <thead>\n",
              "    <tr style=\"text-align: right;\">\n",
              "      <th></th>\n",
              "      <th>id__</th>\n",
              "      <th>chat_id</th>\n",
              "      <th>meme_id</th>\n",
              "      <th>reaction</th>\n",
              "      <th>timestamp</th>\n",
              "      <th>message_id</th>\n",
              "      <th>timestamp_reaction</th>\n",
              "    </tr>\n",
              "  </thead>\n",
              "  <tbody>\n",
              "    <tr>\n",
              "      <th>0</th>\n",
              "      <td>1008</td>\n",
              "      <td>354637850</td>\n",
              "      <td>570</td>\n",
              "      <td>1002</td>\n",
              "      <td>2022-01-18 21:53:30.000000</td>\n",
              "      <td>7669</td>\n",
              "      <td>NaN</td>\n",
              "    </tr>\n",
              "    <tr>\n",
              "      <th>1</th>\n",
              "      <td>1018</td>\n",
              "      <td>354637850</td>\n",
              "      <td>597</td>\n",
              "      <td>1002</td>\n",
              "      <td>2022-01-18 23:36:17.000000</td>\n",
              "      <td>7689</td>\n",
              "      <td>NaN</td>\n",
              "    </tr>\n",
              "    <tr>\n",
              "      <th>2</th>\n",
              "      <td>1028</td>\n",
              "      <td>354637850</td>\n",
              "      <td>130</td>\n",
              "      <td>1002</td>\n",
              "      <td>2022-01-18 23:56:20.000000</td>\n",
              "      <td>7715</td>\n",
              "      <td>NaN</td>\n",
              "    </tr>\n",
              "    <tr>\n",
              "      <th>3</th>\n",
              "      <td>1038</td>\n",
              "      <td>354637850</td>\n",
              "      <td>2619</td>\n",
              "      <td>1002</td>\n",
              "      <td>2022-01-19 00:46:39.000000</td>\n",
              "      <td>7745</td>\n",
              "      <td>NaN</td>\n",
              "    </tr>\n",
              "    <tr>\n",
              "      <th>4</th>\n",
              "      <td>1048</td>\n",
              "      <td>354637850</td>\n",
              "      <td>576</td>\n",
              "      <td>1002</td>\n",
              "      <td>2022-01-19 01:10:00.000000</td>\n",
              "      <td>7769</td>\n",
              "      <td>NaN</td>\n",
              "    </tr>\n",
              "  </tbody>\n",
              "</table>\n",
              "</div>\n",
              "      <button class=\"colab-df-convert\" onclick=\"convertToInteractive('df-9bdaa227-3e68-492e-8496-c98fb53b6dca')\"\n",
              "              title=\"Convert this dataframe to an interactive table.\"\n",
              "              style=\"display:none;\">\n",
              "        \n",
              "  <svg xmlns=\"http://www.w3.org/2000/svg\" height=\"24px\"viewBox=\"0 0 24 24\"\n",
              "       width=\"24px\">\n",
              "    <path d=\"M0 0h24v24H0V0z\" fill=\"none\"/>\n",
              "    <path d=\"M18.56 5.44l.94 2.06.94-2.06 2.06-.94-2.06-.94-.94-2.06-.94 2.06-2.06.94zm-11 1L8.5 8.5l.94-2.06 2.06-.94-2.06-.94L8.5 2.5l-.94 2.06-2.06.94zm10 10l.94 2.06.94-2.06 2.06-.94-2.06-.94-.94-2.06-.94 2.06-2.06.94z\"/><path d=\"M17.41 7.96l-1.37-1.37c-.4-.4-.92-.59-1.43-.59-.52 0-1.04.2-1.43.59L10.3 9.45l-7.72 7.72c-.78.78-.78 2.05 0 2.83L4 21.41c.39.39.9.59 1.41.59.51 0 1.02-.2 1.41-.59l7.78-7.78 2.81-2.81c.8-.78.8-2.07 0-2.86zM5.41 20L4 18.59l7.72-7.72 1.47 1.35L5.41 20z\"/>\n",
              "  </svg>\n",
              "      </button>\n",
              "      \n",
              "  <style>\n",
              "    .colab-df-container {\n",
              "      display:flex;\n",
              "      flex-wrap:wrap;\n",
              "      gap: 12px;\n",
              "    }\n",
              "\n",
              "    .colab-df-convert {\n",
              "      background-color: #E8F0FE;\n",
              "      border: none;\n",
              "      border-radius: 50%;\n",
              "      cursor: pointer;\n",
              "      display: none;\n",
              "      fill: #1967D2;\n",
              "      height: 32px;\n",
              "      padding: 0 0 0 0;\n",
              "      width: 32px;\n",
              "    }\n",
              "\n",
              "    .colab-df-convert:hover {\n",
              "      background-color: #E2EBFA;\n",
              "      box-shadow: 0px 1px 2px rgba(60, 64, 67, 0.3), 0px 1px 3px 1px rgba(60, 64, 67, 0.15);\n",
              "      fill: #174EA6;\n",
              "    }\n",
              "\n",
              "    [theme=dark] .colab-df-convert {\n",
              "      background-color: #3B4455;\n",
              "      fill: #D2E3FC;\n",
              "    }\n",
              "\n",
              "    [theme=dark] .colab-df-convert:hover {\n",
              "      background-color: #434B5C;\n",
              "      box-shadow: 0px 1px 3px 1px rgba(0, 0, 0, 0.15);\n",
              "      filter: drop-shadow(0px 1px 2px rgba(0, 0, 0, 0.3));\n",
              "      fill: #FFFFFF;\n",
              "    }\n",
              "  </style>\n",
              "\n",
              "      <script>\n",
              "        const buttonEl =\n",
              "          document.querySelector('#df-9bdaa227-3e68-492e-8496-c98fb53b6dca button.colab-df-convert');\n",
              "        buttonEl.style.display =\n",
              "          google.colab.kernel.accessAllowed ? 'block' : 'none';\n",
              "\n",
              "        async function convertToInteractive(key) {\n",
              "          const element = document.querySelector('#df-9bdaa227-3e68-492e-8496-c98fb53b6dca');\n",
              "          const dataTable =\n",
              "            await google.colab.kernel.invokeFunction('convertToInteractive',\n",
              "                                                     [key], {});\n",
              "          if (!dataTable) return;\n",
              "\n",
              "          const docLinkHtml = 'Like what you see? Visit the ' +\n",
              "            '<a target=\"_blank\" href=https://colab.research.google.com/notebooks/data_table.ipynb>data table notebook</a>'\n",
              "            + ' to learn more about interactive tables.';\n",
              "          element.innerHTML = '';\n",
              "          dataTable['output_type'] = 'display_data';\n",
              "          await google.colab.output.renderOutput(dataTable, element);\n",
              "          const docLink = document.createElement('div');\n",
              "          docLink.innerHTML = docLinkHtml;\n",
              "          element.appendChild(docLink);\n",
              "        }\n",
              "      </script>\n",
              "    </div>\n",
              "  </div>\n",
              "  "
            ]
          },
          "metadata": {},
          "execution_count": 8
        }
      ]
    },
    {
      "cell_type": "code",
      "source": [
        "np.sum(~memes.caption.isna())"
      ],
      "metadata": {
        "colab": {
          "base_uri": "https://localhost:8080/"
        },
        "id": "p9Vwv0Fc2CGP",
        "outputId": "5ab917ea-5a57-456f-ba28-48e06ad7e34f"
      },
      "execution_count": 9,
      "outputs": [
        {
          "output_type": "execute_result",
          "data": {
            "text/plain": [
              "2907"
            ]
          },
          "metadata": {},
          "execution_count": 9
        }
      ]
    },
    {
      "cell_type": "code",
      "source": [
        "memes.head()"
      ],
      "metadata": {
        "colab": {
          "base_uri": "https://localhost:8080/",
          "height": 426
        },
        "id": "Yvota3hy3KaZ",
        "outputId": "dbdb7b6c-c503-4ae3-e2e7-182b0a0f70d5"
      },
      "execution_count": 10,
      "outputs": [
        {
          "output_type": "execute_result",
          "data": {
            "text/plain": [
              "   meme_id                                            file_id   author_id  \\\n",
              "0     2811  AgACAgQAAxkBAAJJWGHqZIz4f3WSyvH0XIFxhvPjwqWxAA...  2106431824   \n",
              "1     2826  AgACAgIAAxkBAAKIG2H3n_djkRg9MMUShOzCMHRcIm6mAA...   354637850   \n",
              "2     2827  AgACAgQAAxkBAAL2pGIEAAH2wjbF8DWHGiNewBn_UnrE6A...   354637850   \n",
              "3     2876  AgACAgQAAxkBAAL-aWIEBLnt94wyXCXhygRdYajavWbvAA...  2106431824   \n",
              "4     2925  AgACAgQAAxkBAAEBAiBiBAetqQPwhJcXSKpCGXgI4lgbIw...  2106431824   \n",
              "\n",
              "                    timestamp filetype         unique_id  \\\n",
              "0  2022-01-21 07:45:16.000000    photo               NaN   \n",
              "1  2022-01-31 08:38:15.000000    photo  AQADfL0xG4l3uUt9   \n",
              "2  2022-02-09 17:59:18.000000    photo  AQADyqoxGw8rrVF-   \n",
              "3  2022-02-09 18:15:21.000000    photo  AQADBqsxG3SVDFB-   \n",
              "4  2022-02-09 18:27:57.000000    photo  AQADUa0xGzmh5VJ9   \n",
              "\n",
              "                        caption  \n",
              "0                           NaN  \n",
              "1                           NaN  \n",
              "2                           NaN  \n",
              "3    kvin, where is your corona  \n",
              "4  Why do you keep coming back?  "
            ],
            "text/html": [
              "\n",
              "  <div id=\"df-d4a54082-2f04-41c9-b06c-a8a32dfe3d53\">\n",
              "    <div class=\"colab-df-container\">\n",
              "      <div>\n",
              "<style scoped>\n",
              "    .dataframe tbody tr th:only-of-type {\n",
              "        vertical-align: middle;\n",
              "    }\n",
              "\n",
              "    .dataframe tbody tr th {\n",
              "        vertical-align: top;\n",
              "    }\n",
              "\n",
              "    .dataframe thead th {\n",
              "        text-align: right;\n",
              "    }\n",
              "</style>\n",
              "<table border=\"1\" class=\"dataframe\">\n",
              "  <thead>\n",
              "    <tr style=\"text-align: right;\">\n",
              "      <th></th>\n",
              "      <th>meme_id</th>\n",
              "      <th>file_id</th>\n",
              "      <th>author_id</th>\n",
              "      <th>timestamp</th>\n",
              "      <th>filetype</th>\n",
              "      <th>unique_id</th>\n",
              "      <th>caption</th>\n",
              "    </tr>\n",
              "  </thead>\n",
              "  <tbody>\n",
              "    <tr>\n",
              "      <th>0</th>\n",
              "      <td>2811</td>\n",
              "      <td>AgACAgQAAxkBAAJJWGHqZIz4f3WSyvH0XIFxhvPjwqWxAA...</td>\n",
              "      <td>2106431824</td>\n",
              "      <td>2022-01-21 07:45:16.000000</td>\n",
              "      <td>photo</td>\n",
              "      <td>NaN</td>\n",
              "      <td>NaN</td>\n",
              "    </tr>\n",
              "    <tr>\n",
              "      <th>1</th>\n",
              "      <td>2826</td>\n",
              "      <td>AgACAgIAAxkBAAKIG2H3n_djkRg9MMUShOzCMHRcIm6mAA...</td>\n",
              "      <td>354637850</td>\n",
              "      <td>2022-01-31 08:38:15.000000</td>\n",
              "      <td>photo</td>\n",
              "      <td>AQADfL0xG4l3uUt9</td>\n",
              "      <td>NaN</td>\n",
              "    </tr>\n",
              "    <tr>\n",
              "      <th>2</th>\n",
              "      <td>2827</td>\n",
              "      <td>AgACAgQAAxkBAAL2pGIEAAH2wjbF8DWHGiNewBn_UnrE6A...</td>\n",
              "      <td>354637850</td>\n",
              "      <td>2022-02-09 17:59:18.000000</td>\n",
              "      <td>photo</td>\n",
              "      <td>AQADyqoxGw8rrVF-</td>\n",
              "      <td>NaN</td>\n",
              "    </tr>\n",
              "    <tr>\n",
              "      <th>3</th>\n",
              "      <td>2876</td>\n",
              "      <td>AgACAgQAAxkBAAL-aWIEBLnt94wyXCXhygRdYajavWbvAA...</td>\n",
              "      <td>2106431824</td>\n",
              "      <td>2022-02-09 18:15:21.000000</td>\n",
              "      <td>photo</td>\n",
              "      <td>AQADBqsxG3SVDFB-</td>\n",
              "      <td>kvin, where is your corona</td>\n",
              "    </tr>\n",
              "    <tr>\n",
              "      <th>4</th>\n",
              "      <td>2925</td>\n",
              "      <td>AgACAgQAAxkBAAEBAiBiBAetqQPwhJcXSKpCGXgI4lgbIw...</td>\n",
              "      <td>2106431824</td>\n",
              "      <td>2022-02-09 18:27:57.000000</td>\n",
              "      <td>photo</td>\n",
              "      <td>AQADUa0xGzmh5VJ9</td>\n",
              "      <td>Why do you keep coming back?</td>\n",
              "    </tr>\n",
              "  </tbody>\n",
              "</table>\n",
              "</div>\n",
              "      <button class=\"colab-df-convert\" onclick=\"convertToInteractive('df-d4a54082-2f04-41c9-b06c-a8a32dfe3d53')\"\n",
              "              title=\"Convert this dataframe to an interactive table.\"\n",
              "              style=\"display:none;\">\n",
              "        \n",
              "  <svg xmlns=\"http://www.w3.org/2000/svg\" height=\"24px\"viewBox=\"0 0 24 24\"\n",
              "       width=\"24px\">\n",
              "    <path d=\"M0 0h24v24H0V0z\" fill=\"none\"/>\n",
              "    <path d=\"M18.56 5.44l.94 2.06.94-2.06 2.06-.94-2.06-.94-.94-2.06-.94 2.06-2.06.94zm-11 1L8.5 8.5l.94-2.06 2.06-.94-2.06-.94L8.5 2.5l-.94 2.06-2.06.94zm10 10l.94 2.06.94-2.06 2.06-.94-2.06-.94-.94-2.06-.94 2.06-2.06.94z\"/><path d=\"M17.41 7.96l-1.37-1.37c-.4-.4-.92-.59-1.43-.59-.52 0-1.04.2-1.43.59L10.3 9.45l-7.72 7.72c-.78.78-.78 2.05 0 2.83L4 21.41c.39.39.9.59 1.41.59.51 0 1.02-.2 1.41-.59l7.78-7.78 2.81-2.81c.8-.78.8-2.07 0-2.86zM5.41 20L4 18.59l7.72-7.72 1.47 1.35L5.41 20z\"/>\n",
              "  </svg>\n",
              "      </button>\n",
              "      \n",
              "  <style>\n",
              "    .colab-df-container {\n",
              "      display:flex;\n",
              "      flex-wrap:wrap;\n",
              "      gap: 12px;\n",
              "    }\n",
              "\n",
              "    .colab-df-convert {\n",
              "      background-color: #E8F0FE;\n",
              "      border: none;\n",
              "      border-radius: 50%;\n",
              "      cursor: pointer;\n",
              "      display: none;\n",
              "      fill: #1967D2;\n",
              "      height: 32px;\n",
              "      padding: 0 0 0 0;\n",
              "      width: 32px;\n",
              "    }\n",
              "\n",
              "    .colab-df-convert:hover {\n",
              "      background-color: #E2EBFA;\n",
              "      box-shadow: 0px 1px 2px rgba(60, 64, 67, 0.3), 0px 1px 3px 1px rgba(60, 64, 67, 0.15);\n",
              "      fill: #174EA6;\n",
              "    }\n",
              "\n",
              "    [theme=dark] .colab-df-convert {\n",
              "      background-color: #3B4455;\n",
              "      fill: #D2E3FC;\n",
              "    }\n",
              "\n",
              "    [theme=dark] .colab-df-convert:hover {\n",
              "      background-color: #434B5C;\n",
              "      box-shadow: 0px 1px 3px 1px rgba(0, 0, 0, 0.15);\n",
              "      filter: drop-shadow(0px 1px 2px rgba(0, 0, 0, 0.3));\n",
              "      fill: #FFFFFF;\n",
              "    }\n",
              "  </style>\n",
              "\n",
              "      <script>\n",
              "        const buttonEl =\n",
              "          document.querySelector('#df-d4a54082-2f04-41c9-b06c-a8a32dfe3d53 button.colab-df-convert');\n",
              "        buttonEl.style.display =\n",
              "          google.colab.kernel.accessAllowed ? 'block' : 'none';\n",
              "\n",
              "        async function convertToInteractive(key) {\n",
              "          const element = document.querySelector('#df-d4a54082-2f04-41c9-b06c-a8a32dfe3d53');\n",
              "          const dataTable =\n",
              "            await google.colab.kernel.invokeFunction('convertToInteractive',\n",
              "                                                     [key], {});\n",
              "          if (!dataTable) return;\n",
              "\n",
              "          const docLinkHtml = 'Like what you see? Visit the ' +\n",
              "            '<a target=\"_blank\" href=https://colab.research.google.com/notebooks/data_table.ipynb>data table notebook</a>'\n",
              "            + ' to learn more about interactive tables.';\n",
              "          element.innerHTML = '';\n",
              "          dataTable['output_type'] = 'display_data';\n",
              "          await google.colab.output.renderOutput(dataTable, element);\n",
              "          const docLink = document.createElement('div');\n",
              "          docLink.innerHTML = docLinkHtml;\n",
              "          element.appendChild(docLink);\n",
              "        }\n",
              "      </script>\n",
              "    </div>\n",
              "  </div>\n",
              "  "
            ]
          },
          "metadata": {},
          "execution_count": 10
        }
      ]
    },
    {
      "cell_type": "code",
      "source": [
        "data = users_memes[['chat_id', 'meme_id', 'reaction', 'timestamp']].copy()\n",
        "data.sort_values(by='timestamp', inplace=True) # sort data by time\n",
        "\n",
        "REACTION2VALUE = {1001: -1, 107: -1, 106: -1, 105: -1, 104: -1,\n",
        "                  103: 1, 102: 1, 101: 1, 100: 1, 1000: 1, 1002 : None} # 1002 means empty\n",
        "\n",
        "data.reaction = users_memes.reaction.map(REACTION2VALUE)\n",
        "data = data.dropna(axis='index', how='any', subset=['reaction'])\n",
        "\n",
        "data.head()"
      ],
      "metadata": {
        "colab": {
          "base_uri": "https://localhost:8080/",
          "height": 206
        },
        "id": "ddVIPznKG95i",
        "outputId": "a1a9c583-6d76-4938-8314-0ae31950d221"
      },
      "execution_count": 11,
      "outputs": [
        {
          "output_type": "execute_result",
          "data": {
            "text/plain": [
              "       chat_id  meme_id  reaction                   timestamp\n",
              "882  354637850      398      -1.0  2021-12-08 20:35:19.000000\n",
              "883  354637850      222      -1.0  2021-12-08 20:35:35.000000\n",
              "884  481807223      387       1.0  2021-12-08 20:37:15.000000\n",
              "885  354886383       61      -1.0  2021-12-08 20:39:05.000000\n",
              "886  354886383      182      -1.0  2021-12-08 20:39:11.000000"
            ],
            "text/html": [
              "\n",
              "  <div id=\"df-d991a7a8-06f2-4c2f-b623-9558e8b1af87\">\n",
              "    <div class=\"colab-df-container\">\n",
              "      <div>\n",
              "<style scoped>\n",
              "    .dataframe tbody tr th:only-of-type {\n",
              "        vertical-align: middle;\n",
              "    }\n",
              "\n",
              "    .dataframe tbody tr th {\n",
              "        vertical-align: top;\n",
              "    }\n",
              "\n",
              "    .dataframe thead th {\n",
              "        text-align: right;\n",
              "    }\n",
              "</style>\n",
              "<table border=\"1\" class=\"dataframe\">\n",
              "  <thead>\n",
              "    <tr style=\"text-align: right;\">\n",
              "      <th></th>\n",
              "      <th>chat_id</th>\n",
              "      <th>meme_id</th>\n",
              "      <th>reaction</th>\n",
              "      <th>timestamp</th>\n",
              "    </tr>\n",
              "  </thead>\n",
              "  <tbody>\n",
              "    <tr>\n",
              "      <th>882</th>\n",
              "      <td>354637850</td>\n",
              "      <td>398</td>\n",
              "      <td>-1.0</td>\n",
              "      <td>2021-12-08 20:35:19.000000</td>\n",
              "    </tr>\n",
              "    <tr>\n",
              "      <th>883</th>\n",
              "      <td>354637850</td>\n",
              "      <td>222</td>\n",
              "      <td>-1.0</td>\n",
              "      <td>2021-12-08 20:35:35.000000</td>\n",
              "    </tr>\n",
              "    <tr>\n",
              "      <th>884</th>\n",
              "      <td>481807223</td>\n",
              "      <td>387</td>\n",
              "      <td>1.0</td>\n",
              "      <td>2021-12-08 20:37:15.000000</td>\n",
              "    </tr>\n",
              "    <tr>\n",
              "      <th>885</th>\n",
              "      <td>354886383</td>\n",
              "      <td>61</td>\n",
              "      <td>-1.0</td>\n",
              "      <td>2021-12-08 20:39:05.000000</td>\n",
              "    </tr>\n",
              "    <tr>\n",
              "      <th>886</th>\n",
              "      <td>354886383</td>\n",
              "      <td>182</td>\n",
              "      <td>-1.0</td>\n",
              "      <td>2021-12-08 20:39:11.000000</td>\n",
              "    </tr>\n",
              "  </tbody>\n",
              "</table>\n",
              "</div>\n",
              "      <button class=\"colab-df-convert\" onclick=\"convertToInteractive('df-d991a7a8-06f2-4c2f-b623-9558e8b1af87')\"\n",
              "              title=\"Convert this dataframe to an interactive table.\"\n",
              "              style=\"display:none;\">\n",
              "        \n",
              "  <svg xmlns=\"http://www.w3.org/2000/svg\" height=\"24px\"viewBox=\"0 0 24 24\"\n",
              "       width=\"24px\">\n",
              "    <path d=\"M0 0h24v24H0V0z\" fill=\"none\"/>\n",
              "    <path d=\"M18.56 5.44l.94 2.06.94-2.06 2.06-.94-2.06-.94-.94-2.06-.94 2.06-2.06.94zm-11 1L8.5 8.5l.94-2.06 2.06-.94-2.06-.94L8.5 2.5l-.94 2.06-2.06.94zm10 10l.94 2.06.94-2.06 2.06-.94-2.06-.94-.94-2.06-.94 2.06-2.06.94z\"/><path d=\"M17.41 7.96l-1.37-1.37c-.4-.4-.92-.59-1.43-.59-.52 0-1.04.2-1.43.59L10.3 9.45l-7.72 7.72c-.78.78-.78 2.05 0 2.83L4 21.41c.39.39.9.59 1.41.59.51 0 1.02-.2 1.41-.59l7.78-7.78 2.81-2.81c.8-.78.8-2.07 0-2.86zM5.41 20L4 18.59l7.72-7.72 1.47 1.35L5.41 20z\"/>\n",
              "  </svg>\n",
              "      </button>\n",
              "      \n",
              "  <style>\n",
              "    .colab-df-container {\n",
              "      display:flex;\n",
              "      flex-wrap:wrap;\n",
              "      gap: 12px;\n",
              "    }\n",
              "\n",
              "    .colab-df-convert {\n",
              "      background-color: #E8F0FE;\n",
              "      border: none;\n",
              "      border-radius: 50%;\n",
              "      cursor: pointer;\n",
              "      display: none;\n",
              "      fill: #1967D2;\n",
              "      height: 32px;\n",
              "      padding: 0 0 0 0;\n",
              "      width: 32px;\n",
              "    }\n",
              "\n",
              "    .colab-df-convert:hover {\n",
              "      background-color: #E2EBFA;\n",
              "      box-shadow: 0px 1px 2px rgba(60, 64, 67, 0.3), 0px 1px 3px 1px rgba(60, 64, 67, 0.15);\n",
              "      fill: #174EA6;\n",
              "    }\n",
              "\n",
              "    [theme=dark] .colab-df-convert {\n",
              "      background-color: #3B4455;\n",
              "      fill: #D2E3FC;\n",
              "    }\n",
              "\n",
              "    [theme=dark] .colab-df-convert:hover {\n",
              "      background-color: #434B5C;\n",
              "      box-shadow: 0px 1px 3px 1px rgba(0, 0, 0, 0.15);\n",
              "      filter: drop-shadow(0px 1px 2px rgba(0, 0, 0, 0.3));\n",
              "      fill: #FFFFFF;\n",
              "    }\n",
              "  </style>\n",
              "\n",
              "      <script>\n",
              "        const buttonEl =\n",
              "          document.querySelector('#df-d991a7a8-06f2-4c2f-b623-9558e8b1af87 button.colab-df-convert');\n",
              "        buttonEl.style.display =\n",
              "          google.colab.kernel.accessAllowed ? 'block' : 'none';\n",
              "\n",
              "        async function convertToInteractive(key) {\n",
              "          const element = document.querySelector('#df-d991a7a8-06f2-4c2f-b623-9558e8b1af87');\n",
              "          const dataTable =\n",
              "            await google.colab.kernel.invokeFunction('convertToInteractive',\n",
              "                                                     [key], {});\n",
              "          if (!dataTable) return;\n",
              "\n",
              "          const docLinkHtml = 'Like what you see? Visit the ' +\n",
              "            '<a target=\"_blank\" href=https://colab.research.google.com/notebooks/data_table.ipynb>data table notebook</a>'\n",
              "            + ' to learn more about interactive tables.';\n",
              "          element.innerHTML = '';\n",
              "          dataTable['output_type'] = 'display_data';\n",
              "          await google.colab.output.renderOutput(dataTable, element);\n",
              "          const docLink = document.createElement('div');\n",
              "          docLink.innerHTML = docLinkHtml;\n",
              "          element.appendChild(docLink);\n",
              "        }\n",
              "      </script>\n",
              "    </div>\n",
              "  </div>\n",
              "  "
            ]
          },
          "metadata": {},
          "execution_count": 11
        }
      ]
    },
    {
      "cell_type": "code",
      "source": [
        "train_data = data.copy()\n",
        "train_data.drop_duplicates(subset=['chat_id', 'meme_id'], inplace=True)"
      ],
      "metadata": {
        "id": "6O3XbYJdXwDn"
      },
      "execution_count": 12,
      "outputs": []
    },
    {
      "cell_type": "code",
      "source": [
        "train_data.reaction.value_counts()"
      ],
      "metadata": {
        "colab": {
          "base_uri": "https://localhost:8080/"
        },
        "id": "ba2kJFF2KTUR",
        "outputId": "59d0d13a-53aa-4731-ac2e-d4f688128447"
      },
      "execution_count": 13,
      "outputs": [
        {
          "output_type": "execute_result",
          "data": {
            "text/plain": [
              "-1.0    37292\n",
              " 1.0    33166\n",
              "Name: reaction, dtype: int64"
            ]
          },
          "metadata": {},
          "execution_count": 13
        }
      ]
    },
    {
      "cell_type": "code",
      "source": [
        "print(\"num of unique users: \", len(train_data.chat_id.unique()))\n",
        "print(\"num of unique memes: \", len(train_data.meme_id.unique()))\n",
        "print(\"num of users that have at least 10 reactions: \", np.sum(train_data.chat_id.value_counts().values >= 10))\n",
        "\n",
        "# let's leave only those users that have at least 10 reactions on memes\n",
        "n_reactions = 10\n",
        "train_data = train_data.loc[\n",
        "    train_data\n",
        "    .groupby('chat_id')['chat_id']\n",
        "    .transform('count') >= n_reactions\n",
        "]"
      ],
      "metadata": {
        "colab": {
          "base_uri": "https://localhost:8080/"
        },
        "id": "Mu9-N5VlVn-p",
        "outputId": "5b88c606-6ae0-4438-b8cb-a54759273296"
      },
      "execution_count": 14,
      "outputs": [
        {
          "output_type": "stream",
          "name": "stdout",
          "text": [
            "num of unique users:  1060\n",
            "num of unique memes:  6240\n",
            "num of users that have at least 10 reactions:  873\n"
          ]
        }
      ]
    },
    {
      "cell_type": "code",
      "source": [
        "data_model_1 = RecommenderData(train_data, 'chat_id', 'meme_id', 'reaction')\n",
        "data_model_1.warm_start = False\n",
        "data_model_1.holdout_size = 1\n",
        "data_model_1.test_ratio = 0.2\n",
        "\n",
        "train_val = data_model_1.training\n",
        "holdout_test = data_model_1.test[1] #holdout\n",
        "data_indexing_tvt = data_model_1.index\n",
        "\n",
        "\n",
        "data_model_2 = RecommenderData(train_val, 'chat_id', 'meme_id', 'reaction')\n",
        "data_model_2.warm_start = False\n",
        "data_model_2.holdout_size = 1\n",
        "data_model_2.test_ratio = 0.2\n",
        "\n",
        "train = data_model_2.training\n",
        "holdout_val = data_model_2.test[1] #holdout\n",
        "data_indexing_tv = data_model_2.index\n",
        "\n"
      ],
      "metadata": {
        "colab": {
          "base_uri": "https://localhost:8080/"
        },
        "id": "RlUga8YOYjgT",
        "outputId": "7fc51e8f-ac8d-44b5-d487-0ca674bf52a5"
      },
      "execution_count": 15,
      "outputs": [
        {
          "output_type": "stream",
          "name": "stdout",
          "text": [
            "Preparing data...\n",
            "Users are not uniformly ordered! Unable to split test set reliably.\n",
            "6 unique meme_id entities within 6 holdout interactions were filtered. Reason: not in the training data.\n",
            "Done.\n",
            "There are 69486 events in the training and 169 events in the holdout.\n",
            "Preparing data...\n",
            "Users are not uniformly ordered! Unable to split test set reliably.\n",
            "4 unique meme_id entities within 4 holdout interactions were filtered. Reason: not in the training data.\n",
            "Done.\n",
            "There are 69311 events in the training and 171 events in the holdout.\n"
          ]
        }
      ]
    },
    {
      "cell_type": "code",
      "source": [
        "print(data_model_1._random_holdout, data_model_1._negative_prediction)"
      ],
      "metadata": {
        "colab": {
          "base_uri": "https://localhost:8080/"
        },
        "id": "qCcp9thD6CmZ",
        "outputId": "7f8ae1ae-5b9a-4e20-8602-9047be2f4d68"
      },
      "execution_count": 16,
      "outputs": [
        {
          "output_type": "stream",
          "name": "stdout",
          "text": [
            "False False\n"
          ]
        }
      ]
    },
    {
      "cell_type": "code",
      "source": [
        "print(f'train size = {train.shape[0]}, val size = {holdout_val.shape[0]}, test size = {holdout_test.shape[0]}')"
      ],
      "metadata": {
        "colab": {
          "base_uri": "https://localhost:8080/"
        },
        "id": "eJDRVlzSfVLk",
        "outputId": "525aa78b-ad5c-49cc-cb34-988a85a8adb3"
      },
      "execution_count": 17,
      "outputs": [
        {
          "output_type": "stream",
          "name": "stdout",
          "text": [
            "train size = 69311, val size = 171, test size = 169\n"
          ]
        }
      ]
    },
    {
      "cell_type": "markdown",
      "source": [
        "## Build Pure SVD Model with best rank"
      ],
      "metadata": {
        "id": "mT9GdGzMBktK"
      }
    },
    {
      "cell_type": "code",
      "source": [
        "for rank in [10, 15, 30, 50, 100, 200, 300, 400, 500,  600]:\n",
        "  print(f'-----RANK={rank}------')\n",
        "  svd = SVDModel(data_model_2)\n",
        "  svd.rank = rank\n",
        "  svd.build()\n",
        "  print(svd.evaluate('main'))"
      ],
      "metadata": {
        "colab": {
          "base_uri": "https://localhost:8080/"
        },
        "id": "rdb-lLPS95zA",
        "outputId": "a3b98bef-666f-4083-afd2-5a482595fc12"
      },
      "execution_count": 18,
      "outputs": [
        {
          "output_type": "stream",
          "name": "stdout",
          "text": [
            "-----RANK=10------\n",
            "PureSVD training time: 0.071s\n",
            "[Relevance(hr=0.07602339181286549), Ranking(arhr=0.03222639933166249, mrr=0.032226399331662485)]\n",
            "-----RANK=15------\n",
            "PureSVD training time: 0.085s\n",
            "[Relevance(hr=0.08187134502923976), Ranking(arhr=0.03233314768402487, mrr=0.03233314768402488)]\n",
            "-----RANK=30------\n",
            "PureSVD training time: 0.132s\n",
            "[Relevance(hr=0.08771929824561403), Ranking(arhr=0.03558201058201058, mrr=0.03558201058201058)]\n",
            "-----RANK=50------\n",
            "PureSVD training time: 0.124s\n",
            "[Relevance(hr=0.05847953216374269), Ranking(arhr=0.026949317738791424, mrr=0.026949317738791424)]\n",
            "-----RANK=100------\n",
            "PureSVD training time: 0.276s\n",
            "[Relevance(hr=0.07017543859649122), Ranking(arhr=0.011791051703332405, mrr=0.011791051703332403)]\n",
            "-----RANK=200------\n",
            "PureSVD training time: 0.749s\n",
            "[Relevance(hr=0.029239766081871343), Ranking(arhr=0.005198180636777129, mrr=0.005198180636777128)]\n",
            "-----RANK=300------\n",
            "PureSVD training time: 1.161s\n",
            "[Relevance(hr=0.03508771929824561), Ranking(arhr=0.0142369813422445, mrr=0.0142369813422445)]\n",
            "-----RANK=400------\n",
            "PureSVD training time: 2.247s\n",
            "[Relevance(hr=0.023391812865497075), Ranking(arhr=0.007992202729044835, mrr=0.007992202729044834)]\n",
            "-----RANK=500------\n",
            "PureSVD training time: 3.590s\n",
            "[Relevance(hr=0.03508771929824561), Ranking(arhr=0.009987932794950338, mrr=0.009987932794950338)]\n",
            "-----RANK=600------\n",
            "PureSVD training time: 6.302s\n",
            "[Relevance(hr=0.011695906432748537), Ranking(arhr=0.004093567251461988, mrr=0.004093567251461988)]\n"
          ]
        }
      ]
    },
    {
      "cell_type": "code",
      "source": [
        "print('-----training on train+val and evaluaeted on test------')\n",
        "svd = SVDModel(data_model_1)\n",
        "svd.rank = 30\n",
        "svd._topk = 10\n",
        "svd.build()\n",
        "print(svd.evaluate('main'))\n"
      ],
      "metadata": {
        "colab": {
          "base_uri": "https://localhost:8080/"
        },
        "id": "aXrov1QrAEd4",
        "outputId": "742b0b24-341f-42f9-8276-5f007f295b60"
      },
      "execution_count": 19,
      "outputs": [
        {
          "output_type": "stream",
          "name": "stdout",
          "text": [
            "-----training on train+val and evaluaeted on test------\n",
            "PureSVD training time: 0.118s\n",
            "[Relevance(hr=0.08875739644970414), Ranking(arhr=0.0350662158354466, mrr=0.035066215835446606)]\n"
          ]
        }
      ]
    },
    {
      "cell_type": "markdown",
      "source": [
        "## Gradient Boosting"
      ],
      "metadata": {
        "id": "KMdKmeZcBPGP"
      }
    },
    {
      "cell_type": "code",
      "source": [
        "from sklearn.metrics import accuracy_score, classification_report, roc_auc_score, roc_curve\n",
        "from lightgbm import LGBMClassifier,plot_importance\n",
        "from matplotlib import pyplot as plt\n",
        "from itertools import product\n",
        "\n",
        "from evaluation import topn_recommendations, model_evaluate, downvote_seen_items"
      ],
      "metadata": {
        "id": "t7pRvhz6QYJN"
      },
      "execution_count": 22,
      "outputs": []
    },
    {
      "cell_type": "code",
      "source": [
        "data_description = dict(\n",
        "    users = train['chat_id'].name,\n",
        "    items = train['meme_id'].name,\n",
        "    feedback = 'reaction',\n",
        "    n_users = len(train['chat_id']),\n",
        "    n_items = len(train['meme_id']),\n",
        "    test_users = holdout_val[train['chat_id'].name].values\n",
        ")\n",
        "\n",
        "testset = data_description['test_users']\n",
        "seen_data = train[train.chat_id.isin(testset)]"
      ],
      "metadata": {
        "id": "jRNuZvqlcsYq"
      },
      "execution_count": 23,
      "outputs": []
    },
    {
      "cell_type": "code",
      "source": [
        "svd = SVDModel(data_model_2)\n",
        "svd.rank = 30\n",
        "svd.build()\n",
        "\n",
        "item_factors = svd.factors['meme_id']\n",
        "user_factors = svd.factors['chat_id']"
      ],
      "metadata": {
        "colab": {
          "base_uri": "https://localhost:8080/"
        },
        "id": "0zQZF0jcFKnR",
        "outputId": "8d9576e7-315f-4f04-d5f1-85ddf1904dd5"
      },
      "execution_count": 25,
      "outputs": [
        {
          "output_type": "stream",
          "name": "stdout",
          "text": [
            "PureSVD training time: 0.174s\n"
          ]
        }
      ]
    },
    {
      "cell_type": "code",
      "source": [
        "def get_vectorized_data(df, user_factors, item_factors):\n",
        "  X = []\n",
        "  y_true = []\n",
        "  for i in tqdm(range(df.shape[0])):\n",
        "    user_features = user_factors[int(df.iloc[i]['chat_id']), :]\n",
        "    item_features = item_factors[int(df.iloc[i]['meme_id']), :]\n",
        "    features = np.concatenate((user_features,item_features), axis=0)\n",
        "    y = (int(df.iloc[i]['reaction']) + 1) / 2 # here 1 stand for like and 0 for dislike\n",
        "    y_true.append(y)\n",
        "    X.append(features)\n",
        "  X = np.array(X)\n",
        "\n",
        "  return X, y_true\n",
        "\n",
        "\n",
        "def boosting_scoring(model, holdout, user_factors, item_factors):\n",
        "  scores = []\n",
        "  for id_ in tqdm(holdout['chat_id'].values):\n",
        "    user_features = user_factors[id_, :]\n",
        "    user_matrix = item_factors.shape[0] * [user_features]\n",
        "    user_matrix = np.array(user_matrix)\n",
        "    features = np.concatenate((user_matrix, item_factors), axis=1)\n",
        "    score = model.predict_proba(features)[:, 1]\n",
        "    scores.append(score)\n",
        "  return scores"
      ],
      "metadata": {
        "id": "JNWZtYBZPmid"
      },
      "execution_count": 26,
      "outputs": []
    },
    {
      "cell_type": "code",
      "source": [
        "X_train, y_train = get_vectorized_data(train, user_factors, item_factors)\n",
        "X_val, y_val = get_vectorized_data(holdout_val, user_factors, item_factors)"
      ],
      "metadata": {
        "colab": {
          "base_uri": "https://localhost:8080/"
        },
        "id": "MfOrM7qfQAW7",
        "outputId": "89ded45d-0b71-42b7-a7b0-b937ffb7f1f3"
      },
      "execution_count": 27,
      "outputs": [
        {
          "output_type": "stream",
          "name": "stderr",
          "text": [
            "100%|██████████| 69311/69311 [00:41<00:00, 1676.16it/s]\n",
            "100%|██████████| 171/171 [00:00<00:00, 525.40it/s]\n"
          ]
        }
      ]
    },
    {
      "cell_type": "code",
      "source": [
        "light = LGBMClassifier(n_estimators=200, learning_rate=0.05,\n",
        "                      min_child_samples=30, num_leaves=127)\n",
        "light.fit(X_train, y_train)\n"
      ],
      "metadata": {
        "colab": {
          "base_uri": "https://localhost:8080/"
        },
        "id": "8r17RrKnQxaG",
        "outputId": "965bc03c-a181-4461-97b4-1233f3a42bcd"
      },
      "execution_count": 28,
      "outputs": [
        {
          "output_type": "execute_result",
          "data": {
            "text/plain": [
              "LGBMClassifier(learning_rate=0.05, min_child_samples=30, n_estimators=200,\n",
              "               num_leaves=127)"
            ]
          },
          "metadata": {},
          "execution_count": 28
        }
      ]
    },
    {
      "cell_type": "code",
      "source": [
        "scores = boosting_scoring(light, holdout_val, user_factors, item_factors)\n"
      ],
      "metadata": {
        "colab": {
          "base_uri": "https://localhost:8080/"
        },
        "id": "GD5Xs4rmZSQw",
        "outputId": "9bb9e7cc-9fb6-40cb-ad0e-19140d8228a5"
      },
      "execution_count": 29,
      "outputs": [
        {
          "output_type": "stream",
          "name": "stderr",
          "text": [
            "100%|██████████| 171/171 [00:13<00:00, 13.10it/s]\n"
          ]
        }
      ]
    },
    {
      "cell_type": "code",
      "source": [
        "downvote_seen_items(np.array(scores), seen_data, data_description)\n",
        "recs = topn_recommendations(np.array(scores), topn=20)\n",
        "print('HR={:.3}, MRR={:.3}, COV={:.3}'.format(*model_evaluate(recs, holdout_val, data_description,  topn=10)))"
      ],
      "metadata": {
        "colab": {
          "base_uri": "https://localhost:8080/"
        },
        "id": "HqMCL1L8bCsd",
        "outputId": "503172d9-e057-4e46-b9d4-8578f6af00c1"
      },
      "execution_count": 30,
      "outputs": [
        {
          "output_type": "stream",
          "name": "stdout",
          "text": [
            "HR=0.0351, MRR=0.00743, COV=0.0123\n"
          ]
        }
      ]
    },
    {
      "cell_type": "markdown",
      "source": [
        "## Search for best parameters for LightGBM"
      ],
      "metadata": {
        "id": "-oAJhqQceY6F"
      }
    },
    {
      "cell_type": "code",
      "source": [
        "ranks = [10, 15, 30, 50, 100, 200, 300, 400, 500,  600]\n",
        "nestims = [50, 100,  200, 300, 400, 500]\n",
        "learning_rates = [0.0001, 0.001,  0.01, 0.1]\n",
        "max_depths = [3, 5, 7, 9]\n",
        "\n",
        "params = product(ranks, nestims, learning_rates, max_depths)"
      ],
      "metadata": {
        "id": "vOQWl3ykffza"
      },
      "execution_count": 459,
      "outputs": []
    },
    {
      "cell_type": "code",
      "source": [
        "results = []\n",
        "for param in params:\n",
        "  svd = SVDModel(data_model_2)\n",
        "  svd.rank = param[0]\n",
        "  svd.build()\n",
        "\n",
        "  item_factors = svd.factors['meme_id']\n",
        "  user_factors = svd.factors['chat_id']\n",
        "\n",
        "  X_train, y_train = get_vectorized_data(train, user_factors, item_factors)\n",
        "\n",
        "  light = LGBMClassifier(n_estimators=param[1], learning_rate=param[2], max_depth=param[3])\n",
        "  light.fit(X_train, y_train)\n",
        "\n",
        "  scores = boosting_scoring(light, holdout_val, user_factors, item_factors)\n",
        "\n",
        "  downvote_seen_items(np.array(scores), seen_data, data_description)\n",
        "  recs = topn_recommendations(np.array(scores), topn=10)\n",
        "  print(param)\n",
        "  hr, mrr, cov = model_evaluate(recs, holdout_val, data_description,  topn=10)\n",
        "  print('HR={:.3}, MRR={:.3}, COV={:.3}'.format(*model_evaluate(recs, holdout_val, data_description,  topn=10)))\n",
        "\n",
        "  results.append([*param, hr, mrr])\n",
        "\n"
      ],
      "metadata": {
        "colab": {
          "base_uri": "https://localhost:8080/",
          "height": 496
        },
        "id": "ysyoApL8gj17",
        "outputId": "42e9d4cf-b67c-4fc6-b54f-45c1aa2867d4"
      },
      "execution_count": null,
      "outputs": [
        {
          "output_type": "stream",
          "name": "stderr",
          "text": [
            "100%|██████████| 171/171 [00:09<00:00, 18.08it/s]\n"
          ]
        },
        {
          "output_type": "stream",
          "name": "stdout",
          "text": [
            "(30, 200, 0.1, 9)\n",
            "HR=0.0468, MRR=0.0101, COV=0.00717\n",
            "PureSVD training time: 0.080s\n"
          ]
        },
        {
          "output_type": "stream",
          "name": "stderr",
          "text": [
            " 17%|█▋        | 11919/69311 [00:05<00:25, 2267.96it/s]\n"
          ]
        },
        {
          "output_type": "error",
          "ename": "KeyboardInterrupt",
          "evalue": "ignored",
          "traceback": [
            "\u001b[0;31m---------------------------------------------------------------------------\u001b[0m",
            "\u001b[0;31mKeyboardInterrupt\u001b[0m                         Traceback (most recent call last)",
            "\u001b[0;32m<ipython-input-464-5e9112411288>\u001b[0m in \u001b[0;36m<module>\u001b[0;34m()\u001b[0m\n\u001b[1;32m      8\u001b[0m   \u001b[0muser_factors\u001b[0m \u001b[0;34m=\u001b[0m \u001b[0msvd\u001b[0m\u001b[0;34m.\u001b[0m\u001b[0mfactors\u001b[0m\u001b[0;34m[\u001b[0m\u001b[0;34m'chat_id'\u001b[0m\u001b[0;34m]\u001b[0m\u001b[0;34m\u001b[0m\u001b[0;34m\u001b[0m\u001b[0m\n\u001b[1;32m      9\u001b[0m \u001b[0;34m\u001b[0m\u001b[0m\n\u001b[0;32m---> 10\u001b[0;31m   \u001b[0mX_train\u001b[0m\u001b[0;34m,\u001b[0m \u001b[0my_train\u001b[0m \u001b[0;34m=\u001b[0m \u001b[0mget_vectorized_data\u001b[0m\u001b[0;34m(\u001b[0m\u001b[0mtrain\u001b[0m\u001b[0;34m,\u001b[0m \u001b[0muser_factors\u001b[0m\u001b[0;34m,\u001b[0m \u001b[0mitem_factors\u001b[0m\u001b[0;34m)\u001b[0m\u001b[0;34m\u001b[0m\u001b[0;34m\u001b[0m\u001b[0m\n\u001b[0m\u001b[1;32m     11\u001b[0m \u001b[0;34m\u001b[0m\u001b[0m\n\u001b[1;32m     12\u001b[0m   \u001b[0mlight\u001b[0m \u001b[0;34m=\u001b[0m \u001b[0mLGBMClassifier\u001b[0m\u001b[0;34m(\u001b[0m\u001b[0mn_estimators\u001b[0m\u001b[0;34m=\u001b[0m\u001b[0mparam\u001b[0m\u001b[0;34m[\u001b[0m\u001b[0;36m1\u001b[0m\u001b[0;34m]\u001b[0m\u001b[0;34m,\u001b[0m \u001b[0mlearning_rate\u001b[0m\u001b[0;34m=\u001b[0m\u001b[0mparam\u001b[0m\u001b[0;34m[\u001b[0m\u001b[0;36m2\u001b[0m\u001b[0;34m]\u001b[0m\u001b[0;34m,\u001b[0m \u001b[0mmax_depth\u001b[0m\u001b[0;34m=\u001b[0m\u001b[0mparam\u001b[0m\u001b[0;34m[\u001b[0m\u001b[0;36m3\u001b[0m\u001b[0;34m]\u001b[0m\u001b[0;34m)\u001b[0m\u001b[0;34m\u001b[0m\u001b[0;34m\u001b[0m\u001b[0m\n",
            "\u001b[0;32m<ipython-input-463-7d619b70a33f>\u001b[0m in \u001b[0;36mget_vectorized_data\u001b[0;34m(df, user_factors, item_factors)\u001b[0m\n\u001b[1;32m      6\u001b[0m     \u001b[0mitem_features\u001b[0m \u001b[0;34m=\u001b[0m \u001b[0mitem_factors\u001b[0m\u001b[0;34m[\u001b[0m\u001b[0mint\u001b[0m\u001b[0;34m(\u001b[0m\u001b[0mdf\u001b[0m\u001b[0;34m.\u001b[0m\u001b[0miloc\u001b[0m\u001b[0;34m[\u001b[0m\u001b[0mi\u001b[0m\u001b[0;34m]\u001b[0m\u001b[0;34m[\u001b[0m\u001b[0;34m'meme_id'\u001b[0m\u001b[0;34m]\u001b[0m\u001b[0;34m)\u001b[0m\u001b[0;34m,\u001b[0m \u001b[0;34m:\u001b[0m\u001b[0;34m]\u001b[0m\u001b[0;34m\u001b[0m\u001b[0;34m\u001b[0m\u001b[0m\n\u001b[1;32m      7\u001b[0m     \u001b[0mfeatures\u001b[0m \u001b[0;34m=\u001b[0m \u001b[0mnp\u001b[0m\u001b[0;34m.\u001b[0m\u001b[0mconcatenate\u001b[0m\u001b[0;34m(\u001b[0m\u001b[0;34m(\u001b[0m\u001b[0muser_features\u001b[0m\u001b[0;34m,\u001b[0m\u001b[0mitem_features\u001b[0m\u001b[0;34m)\u001b[0m\u001b[0;34m,\u001b[0m \u001b[0maxis\u001b[0m\u001b[0;34m=\u001b[0m\u001b[0;36m0\u001b[0m\u001b[0;34m)\u001b[0m\u001b[0;34m\u001b[0m\u001b[0;34m\u001b[0m\u001b[0m\n\u001b[0;32m----> 8\u001b[0;31m     \u001b[0my\u001b[0m \u001b[0;34m=\u001b[0m \u001b[0;34m(\u001b[0m\u001b[0mint\u001b[0m\u001b[0;34m(\u001b[0m\u001b[0mdf\u001b[0m\u001b[0;34m.\u001b[0m\u001b[0miloc\u001b[0m\u001b[0;34m[\u001b[0m\u001b[0mi\u001b[0m\u001b[0;34m]\u001b[0m\u001b[0;34m[\u001b[0m\u001b[0;34m'reaction'\u001b[0m\u001b[0;34m]\u001b[0m\u001b[0;34m)\u001b[0m \u001b[0;34m+\u001b[0m \u001b[0;36m1\u001b[0m\u001b[0;34m)\u001b[0m \u001b[0;34m/\u001b[0m \u001b[0;36m2\u001b[0m \u001b[0;31m# here 1 stand for like and 0 for dislike\u001b[0m\u001b[0;34m\u001b[0m\u001b[0;34m\u001b[0m\u001b[0m\n\u001b[0m\u001b[1;32m      9\u001b[0m     \u001b[0my_true\u001b[0m\u001b[0;34m.\u001b[0m\u001b[0mappend\u001b[0m\u001b[0;34m(\u001b[0m\u001b[0my\u001b[0m\u001b[0;34m)\u001b[0m\u001b[0;34m\u001b[0m\u001b[0;34m\u001b[0m\u001b[0m\n\u001b[1;32m     10\u001b[0m     \u001b[0mX\u001b[0m\u001b[0;34m.\u001b[0m\u001b[0mappend\u001b[0m\u001b[0;34m(\u001b[0m\u001b[0mfeatures\u001b[0m\u001b[0;34m)\u001b[0m\u001b[0;34m\u001b[0m\u001b[0;34m\u001b[0m\u001b[0m\n",
            "\u001b[0;32m/usr/local/lib/python3.7/dist-packages/pandas/core/indexing.py\u001b[0m in \u001b[0;36m__getitem__\u001b[0;34m(self, key)\u001b[0m\n\u001b[1;32m    929\u001b[0m \u001b[0;34m\u001b[0m\u001b[0m\n\u001b[1;32m    930\u001b[0m             \u001b[0mmaybe_callable\u001b[0m \u001b[0;34m=\u001b[0m \u001b[0mcom\u001b[0m\u001b[0;34m.\u001b[0m\u001b[0mapply_if_callable\u001b[0m\u001b[0;34m(\u001b[0m\u001b[0mkey\u001b[0m\u001b[0;34m,\u001b[0m \u001b[0mself\u001b[0m\u001b[0;34m.\u001b[0m\u001b[0mobj\u001b[0m\u001b[0;34m)\u001b[0m\u001b[0;34m\u001b[0m\u001b[0;34m\u001b[0m\u001b[0m\n\u001b[0;32m--> 931\u001b[0;31m             \u001b[0;32mreturn\u001b[0m \u001b[0mself\u001b[0m\u001b[0;34m.\u001b[0m\u001b[0m_getitem_axis\u001b[0m\u001b[0;34m(\u001b[0m\u001b[0mmaybe_callable\u001b[0m\u001b[0;34m,\u001b[0m \u001b[0maxis\u001b[0m\u001b[0;34m=\u001b[0m\u001b[0maxis\u001b[0m\u001b[0;34m)\u001b[0m\u001b[0;34m\u001b[0m\u001b[0;34m\u001b[0m\u001b[0m\n\u001b[0m\u001b[1;32m    932\u001b[0m \u001b[0;34m\u001b[0m\u001b[0m\n\u001b[1;32m    933\u001b[0m     \u001b[0;32mdef\u001b[0m \u001b[0m_is_scalar_access\u001b[0m\u001b[0;34m(\u001b[0m\u001b[0mself\u001b[0m\u001b[0;34m,\u001b[0m \u001b[0mkey\u001b[0m\u001b[0;34m:\u001b[0m \u001b[0mtuple\u001b[0m\u001b[0;34m)\u001b[0m\u001b[0;34m:\u001b[0m\u001b[0;34m\u001b[0m\u001b[0;34m\u001b[0m\u001b[0m\n",
            "\u001b[0;32m/usr/local/lib/python3.7/dist-packages/pandas/core/indexing.py\u001b[0m in \u001b[0;36m_getitem_axis\u001b[0;34m(self, key, axis)\u001b[0m\n\u001b[1;32m   1566\u001b[0m             \u001b[0mself\u001b[0m\u001b[0;34m.\u001b[0m\u001b[0m_validate_integer\u001b[0m\u001b[0;34m(\u001b[0m\u001b[0mkey\u001b[0m\u001b[0;34m,\u001b[0m \u001b[0maxis\u001b[0m\u001b[0;34m)\u001b[0m\u001b[0;34m\u001b[0m\u001b[0;34m\u001b[0m\u001b[0m\n\u001b[1;32m   1567\u001b[0m \u001b[0;34m\u001b[0m\u001b[0m\n\u001b[0;32m-> 1568\u001b[0;31m             \u001b[0;32mreturn\u001b[0m \u001b[0mself\u001b[0m\u001b[0;34m.\u001b[0m\u001b[0mobj\u001b[0m\u001b[0;34m.\u001b[0m\u001b[0m_ixs\u001b[0m\u001b[0;34m(\u001b[0m\u001b[0mkey\u001b[0m\u001b[0;34m,\u001b[0m \u001b[0maxis\u001b[0m\u001b[0;34m=\u001b[0m\u001b[0maxis\u001b[0m\u001b[0;34m)\u001b[0m\u001b[0;34m\u001b[0m\u001b[0;34m\u001b[0m\u001b[0m\n\u001b[0m\u001b[1;32m   1569\u001b[0m \u001b[0;34m\u001b[0m\u001b[0m\n\u001b[1;32m   1570\u001b[0m     \u001b[0;32mdef\u001b[0m \u001b[0m_get_slice_axis\u001b[0m\u001b[0;34m(\u001b[0m\u001b[0mself\u001b[0m\u001b[0;34m,\u001b[0m \u001b[0mslice_obj\u001b[0m\u001b[0;34m:\u001b[0m \u001b[0mslice\u001b[0m\u001b[0;34m,\u001b[0m \u001b[0maxis\u001b[0m\u001b[0;34m:\u001b[0m \u001b[0mint\u001b[0m\u001b[0;34m)\u001b[0m\u001b[0;34m:\u001b[0m\u001b[0;34m\u001b[0m\u001b[0;34m\u001b[0m\u001b[0m\n",
            "\u001b[0;32m/usr/local/lib/python3.7/dist-packages/pandas/core/frame.py\u001b[0m in \u001b[0;36m_ixs\u001b[0;34m(self, i, axis)\u001b[0m\n\u001b[1;32m   3385\u001b[0m                 \u001b[0mindex\u001b[0m\u001b[0;34m=\u001b[0m\u001b[0mself\u001b[0m\u001b[0;34m.\u001b[0m\u001b[0mcolumns\u001b[0m\u001b[0;34m,\u001b[0m\u001b[0;34m\u001b[0m\u001b[0;34m\u001b[0m\u001b[0m\n\u001b[1;32m   3386\u001b[0m                 \u001b[0mname\u001b[0m\u001b[0;34m=\u001b[0m\u001b[0mself\u001b[0m\u001b[0;34m.\u001b[0m\u001b[0mindex\u001b[0m\u001b[0;34m[\u001b[0m\u001b[0mi\u001b[0m\u001b[0;34m]\u001b[0m\u001b[0;34m,\u001b[0m\u001b[0;34m\u001b[0m\u001b[0;34m\u001b[0m\u001b[0m\n\u001b[0;32m-> 3387\u001b[0;31m                 \u001b[0mdtype\u001b[0m\u001b[0;34m=\u001b[0m\u001b[0mnew_values\u001b[0m\u001b[0;34m.\u001b[0m\u001b[0mdtype\u001b[0m\u001b[0;34m,\u001b[0m\u001b[0;34m\u001b[0m\u001b[0;34m\u001b[0m\u001b[0m\n\u001b[0m\u001b[1;32m   3388\u001b[0m             )\n\u001b[1;32m   3389\u001b[0m             \u001b[0mresult\u001b[0m\u001b[0;34m.\u001b[0m\u001b[0m_set_is_copy\u001b[0m\u001b[0;34m(\u001b[0m\u001b[0mself\u001b[0m\u001b[0;34m,\u001b[0m \u001b[0mcopy\u001b[0m\u001b[0;34m=\u001b[0m\u001b[0mcopy\u001b[0m\u001b[0;34m)\u001b[0m\u001b[0;34m\u001b[0m\u001b[0;34m\u001b[0m\u001b[0m\n",
            "\u001b[0;32m/usr/local/lib/python3.7/dist-packages/pandas/core/series.py\u001b[0m in \u001b[0;36m__init__\u001b[0;34m(self, data, index, dtype, name, copy, fastpath)\u001b[0m\n\u001b[1;32m    437\u001b[0m                     \u001b[0mdata\u001b[0m \u001b[0;34m=\u001b[0m \u001b[0mdata\u001b[0m\u001b[0;34m.\u001b[0m\u001b[0mcopy\u001b[0m\u001b[0;34m(\u001b[0m\u001b[0;34m)\u001b[0m\u001b[0;34m\u001b[0m\u001b[0;34m\u001b[0m\u001b[0m\n\u001b[1;32m    438\u001b[0m             \u001b[0;32melse\u001b[0m\u001b[0;34m:\u001b[0m\u001b[0;34m\u001b[0m\u001b[0;34m\u001b[0m\u001b[0m\n\u001b[0;32m--> 439\u001b[0;31m                 \u001b[0mdata\u001b[0m \u001b[0;34m=\u001b[0m \u001b[0msanitize_array\u001b[0m\u001b[0;34m(\u001b[0m\u001b[0mdata\u001b[0m\u001b[0;34m,\u001b[0m \u001b[0mindex\u001b[0m\u001b[0;34m,\u001b[0m \u001b[0mdtype\u001b[0m\u001b[0;34m,\u001b[0m \u001b[0mcopy\u001b[0m\u001b[0;34m)\u001b[0m\u001b[0;34m\u001b[0m\u001b[0;34m\u001b[0m\u001b[0m\n\u001b[0m\u001b[1;32m    440\u001b[0m \u001b[0;34m\u001b[0m\u001b[0m\n\u001b[1;32m    441\u001b[0m                 \u001b[0mmanager\u001b[0m \u001b[0;34m=\u001b[0m \u001b[0mget_option\u001b[0m\u001b[0;34m(\u001b[0m\u001b[0;34m\"mode.data_manager\"\u001b[0m\u001b[0;34m)\u001b[0m\u001b[0;34m\u001b[0m\u001b[0;34m\u001b[0m\u001b[0m\n",
            "\u001b[0;32m/usr/local/lib/python3.7/dist-packages/pandas/core/construction.py\u001b[0m in \u001b[0;36msanitize_array\u001b[0;34m(data, index, dtype, copy, raise_cast_failure, allow_2d)\u001b[0m\n\u001b[1;32m    494\u001b[0m     \u001b[0mapplying\u001b[0m \u001b[0mto\u001b[0m \u001b[0ma\u001b[0m \u001b[0msubset\u001b[0m \u001b[0mof\u001b[0m \u001b[0mcolumns\u001b[0m\u001b[0;34m,\u001b[0m \u001b[0msee\u001b[0m \u001b[0mGH\u001b[0m\u001b[0;31m#24435.\u001b[0m\u001b[0;34m\u001b[0m\u001b[0;34m\u001b[0m\u001b[0m\n\u001b[1;32m    495\u001b[0m     \"\"\"\n\u001b[0;32m--> 496\u001b[0;31m     \u001b[0;32mif\u001b[0m \u001b[0misinstance\u001b[0m\u001b[0;34m(\u001b[0m\u001b[0mdata\u001b[0m\u001b[0;34m,\u001b[0m \u001b[0mma\u001b[0m\u001b[0;34m.\u001b[0m\u001b[0mMaskedArray\u001b[0m\u001b[0;34m)\u001b[0m\u001b[0;34m:\u001b[0m\u001b[0;34m\u001b[0m\u001b[0;34m\u001b[0m\u001b[0m\n\u001b[0m\u001b[1;32m    497\u001b[0m         \u001b[0mdata\u001b[0m \u001b[0;34m=\u001b[0m \u001b[0msanitize_masked_array\u001b[0m\u001b[0;34m(\u001b[0m\u001b[0mdata\u001b[0m\u001b[0;34m)\u001b[0m\u001b[0;34m\u001b[0m\u001b[0;34m\u001b[0m\u001b[0m\n\u001b[1;32m    498\u001b[0m \u001b[0;34m\u001b[0m\u001b[0m\n",
            "\u001b[0;31mKeyboardInterrupt\u001b[0m: "
          ]
        }
      ]
    },
    {
      "cell_type": "code",
      "source": [
        "ranks = [10, 50, 100, 300]\n",
        "nestims = [200, 300, 400]\n",
        "learning_rates = [0.01]\n",
        "max_depths = [3, 5, 7]\n",
        "\n",
        "params = product(ranks, nestims, learning_rates, max_depths)"
      ],
      "metadata": {
        "id": "QrGZw2_fI3ia"
      },
      "execution_count": 17,
      "outputs": []
    },
    {
      "cell_type": "code",
      "source": [
        "results = []\n",
        "for param in params:\n",
        "  svd = SVDModel(data_model_2)\n",
        "  svd.rank = param[0]\n",
        "  svd.build()\n",
        "\n",
        "  item_factors = svd.factors['meme_id']\n",
        "  user_factors = svd.factors['chat_id']\n",
        "\n",
        "  X_train, y_train = get_vectorized_data(train, user_factors, item_factors)\n",
        "\n",
        "  light = LGBMClassifier(n_estimators=param[1], learning_rate=param[2], max_depth=param[3])\n",
        "  light.fit(X_train, y_train)\n",
        "\n",
        "  scores = boosting_scoring(light, holdout_val, user_factors, item_factors)\n",
        "\n",
        "  downvote_seen_items(np.array(scores), seen_data, data_description)\n",
        "  recs = topn_recommendations(np.array(scores), topn=10)\n",
        "  print(param)\n",
        "  hr, mrr, cov = model_evaluate(recs, holdout_val, data_description,  topn=10)\n",
        "  print('HR={:.3}, MRR={:.3}, COV={:.3}'.format(*model_evaluate(recs, holdout_val, data_description,  topn=10)))\n",
        "\n",
        "  results.append([*param, hr, mrr])"
      ],
      "metadata": {
        "colab": {
          "base_uri": "https://localhost:8080/",
          "height": 1000
        },
        "id": "uJRJcLbfJBwo",
        "outputId": "ffb5495f-b618-45c0-bbb3-1b32a9101629"
      },
      "execution_count": 18,
      "outputs": [
        {
          "output_type": "stream",
          "name": "stdout",
          "text": [
            "PureSVD training time: 0.056s\n"
          ]
        },
        {
          "output_type": "stream",
          "name": "stderr",
          "text": [
            "100%|██████████| 69311/69311 [01:05<00:00, 1062.65it/s]\n",
            "100%|██████████| 171/171 [00:08<00:00, 21.26it/s]\n"
          ]
        },
        {
          "output_type": "stream",
          "name": "stdout",
          "text": [
            "(10, 200, 0.01, 3)\n",
            "HR=0.0819, MRR=0.0292, COV=0.000606\n",
            "PureSVD training time: 0.091s\n"
          ]
        },
        {
          "output_type": "stream",
          "name": "stderr",
          "text": [
            "100%|██████████| 69311/69311 [00:50<00:00, 1383.76it/s]\n",
            "100%|██████████| 171/171 [00:09<00:00, 17.64it/s]\n"
          ]
        },
        {
          "output_type": "stream",
          "name": "stdout",
          "text": [
            "(10, 200, 0.01, 5)\n",
            "HR=0.0643, MRR=0.0189, COV=0.00234\n",
            "PureSVD training time: 0.301s\n"
          ]
        },
        {
          "output_type": "stream",
          "name": "stderr",
          "text": [
            "100%|██████████| 69311/69311 [00:48<00:00, 1424.42it/s]\n",
            "100%|██████████| 171/171 [00:11<00:00, 14.51it/s]\n"
          ]
        },
        {
          "output_type": "stream",
          "name": "stdout",
          "text": [
            "(10, 200, 0.01, 7)\n",
            "HR=0.0702, MRR=0.0281, COV=0.00287\n",
            "PureSVD training time: 0.060s\n"
          ]
        },
        {
          "output_type": "stream",
          "name": "stderr",
          "text": [
            "100%|██████████| 69311/69311 [00:30<00:00, 2268.89it/s]\n",
            "100%|██████████| 171/171 [00:07<00:00, 24.30it/s]\n"
          ]
        },
        {
          "output_type": "stream",
          "name": "stdout",
          "text": [
            "(10, 300, 0.01, 3)\n",
            "HR=0.0526, MRR=0.0194, COV=0.00149\n",
            "PureSVD training time: 0.037s\n"
          ]
        },
        {
          "output_type": "stream",
          "name": "stderr",
          "text": [
            "100%|██████████| 69311/69311 [00:29<00:00, 2363.33it/s]\n",
            "100%|██████████| 171/171 [00:10<00:00, 15.95it/s]\n"
          ]
        },
        {
          "output_type": "stream",
          "name": "stdout",
          "text": [
            "(10, 300, 0.01, 5)\n",
            "HR=0.0526, MRR=0.0137, COV=0.0027\n",
            "PureSVD training time: 0.041s\n"
          ]
        },
        {
          "output_type": "stream",
          "name": "stderr",
          "text": [
            "100%|██████████| 69311/69311 [00:31<00:00, 2227.40it/s]\n",
            "100%|██████████| 171/171 [00:11<00:00, 14.59it/s]\n"
          ]
        },
        {
          "output_type": "stream",
          "name": "stdout",
          "text": [
            "(10, 300, 0.01, 7)\n",
            "HR=0.076, MRR=0.0275, COV=0.00378\n",
            "PureSVD training time: 0.043s\n"
          ]
        },
        {
          "output_type": "stream",
          "name": "stderr",
          "text": [
            "100%|██████████| 69311/69311 [00:53<00:00, 1289.20it/s]\n",
            "100%|██████████| 171/171 [00:18<00:00,  9.41it/s]\n"
          ]
        },
        {
          "output_type": "stream",
          "name": "stdout",
          "text": [
            "(10, 400, 0.01, 3)\n",
            "HR=0.076, MRR=0.0238, COV=0.00173\n",
            "PureSVD training time: 0.081s\n"
          ]
        },
        {
          "output_type": "stream",
          "name": "stderr",
          "text": [
            "100%|██████████| 69311/69311 [00:36<00:00, 1874.07it/s]\n",
            "100%|██████████| 171/171 [00:14<00:00, 12.02it/s]\n"
          ]
        },
        {
          "output_type": "stream",
          "name": "stdout",
          "text": [
            "(10, 400, 0.01, 5)\n",
            "HR=0.0643, MRR=0.0193, COV=0.0029\n",
            "PureSVD training time: 0.046s\n"
          ]
        },
        {
          "output_type": "stream",
          "name": "stderr",
          "text": [
            "100%|██████████| 69311/69311 [00:30<00:00, 2308.88it/s]\n",
            "100%|██████████| 171/171 [00:16<00:00, 10.09it/s]\n"
          ]
        },
        {
          "output_type": "stream",
          "name": "stdout",
          "text": [
            "(10, 400, 0.01, 7)\n",
            "HR=0.0643, MRR=0.021, COV=0.0042\n",
            "PureSVD training time: 0.116s\n"
          ]
        },
        {
          "output_type": "stream",
          "name": "stderr",
          "text": [
            "100%|██████████| 69311/69311 [00:30<00:00, 2289.20it/s]\n",
            "100%|██████████| 171/171 [00:05<00:00, 30.73it/s]\n"
          ]
        },
        {
          "output_type": "stream",
          "name": "stdout",
          "text": [
            "(50, 200, 0.01, 3)\n",
            "HR=0.0585, MRR=0.0187, COV=0.00101\n",
            "PureSVD training time: 0.117s\n"
          ]
        },
        {
          "output_type": "stream",
          "name": "stderr",
          "text": [
            "100%|██████████| 69311/69311 [00:29<00:00, 2327.24it/s]\n",
            "100%|██████████| 171/171 [00:07<00:00, 21.68it/s]\n"
          ]
        },
        {
          "output_type": "stream",
          "name": "stdout",
          "text": [
            "(50, 200, 0.01, 5)\n",
            "HR=0.076, MRR=0.0183, COV=0.00309\n",
            "PureSVD training time: 0.123s\n"
          ]
        },
        {
          "output_type": "stream",
          "name": "stderr",
          "text": [
            "100%|██████████| 69311/69311 [00:30<00:00, 2289.01it/s]\n",
            "100%|██████████| 171/171 [00:08<00:00, 19.72it/s]\n"
          ]
        },
        {
          "output_type": "stream",
          "name": "stdout",
          "text": [
            "(50, 200, 0.01, 7)\n",
            "HR=0.0643, MRR=0.0193, COV=0.00349\n",
            "PureSVD training time: 0.113s\n"
          ]
        },
        {
          "output_type": "stream",
          "name": "stderr",
          "text": [
            " 58%|█████▊    | 40358/69311 [00:16<00:12, 2374.95it/s]\n"
          ]
        },
        {
          "output_type": "error",
          "ename": "KeyboardInterrupt",
          "evalue": "ignored",
          "traceback": [
            "\u001b[0;31m---------------------------------------------------------------------------\u001b[0m",
            "\u001b[0;31mKeyboardInterrupt\u001b[0m                         Traceback (most recent call last)",
            "\u001b[0;32m<ipython-input-18-ae1c704ec0b2>\u001b[0m in \u001b[0;36m<module>\u001b[0;34m()\u001b[0m\n\u001b[1;32m      8\u001b[0m   \u001b[0muser_factors\u001b[0m \u001b[0;34m=\u001b[0m \u001b[0msvd\u001b[0m\u001b[0;34m.\u001b[0m\u001b[0mfactors\u001b[0m\u001b[0;34m[\u001b[0m\u001b[0;34m'chat_id'\u001b[0m\u001b[0;34m]\u001b[0m\u001b[0;34m\u001b[0m\u001b[0;34m\u001b[0m\u001b[0m\n\u001b[1;32m      9\u001b[0m \u001b[0;34m\u001b[0m\u001b[0m\n\u001b[0;32m---> 10\u001b[0;31m   \u001b[0mX_train\u001b[0m\u001b[0;34m,\u001b[0m \u001b[0my_train\u001b[0m \u001b[0;34m=\u001b[0m \u001b[0mget_vectorized_data\u001b[0m\u001b[0;34m(\u001b[0m\u001b[0mtrain\u001b[0m\u001b[0;34m,\u001b[0m \u001b[0muser_factors\u001b[0m\u001b[0;34m,\u001b[0m \u001b[0mitem_factors\u001b[0m\u001b[0;34m)\u001b[0m\u001b[0;34m\u001b[0m\u001b[0;34m\u001b[0m\u001b[0m\n\u001b[0m\u001b[1;32m     11\u001b[0m \u001b[0;34m\u001b[0m\u001b[0m\n\u001b[1;32m     12\u001b[0m   \u001b[0mlight\u001b[0m \u001b[0;34m=\u001b[0m \u001b[0mLGBMClassifier\u001b[0m\u001b[0;34m(\u001b[0m\u001b[0mn_estimators\u001b[0m\u001b[0;34m=\u001b[0m\u001b[0mparam\u001b[0m\u001b[0;34m[\u001b[0m\u001b[0;36m1\u001b[0m\u001b[0;34m]\u001b[0m\u001b[0;34m,\u001b[0m \u001b[0mlearning_rate\u001b[0m\u001b[0;34m=\u001b[0m\u001b[0mparam\u001b[0m\u001b[0;34m[\u001b[0m\u001b[0;36m2\u001b[0m\u001b[0;34m]\u001b[0m\u001b[0;34m,\u001b[0m \u001b[0mmax_depth\u001b[0m\u001b[0;34m=\u001b[0m\u001b[0mparam\u001b[0m\u001b[0;34m[\u001b[0m\u001b[0;36m3\u001b[0m\u001b[0;34m]\u001b[0m\u001b[0;34m)\u001b[0m\u001b[0;34m\u001b[0m\u001b[0;34m\u001b[0m\u001b[0m\n",
            "\u001b[0;32m<ipython-input-16-7d619b70a33f>\u001b[0m in \u001b[0;36mget_vectorized_data\u001b[0;34m(df, user_factors, item_factors)\u001b[0m\n\u001b[1;32m      3\u001b[0m   \u001b[0my_true\u001b[0m \u001b[0;34m=\u001b[0m \u001b[0;34m[\u001b[0m\u001b[0;34m]\u001b[0m\u001b[0;34m\u001b[0m\u001b[0;34m\u001b[0m\u001b[0m\n\u001b[1;32m      4\u001b[0m   \u001b[0;32mfor\u001b[0m \u001b[0mi\u001b[0m \u001b[0;32min\u001b[0m \u001b[0mtqdm\u001b[0m\u001b[0;34m(\u001b[0m\u001b[0mrange\u001b[0m\u001b[0;34m(\u001b[0m\u001b[0mdf\u001b[0m\u001b[0;34m.\u001b[0m\u001b[0mshape\u001b[0m\u001b[0;34m[\u001b[0m\u001b[0;36m0\u001b[0m\u001b[0;34m]\u001b[0m\u001b[0;34m)\u001b[0m\u001b[0;34m)\u001b[0m\u001b[0;34m:\u001b[0m\u001b[0;34m\u001b[0m\u001b[0;34m\u001b[0m\u001b[0m\n\u001b[0;32m----> 5\u001b[0;31m     \u001b[0muser_features\u001b[0m \u001b[0;34m=\u001b[0m \u001b[0muser_factors\u001b[0m\u001b[0;34m[\u001b[0m\u001b[0mint\u001b[0m\u001b[0;34m(\u001b[0m\u001b[0mdf\u001b[0m\u001b[0;34m.\u001b[0m\u001b[0miloc\u001b[0m\u001b[0;34m[\u001b[0m\u001b[0mi\u001b[0m\u001b[0;34m]\u001b[0m\u001b[0;34m[\u001b[0m\u001b[0;34m'chat_id'\u001b[0m\u001b[0;34m]\u001b[0m\u001b[0;34m)\u001b[0m\u001b[0;34m,\u001b[0m \u001b[0;34m:\u001b[0m\u001b[0;34m]\u001b[0m\u001b[0;34m\u001b[0m\u001b[0;34m\u001b[0m\u001b[0m\n\u001b[0m\u001b[1;32m      6\u001b[0m     \u001b[0mitem_features\u001b[0m \u001b[0;34m=\u001b[0m \u001b[0mitem_factors\u001b[0m\u001b[0;34m[\u001b[0m\u001b[0mint\u001b[0m\u001b[0;34m(\u001b[0m\u001b[0mdf\u001b[0m\u001b[0;34m.\u001b[0m\u001b[0miloc\u001b[0m\u001b[0;34m[\u001b[0m\u001b[0mi\u001b[0m\u001b[0;34m]\u001b[0m\u001b[0;34m[\u001b[0m\u001b[0;34m'meme_id'\u001b[0m\u001b[0;34m]\u001b[0m\u001b[0;34m)\u001b[0m\u001b[0;34m,\u001b[0m \u001b[0;34m:\u001b[0m\u001b[0;34m]\u001b[0m\u001b[0;34m\u001b[0m\u001b[0;34m\u001b[0m\u001b[0m\n\u001b[1;32m      7\u001b[0m     \u001b[0mfeatures\u001b[0m \u001b[0;34m=\u001b[0m \u001b[0mnp\u001b[0m\u001b[0;34m.\u001b[0m\u001b[0mconcatenate\u001b[0m\u001b[0;34m(\u001b[0m\u001b[0;34m(\u001b[0m\u001b[0muser_features\u001b[0m\u001b[0;34m,\u001b[0m\u001b[0mitem_features\u001b[0m\u001b[0;34m)\u001b[0m\u001b[0;34m,\u001b[0m \u001b[0maxis\u001b[0m\u001b[0;34m=\u001b[0m\u001b[0;36m0\u001b[0m\u001b[0;34m)\u001b[0m\u001b[0;34m\u001b[0m\u001b[0;34m\u001b[0m\u001b[0m\n",
            "\u001b[0;32m/usr/local/lib/python3.7/dist-packages/pandas/core/indexing.py\u001b[0m in \u001b[0;36m__getitem__\u001b[0;34m(self, key)\u001b[0m\n\u001b[1;32m    929\u001b[0m \u001b[0;34m\u001b[0m\u001b[0m\n\u001b[1;32m    930\u001b[0m             \u001b[0mmaybe_callable\u001b[0m \u001b[0;34m=\u001b[0m \u001b[0mcom\u001b[0m\u001b[0;34m.\u001b[0m\u001b[0mapply_if_callable\u001b[0m\u001b[0;34m(\u001b[0m\u001b[0mkey\u001b[0m\u001b[0;34m,\u001b[0m \u001b[0mself\u001b[0m\u001b[0;34m.\u001b[0m\u001b[0mobj\u001b[0m\u001b[0;34m)\u001b[0m\u001b[0;34m\u001b[0m\u001b[0;34m\u001b[0m\u001b[0m\n\u001b[0;32m--> 931\u001b[0;31m             \u001b[0;32mreturn\u001b[0m \u001b[0mself\u001b[0m\u001b[0;34m.\u001b[0m\u001b[0m_getitem_axis\u001b[0m\u001b[0;34m(\u001b[0m\u001b[0mmaybe_callable\u001b[0m\u001b[0;34m,\u001b[0m \u001b[0maxis\u001b[0m\u001b[0;34m=\u001b[0m\u001b[0maxis\u001b[0m\u001b[0;34m)\u001b[0m\u001b[0;34m\u001b[0m\u001b[0;34m\u001b[0m\u001b[0m\n\u001b[0m\u001b[1;32m    932\u001b[0m \u001b[0;34m\u001b[0m\u001b[0m\n\u001b[1;32m    933\u001b[0m     \u001b[0;32mdef\u001b[0m \u001b[0m_is_scalar_access\u001b[0m\u001b[0;34m(\u001b[0m\u001b[0mself\u001b[0m\u001b[0;34m,\u001b[0m \u001b[0mkey\u001b[0m\u001b[0;34m:\u001b[0m \u001b[0mtuple\u001b[0m\u001b[0;34m)\u001b[0m\u001b[0;34m:\u001b[0m\u001b[0;34m\u001b[0m\u001b[0;34m\u001b[0m\u001b[0m\n",
            "\u001b[0;32m/usr/local/lib/python3.7/dist-packages/pandas/core/indexing.py\u001b[0m in \u001b[0;36m_getitem_axis\u001b[0;34m(self, key, axis)\u001b[0m\n\u001b[1;32m   1549\u001b[0m             \u001b[0mkey\u001b[0m \u001b[0;34m=\u001b[0m \u001b[0mnp\u001b[0m\u001b[0;34m.\u001b[0m\u001b[0masarray\u001b[0m\u001b[0;34m(\u001b[0m\u001b[0mkey\u001b[0m\u001b[0;34m)\u001b[0m\u001b[0;34m\u001b[0m\u001b[0;34m\u001b[0m\u001b[0m\n\u001b[1;32m   1550\u001b[0m \u001b[0;34m\u001b[0m\u001b[0m\n\u001b[0;32m-> 1551\u001b[0;31m         \u001b[0;32mif\u001b[0m \u001b[0mcom\u001b[0m\u001b[0;34m.\u001b[0m\u001b[0mis_bool_indexer\u001b[0m\u001b[0;34m(\u001b[0m\u001b[0mkey\u001b[0m\u001b[0;34m)\u001b[0m\u001b[0;34m:\u001b[0m\u001b[0;34m\u001b[0m\u001b[0;34m\u001b[0m\u001b[0m\n\u001b[0m\u001b[1;32m   1552\u001b[0m             \u001b[0mself\u001b[0m\u001b[0;34m.\u001b[0m\u001b[0m_validate_key\u001b[0m\u001b[0;34m(\u001b[0m\u001b[0mkey\u001b[0m\u001b[0;34m,\u001b[0m \u001b[0maxis\u001b[0m\u001b[0;34m)\u001b[0m\u001b[0;34m\u001b[0m\u001b[0;34m\u001b[0m\u001b[0m\n\u001b[1;32m   1553\u001b[0m             \u001b[0;32mreturn\u001b[0m \u001b[0mself\u001b[0m\u001b[0;34m.\u001b[0m\u001b[0m_getbool_axis\u001b[0m\u001b[0;34m(\u001b[0m\u001b[0mkey\u001b[0m\u001b[0;34m,\u001b[0m \u001b[0maxis\u001b[0m\u001b[0;34m=\u001b[0m\u001b[0maxis\u001b[0m\u001b[0;34m)\u001b[0m\u001b[0;34m\u001b[0m\u001b[0;34m\u001b[0m\u001b[0m\n",
            "\u001b[0;32m/usr/local/lib/python3.7/dist-packages/pandas/core/common.py\u001b[0m in \u001b[0;36mis_bool_indexer\u001b[0;34m(key)\u001b[0m\n\u001b[1;32m    126\u001b[0m         \u001b[0;32mand\u001b[0m \u001b[0mconvert\u001b[0m \u001b[0mto\u001b[0m \u001b[0man\u001b[0m \u001b[0mndarray\u001b[0m\u001b[0;34m.\u001b[0m\u001b[0;34m\u001b[0m\u001b[0;34m\u001b[0m\u001b[0m\n\u001b[1;32m    127\u001b[0m     \"\"\"\n\u001b[0;32m--> 128\u001b[0;31m     if isinstance(key, (ABCSeries, np.ndarray, ABCIndex)) or (\n\u001b[0m\u001b[1;32m    129\u001b[0m         \u001b[0mis_array_like\u001b[0m\u001b[0;34m(\u001b[0m\u001b[0mkey\u001b[0m\u001b[0;34m)\u001b[0m \u001b[0;32mand\u001b[0m \u001b[0mis_extension_array_dtype\u001b[0m\u001b[0;34m(\u001b[0m\u001b[0mkey\u001b[0m\u001b[0;34m.\u001b[0m\u001b[0mdtype\u001b[0m\u001b[0;34m)\u001b[0m\u001b[0;34m\u001b[0m\u001b[0;34m\u001b[0m\u001b[0m\n\u001b[1;32m    130\u001b[0m     ):\n",
            "\u001b[0;32m/usr/local/lib/python3.7/dist-packages/pandas/core/dtypes/generic.py\u001b[0m in \u001b[0;36m_check\u001b[0;34m(cls, inst)\u001b[0m\n\u001b[1;32m     43\u001b[0m     \u001b[0;34m@\u001b[0m\u001b[0mclassmethod\u001b[0m  \u001b[0;31m# type: ignore[misc]\u001b[0m\u001b[0;34m\u001b[0m\u001b[0;34m\u001b[0m\u001b[0m\n\u001b[1;32m     44\u001b[0m     \u001b[0;32mdef\u001b[0m \u001b[0m_check\u001b[0m\u001b[0;34m(\u001b[0m\u001b[0mcls\u001b[0m\u001b[0;34m,\u001b[0m \u001b[0minst\u001b[0m\u001b[0;34m)\u001b[0m \u001b[0;34m->\u001b[0m \u001b[0mbool\u001b[0m\u001b[0;34m:\u001b[0m\u001b[0;34m\u001b[0m\u001b[0;34m\u001b[0m\u001b[0m\n\u001b[0;32m---> 45\u001b[0;31m         \u001b[0;32mreturn\u001b[0m \u001b[0mgetattr\u001b[0m\u001b[0;34m(\u001b[0m\u001b[0minst\u001b[0m\u001b[0;34m,\u001b[0m \u001b[0mattr\u001b[0m\u001b[0;34m,\u001b[0m \u001b[0;34m\"_typ\"\u001b[0m\u001b[0;34m)\u001b[0m \u001b[0;32min\u001b[0m \u001b[0mcomp\u001b[0m\u001b[0;34m\u001b[0m\u001b[0;34m\u001b[0m\u001b[0m\n\u001b[0m\u001b[1;32m     46\u001b[0m \u001b[0;34m\u001b[0m\u001b[0m\n\u001b[1;32m     47\u001b[0m     \u001b[0mdct\u001b[0m \u001b[0;34m=\u001b[0m \u001b[0;34m{\u001b[0m\u001b[0;34m\"__instancecheck__\"\u001b[0m\u001b[0;34m:\u001b[0m \u001b[0m_check\u001b[0m\u001b[0;34m,\u001b[0m \u001b[0;34m\"__subclasscheck__\"\u001b[0m\u001b[0;34m:\u001b[0m \u001b[0m_check\u001b[0m\u001b[0;34m}\u001b[0m\u001b[0;34m\u001b[0m\u001b[0;34m\u001b[0m\u001b[0m\n",
            "\u001b[0;31mKeyboardInterrupt\u001b[0m: "
          ]
        }
      ]
    },
    {
      "cell_type": "code",
      "source": [
        "data_description = dict(\n",
        "    users = train_val['chat_id'].name,\n",
        "    items = train_val['meme_id'].name,\n",
        "    feedback = 'reaction',\n",
        "    n_users = len(train_val['chat_id']),\n",
        "    n_items = len(train_val['meme_id']),\n",
        "    test_users = holdout_test[train_val['chat_id'].name].values\n",
        ")\n",
        "\n",
        "testset = data_description['test_users']\n",
        "seen_data = train_val[train_val.chat_id.isin(testset)]"
      ],
      "metadata": {
        "id": "8QtgfiW1WNYF"
      },
      "execution_count": 31,
      "outputs": []
    },
    {
      "cell_type": "code",
      "source": [
        "best_params = {'rank' : 10,\n",
        "               'n_estimators' : 500,\n",
        "               'learning_rate' : 0.01,\n",
        "               'max_depth' : 3}\n",
        "\n",
        "svd = SVDModel(data_model_1)\n",
        "svd.rank = best_params['rank']\n",
        "svd.build()\n",
        "\n",
        "item_factors = svd.factors['meme_id']\n",
        "user_factors = svd.factors['chat_id']\n",
        "\n",
        "X_train, y_train = get_vectorized_data(train_val, user_factors, item_factors)\n",
        "\n",
        "light = LGBMClassifier(n_estimators=best_params['n_estimators'], \n",
        "                       learning_rate=best_params['learning_rate'],\n",
        "                       max_depth=best_params['max_depth'])\n",
        "light.fit(X_train, y_train)\n",
        "\n",
        "scores = boosting_scoring(light, holdout_test, user_factors, item_factors)\n",
        "\n",
        "downvote_seen_items(np.array(scores), seen_data, data_description)\n",
        "recs = topn_recommendations(np.array(scores), topn=10)\n",
        "\n",
        "hr, mrr, cov = model_evaluate(recs, holdout_test, data_description,  topn=10)\n",
        "print('--------test--------')\n",
        "print('HR={:.3}, MRR={:.3}, COV={:.3}'.format(*model_evaluate(recs, holdout_test, data_description,  topn=10)))"
      ],
      "metadata": {
        "colab": {
          "base_uri": "https://localhost:8080/"
        },
        "id": "TKkY3ww8JQIW",
        "outputId": "2d5ea783-bce3-4c51-c46f-c1d32a17138a"
      },
      "execution_count": 36,
      "outputs": [
        {
          "output_type": "stream",
          "name": "stdout",
          "text": [
            "PureSVD training time: 0.044s\n"
          ]
        },
        {
          "output_type": "stream",
          "name": "stderr",
          "text": [
            "100%|██████████| 69486/69486 [00:31<00:00, 2216.32it/s]\n",
            "100%|██████████| 169/169 [00:12<00:00, 13.13it/s]"
          ]
        },
        {
          "output_type": "stream",
          "name": "stdout",
          "text": [
            "--------test--------\n",
            "HR=0.0936, MRR=0.0342, COV=0.0017\n"
          ]
        },
        {
          "output_type": "stream",
          "name": "stderr",
          "text": [
            "\n"
          ]
        }
      ]
    },
    {
      "cell_type": "markdown",
      "source": [
        "## TF"
      ],
      "metadata": {
        "id": "lklAljUdxWjr"
      }
    },
    {
      "cell_type": "code",
      "source": [
        ""
      ],
      "metadata": {
        "id": "QG94bp7UUPJs"
      },
      "execution_count": null,
      "outputs": []
    },
    {
      "cell_type": "code",
      "source": [
        "from polara.lib.tensor import hooi"
      ],
      "metadata": {
        "id": "39U1HmDoQ1Sy"
      },
      "execution_count": 77,
      "outputs": []
    },
    {
      "cell_type": "code",
      "source": [
        "def tf_model_build(config, data, data_description):\n",
        "    userid = data_description[\"users\"]\n",
        "    itemid = data_description[\"items\"]\n",
        "    feedback = data_description[\"feedback\"]\n",
        "    train_users = data_description['train_users']\n",
        "\n",
        "    idx = data[data.chat_id.isin(train_users)][[userid, itemid, feedback]].values\n",
        "    idx[:, -1] = idx[:, -1] - data_description['min_rating'] # works only for integer ratings!\n",
        "    val = np.ones(idx.shape[0], dtype='f8')\n",
        "    \n",
        "    n_users = data_description[\"n_users\"]\n",
        "    n_items = data_description[\"n_items\"]\n",
        "    n_ratings = data_description[\"n_ratings\"]\n",
        "    shape = (n_users, n_items, n_ratings)\n",
        "    \n",
        "    core_shape = config['mlrank']\n",
        "    num_iters = config[\"num_iters\"]\n",
        "    \n",
        "    u0, u1, u2, g = hooi(\n",
        "        idx, val, shape, core_shape,\n",
        "        return_core=False, num_iters=num_iters,\n",
        "        parallel_ttm=False, growth_tol=0.01,\n",
        "    )\n",
        "    return u0, u1, u2\n",
        "\n",
        "\n",
        "def tf_scoring(params, data, data_description):\n",
        "    user_factors, item_factors, feedback_factors = params\n",
        "    item_factors = item_factors[:, 1:]\n",
        "    userid = data_description[\"users\"]\n",
        "    itemid = data_description[\"items\"]\n",
        "    feedback = data_description[\"feedback\"]\n",
        "    test_users = data_description['test_users']\n",
        "\n",
        "    data = data[data.userid.isin(test_users)].sort_values(userid)\n",
        "    useridx = data[userid].values\n",
        "    itemidx = data[itemid].values\n",
        "    ratings = data[feedback].values\n",
        "    ratings = ratings - data_description['min_rating'] # works only for integer ratings!\n",
        "    \n",
        "    tensor_outer = tensor_outer_at('cpu')\n",
        "    # use the fact that test data is sorted by users for reduction:\n",
        "    scores = tensor_outer(\n",
        "        1.0,\n",
        "        item_factors,\n",
        "        feedback_factors,\n",
        "        itemidx,\n",
        "        ratings\n",
        "    )\n",
        "    scores = np.add.reduceat(scores, np.r_[0, np.where(np.diff(useridx))[0]+1])\n",
        "    scores = np.tensordot(\n",
        "        scores,\n",
        "        feedback_factors[-2:, :].sum(axis=0),\n",
        "        axes=(2, 0)\n",
        "    ).dot(item_factors.T)\n",
        "    return scores"
      ],
      "metadata": {
        "id": "dd6sHePvK6_K"
      },
      "execution_count": 78,
      "outputs": []
    },
    {
      "cell_type": "code",
      "source": [
        "data_description = dict(\n",
        "    users = train['chat_id'].name,\n",
        "    items = train['meme_id'].name,\n",
        "    feedback = 'reaction',\n",
        "    n_users = len(train['chat_id']),\n",
        "    n_items = len(train['meme_id']),\n",
        "    n_ratings = train.reaction.nunique(),\n",
        "    test_users = holdout_val[train['chat_id'].name].values,\n",
        "    train_users = np.unique(train.chat_id),\n",
        "    min_rating = -1\n",
        ")\n",
        "\n",
        "testset = data_description['test_users']\n",
        "seen_data = train[train.chat_id.isin(testset)]"
      ],
      "metadata": {
        "id": "renf1Ar3QByk"
      },
      "execution_count": 79,
      "outputs": []
    },
    {
      "cell_type": "code",
      "source": [
        "config = {\n",
        "    'mlrank': (30, 200, 5),\n",
        "    \"num_iters\": 5,\n",
        "}"
      ],
      "metadata": {
        "id": "mKvl0Zy5Ptfy"
      },
      "execution_count": 80,
      "outputs": []
    },
    {
      "cell_type": "code",
      "source": [
        "tf_params = tf_model_build(config, train, data_description)\n",
        "tf_scores = tf_scoring(tf_params, holdout_val, data_description)"
      ],
      "metadata": {
        "id": "zE5k59qZPxr5"
      },
      "execution_count": null,
      "outputs": []
    },
    {
      "cell_type": "code",
      "source": [
        ""
      ],
      "metadata": {
        "id": "MR-Gh68K9WHJ"
      },
      "execution_count": null,
      "outputs": []
    }
  ],
  "metadata": {
    "colab": {
      "name": "SVD+LightGBM.ipynb",
      "provenance": [],
      "collapsed_sections": []
    },
    "kernelspec": {
      "display_name": "Python 3 (ipykernel)",
      "language": "python",
      "name": "python3"
    },
    "language_info": {
      "codemirror_mode": {
        "name": "ipython",
        "version": 3
      },
      "file_extension": ".py",
      "mimetype": "text/x-python",
      "name": "python",
      "nbconvert_exporter": "python",
      "pygments_lexer": "ipython3",
      "version": "3.7.4"
    }
  },
  "nbformat": 4,
  "nbformat_minor": 0
}