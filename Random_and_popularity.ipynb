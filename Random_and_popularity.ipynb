{
  "cells": [
    {
      "cell_type": "code",
      "execution_count": 1,
      "metadata": {
        "colab": {
          "base_uri": "https://localhost:8080/"
        },
        "id": "sMbOArlaTzGu",
        "outputId": "126ee562-5515-443f-baa7-902a0a3ddf79"
      },
      "outputs": [
        {
          "output_type": "stream",
          "name": "stdout",
          "text": [
            "Collecting polara\n",
            "  Cloning https://github.com/evfro/polara.git (to revision develop) to /tmp/pip-install-42drtd9b/polara_eca36727f87c421694672ba24eca8a26\n",
            "  Running command git clone -q https://github.com/evfro/polara.git /tmp/pip-install-42drtd9b/polara_eca36727f87c421694672ba24eca8a26\n",
            "  Running command git checkout -b develop --track origin/develop\n",
            "  Switched to a new branch 'develop'\n",
            "  Branch 'develop' set up to track remote branch 'develop' from 'origin'.\n",
            "Building wheels for collected packages: polara\n",
            "  Building wheel for polara (setup.py) ... \u001b[?25l\u001b[?25hdone\n",
            "  Created wheel for polara: filename=polara-0.7.2.dev0-py3-none-any.whl size=87177 sha256=eba73e2855e10b9c2bae3238d51c304f40b8d059f67d38e6c8a8e9c8ae6e2905\n",
            "  Stored in directory: /tmp/pip-ephem-wheel-cache-697ihby7/wheels/19/88/81/920c4189a6b0b92f19b02f18fcb44ded22ae852f7b09ab2e28\n",
            "Successfully built polara\n",
            "Installing collected packages: polara\n",
            "Successfully installed polara-0.7.2.dev0\n"
          ]
        }
      ],
      "source": [
        "! pip install --no-cache-dir --upgrade git+https://github.com/evfro/polara.git@develop#egg=polara"
      ]
    },
    {
      "cell_type": "code",
      "execution_count": 54,
      "metadata": {
        "id": "AbAXigwITdNq"
      },
      "outputs": [],
      "source": [
        "from polara import SVDModel\n",
        "from polara.recommender.data import RecommenderData\n",
        "import numpy as np\n",
        "import pandas as pd\n",
        "from tqdm import tqdm\n",
        "from matplotlib import pyplot as plt\n",
        "\n",
        "from sklearn.metrics import accuracy_score, classification_report, roc_auc_score, roc_curve\n",
        "from lightgbm import LGBMClassifier,plot_importance\n",
        "from itertools import product\n",
        "\n",
        "from evaluation import topn_recommendations, model_evaluate, downvote_seen_items"
      ]
    },
    {
      "cell_type": "markdown",
      "source": [
        "## Data preprocessing and analysis "
      ],
      "metadata": {
        "id": "Ub_FTm6xxerj"
      }
    },
    {
      "cell_type": "code",
      "source": [
        "memes = pd.read_csv('memes.csv', names=['meme_id', 'file_id', 'author_id', 'timestamp', \n",
        "                                        'filetype', 'unique_id', 'caption' ], header=None)\n",
        "users_memes = pd.read_csv('users_memes.csv', names=['id__', 'chat_id', 'meme_id', 'reaction',\n",
        "                                        'timestamp', 'message_id', 'timestamp_reaction'], header=None)\n",
        "users = pd.read_csv('users.csv', names=['chat_id', 'name', '?', 'username',\n",
        "                                        'date_add', 'is_fresh', '??'], header=None)"
      ],
      "metadata": {
        "id": "90Ymc8DfxVHS"
      },
      "execution_count": 3,
      "outputs": []
    },
    {
      "cell_type": "code",
      "source": [
        "data = users_memes[['chat_id', 'meme_id', 'reaction', 'timestamp']].copy()\n",
        "data.sort_values(by='timestamp', inplace=True) # sort data by time\n",
        "\n",
        "REACTION2VALUE = {1001: -1, 107: -1, 106: -1, 105: -1, 104: -1,\n",
        "                  103: 1, 102: 1, 101: 1, 100: 1, 1000: 1, 1002 : None} # 1002 means empty\n",
        "\n",
        "data.reaction = users_memes.reaction.map(REACTION2VALUE)\n",
        "data = data.dropna(axis='index', how='any', subset=['reaction'])\n",
        "\n",
        "data.head()"
      ],
      "metadata": {
        "colab": {
          "base_uri": "https://localhost:8080/",
          "height": 206
        },
        "id": "ddVIPznKG95i",
        "outputId": "ba78c3d0-4f5a-4164-aa68-1a2795d88740"
      },
      "execution_count": 8,
      "outputs": [
        {
          "output_type": "execute_result",
          "data": {
            "text/plain": [
              "       chat_id  meme_id  reaction                   timestamp\n",
              "882  354637850      398      -1.0  2021-12-08 20:35:19.000000\n",
              "883  354637850      222      -1.0  2021-12-08 20:35:35.000000\n",
              "884  481807223      387       1.0  2021-12-08 20:37:15.000000\n",
              "885  354886383       61      -1.0  2021-12-08 20:39:05.000000\n",
              "886  354886383      182      -1.0  2021-12-08 20:39:11.000000"
            ],
            "text/html": [
              "\n",
              "  <div id=\"df-1a02ab07-f481-45c4-a891-c3b2ff58b82a\">\n",
              "    <div class=\"colab-df-container\">\n",
              "      <div>\n",
              "<style scoped>\n",
              "    .dataframe tbody tr th:only-of-type {\n",
              "        vertical-align: middle;\n",
              "    }\n",
              "\n",
              "    .dataframe tbody tr th {\n",
              "        vertical-align: top;\n",
              "    }\n",
              "\n",
              "    .dataframe thead th {\n",
              "        text-align: right;\n",
              "    }\n",
              "</style>\n",
              "<table border=\"1\" class=\"dataframe\">\n",
              "  <thead>\n",
              "    <tr style=\"text-align: right;\">\n",
              "      <th></th>\n",
              "      <th>chat_id</th>\n",
              "      <th>meme_id</th>\n",
              "      <th>reaction</th>\n",
              "      <th>timestamp</th>\n",
              "    </tr>\n",
              "  </thead>\n",
              "  <tbody>\n",
              "    <tr>\n",
              "      <th>882</th>\n",
              "      <td>354637850</td>\n",
              "      <td>398</td>\n",
              "      <td>-1.0</td>\n",
              "      <td>2021-12-08 20:35:19.000000</td>\n",
              "    </tr>\n",
              "    <tr>\n",
              "      <th>883</th>\n",
              "      <td>354637850</td>\n",
              "      <td>222</td>\n",
              "      <td>-1.0</td>\n",
              "      <td>2021-12-08 20:35:35.000000</td>\n",
              "    </tr>\n",
              "    <tr>\n",
              "      <th>884</th>\n",
              "      <td>481807223</td>\n",
              "      <td>387</td>\n",
              "      <td>1.0</td>\n",
              "      <td>2021-12-08 20:37:15.000000</td>\n",
              "    </tr>\n",
              "    <tr>\n",
              "      <th>885</th>\n",
              "      <td>354886383</td>\n",
              "      <td>61</td>\n",
              "      <td>-1.0</td>\n",
              "      <td>2021-12-08 20:39:05.000000</td>\n",
              "    </tr>\n",
              "    <tr>\n",
              "      <th>886</th>\n",
              "      <td>354886383</td>\n",
              "      <td>182</td>\n",
              "      <td>-1.0</td>\n",
              "      <td>2021-12-08 20:39:11.000000</td>\n",
              "    </tr>\n",
              "  </tbody>\n",
              "</table>\n",
              "</div>\n",
              "      <button class=\"colab-df-convert\" onclick=\"convertToInteractive('df-1a02ab07-f481-45c4-a891-c3b2ff58b82a')\"\n",
              "              title=\"Convert this dataframe to an interactive table.\"\n",
              "              style=\"display:none;\">\n",
              "        \n",
              "  <svg xmlns=\"http://www.w3.org/2000/svg\" height=\"24px\"viewBox=\"0 0 24 24\"\n",
              "       width=\"24px\">\n",
              "    <path d=\"M0 0h24v24H0V0z\" fill=\"none\"/>\n",
              "    <path d=\"M18.56 5.44l.94 2.06.94-2.06 2.06-.94-2.06-.94-.94-2.06-.94 2.06-2.06.94zm-11 1L8.5 8.5l.94-2.06 2.06-.94-2.06-.94L8.5 2.5l-.94 2.06-2.06.94zm10 10l.94 2.06.94-2.06 2.06-.94-2.06-.94-.94-2.06-.94 2.06-2.06.94z\"/><path d=\"M17.41 7.96l-1.37-1.37c-.4-.4-.92-.59-1.43-.59-.52 0-1.04.2-1.43.59L10.3 9.45l-7.72 7.72c-.78.78-.78 2.05 0 2.83L4 21.41c.39.39.9.59 1.41.59.51 0 1.02-.2 1.41-.59l7.78-7.78 2.81-2.81c.8-.78.8-2.07 0-2.86zM5.41 20L4 18.59l7.72-7.72 1.47 1.35L5.41 20z\"/>\n",
              "  </svg>\n",
              "      </button>\n",
              "      \n",
              "  <style>\n",
              "    .colab-df-container {\n",
              "      display:flex;\n",
              "      flex-wrap:wrap;\n",
              "      gap: 12px;\n",
              "    }\n",
              "\n",
              "    .colab-df-convert {\n",
              "      background-color: #E8F0FE;\n",
              "      border: none;\n",
              "      border-radius: 50%;\n",
              "      cursor: pointer;\n",
              "      display: none;\n",
              "      fill: #1967D2;\n",
              "      height: 32px;\n",
              "      padding: 0 0 0 0;\n",
              "      width: 32px;\n",
              "    }\n",
              "\n",
              "    .colab-df-convert:hover {\n",
              "      background-color: #E2EBFA;\n",
              "      box-shadow: 0px 1px 2px rgba(60, 64, 67, 0.3), 0px 1px 3px 1px rgba(60, 64, 67, 0.15);\n",
              "      fill: #174EA6;\n",
              "    }\n",
              "\n",
              "    [theme=dark] .colab-df-convert {\n",
              "      background-color: #3B4455;\n",
              "      fill: #D2E3FC;\n",
              "    }\n",
              "\n",
              "    [theme=dark] .colab-df-convert:hover {\n",
              "      background-color: #434B5C;\n",
              "      box-shadow: 0px 1px 3px 1px rgba(0, 0, 0, 0.15);\n",
              "      filter: drop-shadow(0px 1px 2px rgba(0, 0, 0, 0.3));\n",
              "      fill: #FFFFFF;\n",
              "    }\n",
              "  </style>\n",
              "\n",
              "      <script>\n",
              "        const buttonEl =\n",
              "          document.querySelector('#df-1a02ab07-f481-45c4-a891-c3b2ff58b82a button.colab-df-convert');\n",
              "        buttonEl.style.display =\n",
              "          google.colab.kernel.accessAllowed ? 'block' : 'none';\n",
              "\n",
              "        async function convertToInteractive(key) {\n",
              "          const element = document.querySelector('#df-1a02ab07-f481-45c4-a891-c3b2ff58b82a');\n",
              "          const dataTable =\n",
              "            await google.colab.kernel.invokeFunction('convertToInteractive',\n",
              "                                                     [key], {});\n",
              "          if (!dataTable) return;\n",
              "\n",
              "          const docLinkHtml = 'Like what you see? Visit the ' +\n",
              "            '<a target=\"_blank\" href=https://colab.research.google.com/notebooks/data_table.ipynb>data table notebook</a>'\n",
              "            + ' to learn more about interactive tables.';\n",
              "          element.innerHTML = '';\n",
              "          dataTable['output_type'] = 'display_data';\n",
              "          await google.colab.output.renderOutput(dataTable, element);\n",
              "          const docLink = document.createElement('div');\n",
              "          docLink.innerHTML = docLinkHtml;\n",
              "          element.appendChild(docLink);\n",
              "        }\n",
              "      </script>\n",
              "    </div>\n",
              "  </div>\n",
              "  "
            ]
          },
          "metadata": {},
          "execution_count": 8
        }
      ]
    },
    {
      "cell_type": "code",
      "source": [
        "train_data = data.copy()\n",
        "train_data.drop_duplicates(subset=['chat_id', 'meme_id'], inplace=True)"
      ],
      "metadata": {
        "id": "6O3XbYJdXwDn"
      },
      "execution_count": 33,
      "outputs": []
    },
    {
      "cell_type": "code",
      "source": [
        "meme_sorted = train_data.meme_id.value_counts().values\n",
        "x = [i for i in range(len(meme_sorted))]\n",
        "plt.bar(x, height=meme_sorted, width=50)"
      ],
      "metadata": {
        "colab": {
          "base_uri": "https://localhost:8080/",
          "height": 283
        },
        "id": "LUcGA5JYEuAe",
        "outputId": "6d6e836b-8ddd-4417-a730-c2cb2f7f8593"
      },
      "execution_count": 34,
      "outputs": [
        {
          "output_type": "execute_result",
          "data": {
            "text/plain": [
              "<BarContainer object of 6240 artists>"
            ]
          },
          "metadata": {},
          "execution_count": 34
        },
        {
          "output_type": "display_data",
          "data": {
            "text/plain": [
              "<Figure size 432x288 with 1 Axes>"
            ],
            "image/png": "[encoded data removed]"
          },
          "metadata": {
            "needs_background": "light"
          }
        }
      ]
    },
    {
      "cell_type": "code",
      "source": [
        "# let's leave only those users that have at least 10 reactions on memes\n",
        "n_reactions = 10\n",
        "train_data = train_data.loc[\n",
        "    train_data\n",
        "    .groupby('chat_id')['chat_id']\n",
        "    .transform('count') >= n_reactions\n",
        "]"
      ],
      "metadata": {
        "colab": {
          "base_uri": "https://localhost:8080/"
        },
        "id": "Mu9-N5VlVn-p",
        "outputId": "820fac60-8572-451a-d3e4-3c48e8dfb470"
      },
      "execution_count": 36,
      "outputs": [
        {
          "output_type": "stream",
          "name": "stdout",
          "text": [
            "num of unique users:  1060\n",
            "num of unique memes:  6240\n",
            "num of users that have at least 10 reactions:  873\n"
          ]
        }
      ]
    },
    {
      "cell_type": "code",
      "source": [
        "data_model_1 = RecommenderData(train_data, 'chat_id', 'meme_id', 'reaction')\n",
        "data_model_1.warm_start = False\n",
        "data_model_1.holdout_size = 1\n",
        "data_model_1.test_ratio = 0.2\n",
        "\n",
        "train_val = data_model_1.training\n",
        "holdout_test = data_model_1.test[1] #holdout\n",
        "data_indexing_tvt = data_model_1.index\n",
        "\n",
        "\n",
        "data_model_2 = RecommenderData(train_val, 'chat_id', 'meme_id', 'reaction')\n",
        "data_model_2.warm_start = False\n",
        "data_model_2.holdout_size = 1\n",
        "data_model_2.test_ratio = 0.2\n",
        "\n",
        "train = data_model_2.training\n",
        "holdout_val = data_model_2.test[1] #holdout\n",
        "data_indexing_tv = data_model_2.index\n",
        "\n"
      ],
      "metadata": {
        "colab": {
          "base_uri": "https://localhost:8080/"
        },
        "id": "RlUga8YOYjgT",
        "outputId": "23839550-4828-485a-a03c-566414994571"
      },
      "execution_count": 37,
      "outputs": [
        {
          "output_type": "stream",
          "name": "stdout",
          "text": [
            "Preparing data...\n",
            "Users are not uniformly ordered! Unable to split test set reliably.\n",
            "6 unique meme_id entities within 6 holdout interactions were filtered. Reason: not in the training data.\n",
            "Done.\n",
            "There are 69486 events in the training and 169 events in the holdout.\n",
            "Preparing data...\n",
            "Users are not uniformly ordered! Unable to split test set reliably.\n",
            "4 unique meme_id entities within 4 holdout interactions were filtered. Reason: not in the training data.\n",
            "Done.\n",
            "There are 69311 events in the training and 171 events in the holdout.\n"
          ]
        }
      ]
    },
    {
      "cell_type": "markdown",
      "source": [
        "## Random"
      ],
      "metadata": {
        "id": "JFRY_sy-GcLu"
      }
    },
    {
      "cell_type": "code",
      "source": [
        "data_description = dict(\n",
        "    users = train_val['chat_id'].name,\n",
        "    items = train_val['meme_id'].name,\n",
        "    feedback = 'reaction',\n",
        "    n_users = len(train_val['chat_id']),\n",
        "    n_items = len(train_val['meme_id']),\n",
        "    test_users = holdout_test[train_val['chat_id'].name].values\n",
        ")\n",
        "\n",
        "testset = data_description['test_users']\n",
        "seen_data = train_val[train_val.chat_id.isin(testset)]"
      ],
      "metadata": {
        "id": "wiTYtkg0F-dy"
      },
      "execution_count": 68,
      "outputs": []
    },
    {
      "cell_type": "code",
      "source": [
        "print(f'train size = {train.shape[0]}, val size = {holdout_val.shape[0]}, test size = {holdout_test.shape[0]}')"
      ],
      "metadata": {
        "colab": {
          "base_uri": "https://localhost:8080/"
        },
        "id": "e41Kx37CHXS3",
        "outputId": "cb0ab978-71b3-4e9d-ca38-7ea866485555"
      },
      "execution_count": 72,
      "outputs": [
        {
          "output_type": "stream",
          "name": "stdout",
          "text": [
            "train size = 69311, val size = 171, test size = 169\n"
          ]
        }
      ]
    },
    {
      "cell_type": "code",
      "source": [
        "scores = np.random.uniform(0,1, (holdout_test.chat_id.nunique(), train_val.meme_id.nunique()))\n",
        "\n",
        "downvote_seen_items(np.array(scores), seen_data, data_description)\n",
        "recs = topn_recommendations(np.array(scores), topn=10)\n",
        "\n",
        "hr, mrr, cov = model_evaluate(recs, holdout_test, data_description,  topn=10)\n",
        "print('--------test--------')\n",
        "print(f'HR={hr}, MRR={mrr}, COV={cov}')"
      ],
      "metadata": {
        "colab": {
          "base_uri": "https://localhost:8080/"
        },
        "id": "7oi4GTXiF4T3",
        "outputId": "8543ed97-6bce-42f7-e00a-22d59532d204"
      },
      "execution_count": 102,
      "outputs": [
        {
          "output_type": "stream",
          "name": "stdout",
          "text": [
            "--------test--------\n",
            "HR=0.005917159763313609, MRR=0.0029585798816568047, COV=0.02111216647957862\n"
          ]
        }
      ]
    },
    {
      "cell_type": "markdown",
      "source": [
        "## Popularity"
      ],
      "metadata": {
        "id": "e-KDT-TaJqoe"
      }
    },
    {
      "cell_type": "code",
      "source": [
        "popularity = train_val[train_val['reaction'] == 1].meme_id.value_counts()\n",
        "top10 = list(popularity[:10].keys())"
      ],
      "metadata": {
        "id": "p806fgLEJpvp"
      },
      "execution_count": 125,
      "outputs": []
    },
    {
      "cell_type": "code",
      "source": [
        "top10"
      ],
      "metadata": {
        "colab": {
          "base_uri": "https://localhost:8080/"
        },
        "id": "3CNJxJyvKc82",
        "outputId": "a1337bd2-51fe-4c6c-80ef-1f5cbf5d4991"
      },
      "execution_count": 126,
      "outputs": [
        {
          "output_type": "execute_result",
          "data": {
            "text/plain": [
              "[33, 31, 2201, 6, 1946, 4324, 51, 4297, 2490, 182]"
            ]
          },
          "metadata": {},
          "execution_count": 126
        }
      ]
    },
    {
      "cell_type": "code",
      "source": [
        "one_score = np.zeros(train_val.meme_id.nunique())\n",
        "one_score[top10] = 1\n",
        "\n",
        "scores = [one_score for i in range(holdout_test.chat_id.nunique())]\n",
        "scores = np.array(scores)"
      ],
      "metadata": {
        "id": "A6ynJXXbKeKQ"
      },
      "execution_count": 127,
      "outputs": []
    },
    {
      "cell_type": "code",
      "source": [
        "scores.shape"
      ],
      "metadata": {
        "colab": {
          "base_uri": "https://localhost:8080/"
        },
        "id": "05LWD_qMK_Jv",
        "outputId": "e47c48b2-77e2-42a1-ec4c-ffd01711f3d6"
      },
      "execution_count": 128,
      "outputs": [
        {
          "output_type": "execute_result",
          "data": {
            "text/plain": [
              "(169, 6234)"
            ]
          },
          "metadata": {},
          "execution_count": 128
        }
      ]
    },
    {
      "cell_type": "code",
      "source": [
        "downvote_seen_items(np.array(scores), seen_data, data_description)\n",
        "recs = topn_recommendations(np.array(scores), topn=10)\n",
        "\n",
        "hr, mrr, cov = model_evaluate(recs, holdout_test, data_description,  topn=10)\n",
        "print('--------test--------')\n",
        "print(f'HR={hr}, MRR={mrr}, COV={cov}')"
      ],
      "metadata": {
        "colab": {
          "base_uri": "https://localhost:8080/"
        },
        "id": "bqEVaIUuKzg3",
        "outputId": "b01843bf-80bb-4551-e5a0-da2bb7147a7c"
      },
      "execution_count": 129,
      "outputs": [
        {
          "output_type": "stream",
          "name": "stdout",
          "text": [
            "--------test--------\n",
            "HR=0.1301775147928994, MRR=0.015053536207382362, COV=0.00014391388193305126\n"
          ]
        }
      ]
    },
    {
      "cell_type": "code",
      "source": [
        ""
      ],
      "metadata": {
        "id": "MR-Gh68K9WHJ"
      },
      "execution_count": null,
      "outputs": []
    }
  ],
  "metadata": {
    "colab": {
      "name": "Random_and_popularity.ipynb",
      "provenance": [],
      "collapsed_sections": []
    },
    "kernelspec": {
      "display_name": "Python 3 (ipykernel)",
      "language": "python",
      "name": "python3"
    },
    "language_info": {
      "codemirror_mode": {
        "name": "ipython",
        "version": 3
      },
      "file_extension": ".py",
      "mimetype": "text/x-python",
      "name": "python",
      "nbconvert_exporter": "python",
      "pygments_lexer": "ipython3",
      "version": "3.7.4"
    }
  },
  "nbformat": 4,
  "nbformat_minor": 0
}